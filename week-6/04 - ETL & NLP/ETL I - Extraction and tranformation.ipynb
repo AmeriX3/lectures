{
 "cells": [
  {
   "cell_type": "markdown",
   "id": "sporting-delta",
   "metadata": {},
   "source": [
    "# <center>📦🧹🔍ETL 🔍🧹📦<center>"
   ]
  },
  {
   "cell_type": "markdown",
   "id": "different-luxembourg",
   "metadata": {
    "toc": true
   },
   "source": [
    "<h1>Table of Contents<span class=\"tocSkip\"></span></h1>\n",
    "<div class=\"toc\"><ul class=\"toc-item\"><li><span><a href=\"#What-does-ETL-stand-for?\" data-toc-modified-id=\"What-does-ETL-stand-for?-1\"><span class=\"toc-item-num\">1&nbsp;&nbsp;</span>What does ETL stand for?</a></span></li><li><span><a href=\"#What-are-we-going-to-do?\" data-toc-modified-id=\"What-are-we-going-to-do?-2\"><span class=\"toc-item-num\">2&nbsp;&nbsp;</span>What are we going to do?</a></span></li><li><span><a href=\"#We-import-libraries\" data-toc-modified-id=\"We-import-libraries-3\"><span class=\"toc-item-num\">3&nbsp;&nbsp;</span>We import libraries</a></span></li><li><span><a href=\"#Mission-1\" data-toc-modified-id=\"Mission-1-4\"><span class=\"toc-item-num\">4&nbsp;&nbsp;</span>Mission 1</a></span></li><li><span><a href=\"#Spotify-token\" data-toc-modified-id=\"Spotify-token-5\"><span class=\"toc-item-num\">5&nbsp;&nbsp;</span>Spotify token</a></span></li><li><span><a href=\"#We-save-the-token-in-our-.env\" data-toc-modified-id=\"We-save-the-token-in-our-.env-6\"><span class=\"toc-item-num\">6&nbsp;&nbsp;</span>We save the token in our .env</a></span></li><li><span><a href=\"#📚-Recap-so-far:\" data-toc-modified-id=\"📚-Recap-so-far:-7\"><span class=\"toc-item-num\">7&nbsp;&nbsp;</span>📚 Recap so far:</a></span></li><li><span><a href=\"#Mission-2\" data-toc-modified-id=\"Mission-2-8\"><span class=\"toc-item-num\">8&nbsp;&nbsp;</span>Mission 2</a></span><ul class=\"toc-item\"><li><span><a href=\"#Spotify-API-call\" data-toc-modified-id=\"Spotify-API-call-8.1\"><span class=\"toc-item-num\">8.1&nbsp;&nbsp;</span>Spotify API call</a></span><ul class=\"toc-item\"><li><span><a href=\"#We-need-token-and-headers\" data-toc-modified-id=\"We-need-token-and-headers-8.1.1\"><span class=\"toc-item-num\">8.1.1&nbsp;&nbsp;</span>We need token and headers</a></span></li><li><span><a href=\"#Url-+-endpoint\" data-toc-modified-id=\"Url-+-endpoint-8.1.2\"><span class=\"toc-item-num\">8.1.2&nbsp;&nbsp;</span>Url + endpoint</a></span></li><li><span><a href=\"#We-make-the-request\" data-toc-modified-id=\"We-make-the-request-8.1.3\"><span class=\"toc-item-num\">8.1.3&nbsp;&nbsp;</span>We make the request</a></span></li></ul></li><li><span><a href=\"#Let's-try-to-get-ALL-the-songs\" data-toc-modified-id=\"Let's-try-to-get-ALL-the-songs-8.2\"><span class=\"toc-item-num\">8.2&nbsp;&nbsp;</span>Let's try to get ALL the songs</a></span><ul class=\"toc-item\"><li><span><a href=\"#Cool-function-to-extract-info-from-dictionaries\" data-toc-modified-id=\"Cool-function-to-extract-info-from-dictionaries-8.2.1\"><span class=\"toc-item-num\">8.2.1&nbsp;&nbsp;</span>Cool function to extract info from dictionaries</a></span></li></ul></li><li><span><a href=\"#We're-taking-it-to-Pandas!-🐼\" data-toc-modified-id=\"We're-taking-it-to-Pandas!-🐼-8.3\"><span class=\"toc-item-num\">8.3&nbsp;&nbsp;</span>We're taking it to Pandas! 🐼</a></span></li></ul></li><li><span><a href=\"#We-automate-processes\" data-toc-modified-id=\"We-automate-processes-9\"><span class=\"toc-item-num\">9&nbsp;&nbsp;</span>We automate processes</a></span></li><li><span><a href=\"#Mission-3\" data-toc-modified-id=\"Mission-3-10\"><span class=\"toc-item-num\">10&nbsp;&nbsp;</span>Mission 3</a></span></li><li><span><a href=\"#We-extract-lyrics-from-the-songs!\" data-toc-modified-id=\"We-extract-lyrics-from-the-songs!-11\"><span class=\"toc-item-num\">11&nbsp;&nbsp;</span>We extract lyrics from the songs!</a></span><ul class=\"toc-item\"><li><span><a href=\"#We-need-to-create-the-KEYs-for-this-library\" data-toc-modified-id=\"We-need-to-create-the-KEYs-for-this-library-11.1\"><span class=\"toc-item-num\">11.1&nbsp;&nbsp;</span>We need to create the KEYs for this library</a></span></li><li><span><a href=\"#Since-the-library-needs-the-keys,-we-get-them-out-of-the-.env\" data-toc-modified-id=\"Since-the-library-needs-the-keys,-we-get-them-out-of-the-.env-11.2\"><span class=\"toc-item-num\">11.2&nbsp;&nbsp;</span>Since the library needs the keys, we get them out of the .env</a></span></li><li><span><a href=\"#store-it-in-a-variable\" data-toc-modified-id=\"store-it-in-a-variable-11.3\"><span class=\"toc-item-num\">11.3&nbsp;&nbsp;</span>store it in a variable</a></span></li><li><span><a href=\"#We-are-looking-for-some-lyrics\" data-toc-modified-id=\"We-are-looking-for-some-lyrics-11.4\"><span class=\"toc-item-num\">11.4&nbsp;&nbsp;</span>We are looking for some lyrics</a></span></li><li><span><a href=\"#Many-lyrics!!\" data-toc-modified-id=\"Many-lyrics!!-11.5\"><span class=\"toc-item-num\">11.5&nbsp;&nbsp;</span>Many lyrics!!</a></span></li><li><span><a href=\"#We-fix-the-Users-that-are-wrong\" data-toc-modified-id=\"We-fix-the-Users-that-are-wrong-11.6\"><span class=\"toc-item-num\">11.6&nbsp;&nbsp;</span>We fix the Users that are wrong</a></span></li><li><span><a href=\"#Create-a-new-column-with-the-letters\" data-toc-modified-id=\"Create-a-new-column-with-the-letters-11.7\"><span class=\"toc-item-num\">11.7&nbsp;&nbsp;</span>Create a new column with the letters</a></span></li></ul></li></ul></div>"
   ]
  },
  {
   "cell_type": "markdown",
   "id": "sixth-transparency",
   "metadata": {},
   "source": [
    "![data](https://media.giphy.com/media/xT9C25UNTwfZuk85WP/giphy.gif)"
   ]
  },
  {
   "cell_type": "markdown",
   "id": "38d2da58",
   "metadata": {
    "lang": "en"
   },
   "source": [
    "# Process to follow during the 3 jupyter notebook\n",
    "**Jupyter ETL I - Extraction and transformation**\n",
    "\n",
    "* I get spotify token\n",
    "* I make request to the API:\n",
    "    - Be careful if the lists have more than 100 songs\n",
    "    - Functions that automate the process\n",
    "* I get the lyrics of the songs (enrichment) with another library\n",
    "\n",
    "**Jupyter ETL II - Loading**\n",
    "\n",
    "* I connect with the databases\n",
    "* I create my schema in MySQL\n",
    "* I clean the data a bit\n",
    "* Check functions before putting my data in the database\n",
    "* I load my data to MySQL\n",
    "* I export json to load it in MongoDB\n",
    "\n",
    "**Jupyter NLP**\n",
    "* I get the data I want from the databases\n",
    "* Tokenize and remove stop words\n",
    "* I do Sentiment Analysis with the libraries\n",
    "* draw conclusions"
   ]
  },
  {
   "cell_type": "markdown",
   "id": "15697289",
   "metadata": {
    "lang": "en"
   },
   "source": [
    "## What does ETL stand for?\n",
    "**Extract**, **Transform** and **Load** is the process that enables organizations to move data from multiple sources, reformat and cleanse it, and load it into another database, data mart, or data warehouse to analyze, or in another operational system to support a business process."
   ]
  },
  {
   "cell_type": "markdown",
   "id": "32b06979",
   "metadata": {
    "lang": "en"
   },
   "source": [
    "## What are we going to do?\n",
    "- Learn to use the Spotify API with Oauth\n",
    "- Extract data from said API\n",
    "- Clean and transform them\n",
    "- Enrich them\n",
    "- Save them in different databases\n",
    "- Make queries to do sentiment analysis with NLP libraries"
   ]
  },
  {
   "cell_type": "markdown",
   "id": "1fd8254e",
   "metadata": {
    "lang": "en"
   },
   "source": [
    "## We import libraries"
   ]
  },
  {
   "cell_type": "code",
   "execution_count": 1,
   "id": "statutory-shirt",
   "metadata": {},
   "outputs": [
    {
     "data": {
      "text/plain": [
       "True"
      ]
     },
     "execution_count": 1,
     "metadata": {},
     "output_type": "execute_result"
    }
   ],
   "source": [
    "import os\n",
    "import json\n",
    "import requests\n",
    "from dotenv import load_dotenv\n",
    "load_dotenv()"
   ]
  },
  {
   "cell_type": "markdown",
   "id": "d1eb77e7",
   "metadata": {
    "lang": "en"
   },
   "source": [
    "## Mission 1\n",
    " # <center> Obtain the Spotify token to use its API 🗝</center>"
   ]
  },
  {
   "cell_type": "markdown",
   "id": "9b5d57d3",
   "metadata": {
    "lang": "en"
   },
   "source": [
    "## Spotify token\n",
    "https://developer.spotify.com/dashboard/login\n",
    "We need to have the CLIENT_ID and SECRET_ID tokens, and we store them in the `.env`.\n",
    "\n",
    "\n",
    "1. Sign up as a devloper\n",
    "2. Create an APP/project on spotify\n",
    "3. Get client_id & client_secret\n",
    "\n",
    "To call the spotify api and get the token that will allow us to make a request, we are going to have to save a few variables.\n",
    "Read the [Documentation](https://developer.spotify.com/documentation/general/guides/authorization-guide/)"
   ]
  },
  {
   "cell_type": "code",
   "execution_count": 7,
   "id": "tracked-performance",
   "metadata": {},
   "outputs": [
    {
     "name": "stderr",
     "output_type": "stream",
     "text": [
      "/usr/local/Caskroom/miniconda/base/envs/ironhack/lib/python3.8/site-packages/urllib3/connectionpool.py:1013: InsecureRequestWarning: Unverified HTTPS request is being made to host 'accounts.spotify.com'. Adding certificate verification is strongly advised. See: https://urllib3.readthedocs.io/en/1.26.x/advanced-usage.html#ssl-warnings\n",
      "  warnings.warn(\n"
     ]
    }
   ],
   "source": [
    "# Authentication\n",
    "CLIENT_ID=os.getenv(\"CLIENT_ID\")\n",
    "CLIENT_SECRET=os.getenv(\"CLIENT_SECRET\")\n",
    "\n",
    "#Scope of the token\n",
    "body_params={'grant_type':'client_credentials'}\n",
    "\n",
    "\n",
    "#Url where we get the token\n",
    "url='https://accounts.spotify.com/api/token'\n",
    "\n",
    "#The request\n",
    "response = requests.post(url, data=body_params, auth = (CLIENT_ID, CLIENT_SECRET), verify=False)"
   ]
  },
  {
   "cell_type": "code",
   "execution_count": 27,
   "id": "southwest-courtesy",
   "metadata": {},
   "outputs": [],
   "source": [
    "#response.content"
   ]
  },
  {
   "cell_type": "code",
   "execution_count": 15,
   "id": "55137bcb",
   "metadata": {},
   "outputs": [],
   "source": [
    "#response.json()[\"access_token\"]"
   ]
  },
  {
   "cell_type": "code",
   "execution_count": 12,
   "id": "corrected-macintosh",
   "metadata": {},
   "outputs": [],
   "source": [
    "token = json.loads(response.text)"
   ]
  },
  {
   "cell_type": "markdown",
   "id": "fa31e2eb",
   "metadata": {
    "lang": "en"
   },
   "source": [
    "We are going to write all this in a function because, as we have seen, the token expires and so we can call it whenever we want and reuse it. This is what functions are for!"
   ]
  },
  {
   "cell_type": "code",
   "execution_count": 17,
   "id": "final-silence",
   "metadata": {},
   "outputs": [],
   "source": [
    "def spotifyToken():\n",
    "    \"\"\"\n",
    "    Esta función hace una request a spotify para conseguir \n",
    "    el token que vamos a necesitar para hacer request y que nos dé información la api\n",
    "    \"\"\"\n",
    "    # Autenticación\n",
    "    CLIENT_ID=os.getenv(\"CLIENT_ID\")\n",
    "    CLIENT_SECRET=os.getenv(\"CLIENT_SECRET\")\n",
    "    #Scope del token\n",
    "    body_params={'grant_type':'client_credentials'}\n",
    "\n",
    "    #Url a la que pedimos el token\n",
    "    url='https://accounts.spotify.com/api/token'\n",
    "\n",
    "    #La request\n",
    "    response = requests.post(url, data=body_params, auth = (CLIENT_ID, CLIENT_SECRET), verify=False).json()\n",
    "    return response[\"access_token\"]"
   ]
  },
  {
   "cell_type": "code",
   "execution_count": 31,
   "id": "dirty-cornell",
   "metadata": {},
   "outputs": [
    {
     "name": "stderr",
     "output_type": "stream",
     "text": [
      "/usr/local/Caskroom/miniconda/base/envs/ironhack/lib/python3.8/site-packages/urllib3/connectionpool.py:1013: InsecureRequestWarning: Unverified HTTPS request is being made to host 'accounts.spotify.com'. Adding certificate verification is strongly advised. See: https://urllib3.readthedocs.io/en/1.26.x/advanced-usage.html#ssl-warnings\n",
      "  warnings.warn(\n"
     ]
    }
   ],
   "source": [
    "token = spotifyToken()"
   ]
  },
  {
   "cell_type": "code",
   "execution_count": 33,
   "id": "supreme-proportion",
   "metadata": {},
   "outputs": [],
   "source": [
    "#token"
   ]
  },
  {
   "cell_type": "markdown",
   "id": "9f3bb6d5",
   "metadata": {
    "lang": "en"
   },
   "source": [
    "## We save the token in our .env"
   ]
  },
  {
   "cell_type": "code",
   "execution_count": 22,
   "id": "corresponding-yellow",
   "metadata": {},
   "outputs": [],
   "source": [
    "file = open(\"../.env\",\"a\")\n",
    "file.write(\"\\n\")\n",
    "file.write(f\"token_spotify={token}\")\n",
    "file.close()"
   ]
  },
  {
   "cell_type": "markdown",
   "id": "de68e569",
   "metadata": {
    "lang": "en"
   },
   "source": [
    "We make a function that does the same thing to be able to reuse it"
   ]
  },
  {
   "cell_type": "code",
   "execution_count": 23,
   "id": "obvious-diary",
   "metadata": {},
   "outputs": [],
   "source": [
    "def salva_env(nombre,key):\n",
    "    filae = open(\"../.env\",\"a\")\n",
    "    file.write(\"\\n\")\n",
    "    file.write(f\"{nombre}={key}\")\n",
    "    file.close()"
   ]
  },
  {
   "cell_type": "code",
   "execution_count": 25,
   "id": "several-conservative",
   "metadata": {},
   "outputs": [
    {
     "name": "stderr",
     "output_type": "stream",
     "text": [
      "/usr/local/Caskroom/miniconda/base/envs/ironhack/lib/python3.8/site-packages/urllib3/connectionpool.py:1013: InsecureRequestWarning: Unverified HTTPS request is being made to host 'accounts.spotify.com'. Adding certificate verification is strongly advised. See: https://urllib3.readthedocs.io/en/1.26.x/advanced-usage.html#ssl-warnings\n",
      "  warnings.warn(\n"
     ]
    }
   ],
   "source": [
    "salva_env(\"spotify\", spotifyToken())"
   ]
  },
  {
   "cell_type": "markdown",
   "id": "67d00804",
   "metadata": {
    "lang": "en"
   },
   "source": [
    "## 📚 Recap so far:\n",
    "\n",
    "**What we have done**\n",
    "- 1. We get our Spotify authentication\n",
    "- 2. With that, we get our spotify `token`\n",
    "- 3. We save the `token` in the .env <br>\n",
    "<br>\n",
    "\n",
    "**To remember**\n",
    "\n",
    "- **CLIENT_ID** & **CLIENT_SECRET** is just a means to get the `token`, not the authentication itself.\n",
    "- The `token` expires"
   ]
  },
  {
   "cell_type": "markdown",
   "id": "97f31804",
   "metadata": {
    "lang": "en"
   },
   "source": [
    "## Mission 2\n",
    " # <center> Get the list of songs and artists from the Spotify API 🔥</center>\n",
    "But let's not forget about the [documentation](https://developer.spotify.com/console/)\n",
    "The first thing we are going to do is make an API call\n",
    "Let's remember the syntax:\n",
    "\n",
    "       \n",
    "`request.get(url, headers)`"
   ]
  },
  {
   "cell_type": "markdown",
   "id": "6cc165e5",
   "metadata": {
    "lang": "en"
   },
   "source": [
    "### Spotify API call"
   ]
  },
  {
   "cell_type": "markdown",
   "id": "107e66e6",
   "metadata": {
    "lang": "en"
   },
   "source": [
    "#### We need token and headers"
   ]
  },
  {
   "cell_type": "code",
   "execution_count": 59,
   "id": "continuous-language",
   "metadata": {},
   "outputs": [],
   "source": [
    "headers = {'Authorization': f\"Bearer {token}\"}"
   ]
  },
  {
   "cell_type": "markdown",
   "id": "727f5922",
   "metadata": {
    "lang": "en"
   },
   "source": [
    "We take the ID of the list of the share link that comes out in spotify (Link of the song)\n",
    "https://open.spotify.com/playlist/5sB0ax3cmVacFjgkZMLPWx?si=c67e9a4629214587\n",
    "\n",
    "https://open.spotify.com/track/5Q27cpHUDQPttnB0xH7oBh?si=0f3cd50faf064282"
   ]
  },
  {
   "cell_type": "markdown",
   "id": "exterior-gibraltar",
   "metadata": {},
   "source": [
    "#### Url + endpoint"
   ]
  },
  {
   "cell_type": "code",
   "execution_count": 39,
   "id": "operating-fleece",
   "metadata": {},
   "outputs": [],
   "source": [
    "url_base = \"https://api.spotify.com/v1/playlists/\""
   ]
  },
  {
   "cell_type": "code",
   "execution_count": 40,
   "id": "a1f819f0",
   "metadata": {},
   "outputs": [],
   "source": [
    "id_lista = \"5sB0ax3cmVacFjgkZMLPWx\""
   ]
  },
  {
   "cell_type": "markdown",
   "id": "284837b0",
   "metadata": {
    "lang": "en"
   },
   "source": [
    "The ID of the list from which we want to make the request"
   ]
  },
  {
   "cell_type": "code",
   "execution_count": 41,
   "id": "experienced-fancy",
   "metadata": {},
   "outputs": [],
   "source": [
    "query = url_base + id_lista"
   ]
  },
  {
   "cell_type": "markdown",
   "id": "bd0188c5",
   "metadata": {
    "lang": "en"
   },
   "source": [
    "#### We make the request"
   ]
  },
  {
   "cell_type": "code",
   "execution_count": 52,
   "id": "signed-vampire",
   "metadata": {},
   "outputs": [],
   "source": [
    "response = requests.get(query, headers=headers).json()"
   ]
  },
  {
   "cell_type": "code",
   "execution_count": 53,
   "id": "honest-partner",
   "metadata": {},
   "outputs": [],
   "source": [
    "#response"
   ]
  },
  {
   "cell_type": "markdown",
   "id": "fe7320b8",
   "metadata": {
    "lang": "en"
   },
   "source": [
    "### Let's try to get ALL the songs"
   ]
  },
  {
   "cell_type": "code",
   "execution_count": 65,
   "id": "7a936ddb",
   "metadata": {},
   "outputs": [],
   "source": [
    "headers2 = {'Authorization': f\"Bearer {token}\"}"
   ]
  },
  {
   "cell_type": "code",
   "execution_count": 66,
   "id": "02cc0a75",
   "metadata": {},
   "outputs": [],
   "source": [
    "url2 = \"https://api.spotify.com/v1/playlists/5sB0ax3cmVacFjgkZMLPWx/tracks?offset=99\""
   ]
  },
  {
   "cell_type": "code",
   "execution_count": 67,
   "id": "5c472b5d",
   "metadata": {},
   "outputs": [],
   "source": [
    "resp_2 = requests.get(url2, headers=headers2).json()"
   ]
  },
  {
   "cell_type": "code",
   "execution_count": 68,
   "id": "bc78d415",
   "metadata": {},
   "outputs": [],
   "source": [
    "#resp_2[\"tracks\"][\"\"]"
   ]
  },
  {
   "cell_type": "code",
   "execution_count": 2,
   "id": "17c1fd0f",
   "metadata": {
    "lang": "en"
   },
   "outputs": [],
   "source": [
    "### We face the json of the response"
   ]
  },
  {
   "cell_type": "code",
   "execution_count": 54,
   "id": "present-township",
   "metadata": {},
   "outputs": [],
   "source": [
    "import pyjsonviewer"
   ]
  },
  {
   "cell_type": "code",
   "execution_count": 111,
   "id": "pretty-people",
   "metadata": {},
   "outputs": [],
   "source": [
    "pyjsonviewer.view_data(json_data=response)"
   ]
  },
  {
   "cell_type": "code",
   "execution_count": null,
   "id": "2a267818",
   "metadata": {
    "lang": "en"
   },
   "outputs": [],
   "source": [
    "# Thanks to this library we see that the information of each song is in \"tracks/items\""
   ]
  },
  {
   "cell_type": "markdown",
   "id": "34554033",
   "metadata": {
    "lang": "en"
   },
   "source": [
    "#### Cool function to extract info from dictionaries"
   ]
  },
  {
   "cell_type": "code",
   "execution_count": 70,
   "id": "8f45b78d",
   "metadata": {},
   "outputs": [],
   "source": [
    "from functools import reduce\n",
    "import operator\n",
    "def getFromDict(diccionario,mapa):\n",
    "    return reduce(operator.getitem,mapa,diccionario)"
   ]
  },
  {
   "cell_type": "code",
   "execution_count": 92,
   "id": "607e1783",
   "metadata": {},
   "outputs": [],
   "source": []
  },
  {
   "cell_type": "code",
   "execution_count": 93,
   "id": "revolutionary-brunei",
   "metadata": {},
   "outputs": [
    {
     "data": {
      "text/plain": [
       "[{'external_urls': {'spotify': 'https://open.spotify.com/artist/5TYxZTjIPqKM8K8NuP9woO'},\n",
       "  'href': 'https://api.spotify.com/v1/artists/5TYxZTjIPqKM8K8NuP9woO',\n",
       "  'id': '5TYxZTjIPqKM8K8NuP9woO',\n",
       "  'name': 'C. Tangana',\n",
       "  'type': 'artist',\n",
       "  'uri': 'spotify:artist:5TYxZTjIPqKM8K8NuP9woO'},\n",
       " {'external_urls': {'spotify': 'https://open.spotify.com/artist/5TDssiSO1YPd3BINGZx3XP'},\n",
       "  'href': 'https://api.spotify.com/v1/artists/5TDssiSO1YPd3BINGZx3XP',\n",
       "  'id': '5TDssiSO1YPd3BINGZx3XP',\n",
       "  'name': 'Kiko Veneno',\n",
       "  'type': 'artist',\n",
       "  'uri': 'spotify:artist:5TDssiSO1YPd3BINGZx3XP'}]"
      ]
     },
     "execution_count": 93,
     "metadata": {},
     "output_type": "execute_result"
    }
   ],
   "source": [
    "response[\"tracks\"][\"items\"][32][\"track\"][\"artists\"]"
   ]
  },
  {
   "cell_type": "markdown",
   "id": "adcc9922",
   "metadata": {
    "lang": "en"
   },
   "source": [
    "We have realized that the second json was different because of the offset and it did not give us the data of the list nor did it have the \"tracks\" section, therefore, I have tuned the function"
   ]
  },
  {
   "cell_type": "code",
   "execution_count": 94,
   "id": "696dcaeb",
   "metadata": {},
   "outputs": [],
   "source": [
    "def extraetodo2(json_total, json_offset):\n",
    "    comun = {\"id_lista\": [\"id\"], \"nombre_lista\": [\"name\"]}\n",
    "    mapas = {\"nombre\": [\"track\", \"name\"], \"ironhacker\": [\"added_by\", \"id\"]}\n",
    "    total = []\n",
    "    for elemento in json_offset[\"items\"]:\n",
    "        track = {key:getFromDict(elemento, value) for key, value in mapas.items()}\n",
    "        artistas = getFromDict(elemento, [\"track\", \"artists\"])\n",
    "        track[\"artista\"] = [diccionario[\"name\"] for diccionario in artistas]\n",
    "        track.update({key:getFromDict(json_total, value) for key,value in comun.items()})\n",
    "        total.append(track)\n",
    "    return total"
   ]
  },
  {
   "cell_type": "code",
   "execution_count": 97,
   "id": "bce50216",
   "metadata": {},
   "outputs": [],
   "source": [
    "#extraetodo2(response, resp_2)"
   ]
  },
  {
   "cell_type": "markdown",
   "id": "e6818c88",
   "metadata": {
    "lang": "en"
   },
   "source": [
    "### We're taking it to Pandas! 🐼\n",
    "How? Easy...."
   ]
  },
  {
   "cell_type": "code",
   "execution_count": 99,
   "id": "3bb7d21f",
   "metadata": {},
   "outputs": [],
   "source": [
    "datos_1 = extraetodo(response)"
   ]
  },
  {
   "cell_type": "code",
   "execution_count": 100,
   "id": "a81a6b18",
   "metadata": {},
   "outputs": [],
   "source": [
    "datos_1.extend(extraetodo2(response, resp_2))"
   ]
  },
  {
   "cell_type": "code",
   "execution_count": 101,
   "id": "732e2397",
   "metadata": {},
   "outputs": [
    {
     "data": {
      "text/plain": [
       "188"
      ]
     },
     "execution_count": 101,
     "metadata": {},
     "output_type": "execute_result"
    }
   ],
   "source": [
    "len(datos_1)"
   ]
  },
  {
   "cell_type": "code",
   "execution_count": 83,
   "id": "found-retail",
   "metadata": {},
   "outputs": [],
   "source": [
    "import pandas as pd"
   ]
  },
  {
   "cell_type": "code",
   "execution_count": 103,
   "id": "experimental-biotechnology",
   "metadata": {},
   "outputs": [
    {
     "data": {
      "text/html": [
       "<div>\n",
       "<style scoped>\n",
       "    .dataframe tbody tr th:only-of-type {\n",
       "        vertical-align: middle;\n",
       "    }\n",
       "\n",
       "    .dataframe tbody tr th {\n",
       "        vertical-align: top;\n",
       "    }\n",
       "\n",
       "    .dataframe thead th {\n",
       "        text-align: right;\n",
       "    }\n",
       "</style>\n",
       "<table border=\"1\" class=\"dataframe\">\n",
       "  <thead>\n",
       "    <tr style=\"text-align: right;\">\n",
       "      <th></th>\n",
       "      <th>nombre</th>\n",
       "      <th>ironhacker</th>\n",
       "      <th>artista</th>\n",
       "      <th>id_lista</th>\n",
       "      <th>nombre_lista</th>\n",
       "    </tr>\n",
       "  </thead>\n",
       "  <tbody>\n",
       "    <tr>\n",
       "      <th>183</th>\n",
       "      <td>Tiburon</td>\n",
       "      <td>lm3nw07nc8ibzjy9d2c43870v</td>\n",
       "      <td>[Proyecto Uno]</td>\n",
       "      <td>5sB0ax3cmVacFjgkZMLPWx</td>\n",
       "      <td>Ironhack 🚀🚀🚀</td>\n",
       "    </tr>\n",
       "    <tr>\n",
       "      <th>184</th>\n",
       "      <td>Magic Dance</td>\n",
       "      <td>06uk7op5esy3r1syhomrkoisw</td>\n",
       "      <td>[David Bowie]</td>\n",
       "      <td>5sB0ax3cmVacFjgkZMLPWx</td>\n",
       "      <td>Ironhack 🚀🚀🚀</td>\n",
       "    </tr>\n",
       "    <tr>\n",
       "      <th>185</th>\n",
       "      <td>Born To Hand Jive - From “Grease”</td>\n",
       "      <td>lm3nw07nc8ibzjy9d2c43870v</td>\n",
       "      <td>[Sha Na Na]</td>\n",
       "      <td>5sB0ax3cmVacFjgkZMLPWx</td>\n",
       "      <td>Ironhack 🚀🚀🚀</td>\n",
       "    </tr>\n",
       "    <tr>\n",
       "      <th>186</th>\n",
       "      <td>Blue (Da Ba Dee)</td>\n",
       "      <td>lm3nw07nc8ibzjy9d2c43870v</td>\n",
       "      <td>[Hit The Electro Beat]</td>\n",
       "      <td>5sB0ax3cmVacFjgkZMLPWx</td>\n",
       "      <td>Ironhack 🚀🚀🚀</td>\n",
       "    </tr>\n",
       "    <tr>\n",
       "      <th>187</th>\n",
       "      <td>If Ever I Would Leave You</td>\n",
       "      <td>lm3nw07nc8ibzjy9d2c43870v</td>\n",
       "      <td>[Robert Goulet]</td>\n",
       "      <td>5sB0ax3cmVacFjgkZMLPWx</td>\n",
       "      <td>Ironhack 🚀🚀🚀</td>\n",
       "    </tr>\n",
       "  </tbody>\n",
       "</table>\n",
       "</div>"
      ],
      "text/plain": [
       "                                nombre                 ironhacker  \\\n",
       "183                            Tiburon  lm3nw07nc8ibzjy9d2c43870v   \n",
       "184                        Magic Dance  06uk7op5esy3r1syhomrkoisw   \n",
       "185  Born To Hand Jive - From “Grease”  lm3nw07nc8ibzjy9d2c43870v   \n",
       "186                   Blue (Da Ba Dee)  lm3nw07nc8ibzjy9d2c43870v   \n",
       "187          If Ever I Would Leave You  lm3nw07nc8ibzjy9d2c43870v   \n",
       "\n",
       "                    artista                id_lista  nombre_lista  \n",
       "183          [Proyecto Uno]  5sB0ax3cmVacFjgkZMLPWx  Ironhack 🚀🚀🚀  \n",
       "184           [David Bowie]  5sB0ax3cmVacFjgkZMLPWx  Ironhack 🚀🚀🚀  \n",
       "185             [Sha Na Na]  5sB0ax3cmVacFjgkZMLPWx  Ironhack 🚀🚀🚀  \n",
       "186  [Hit The Electro Beat]  5sB0ax3cmVacFjgkZMLPWx  Ironhack 🚀🚀🚀  \n",
       "187         [Robert Goulet]  5sB0ax3cmVacFjgkZMLPWx  Ironhack 🚀🚀🚀  "
      ]
     },
     "execution_count": 103,
     "metadata": {},
     "output_type": "execute_result"
    }
   ],
   "source": [
    "data = pd.DataFrame(datos_1)\n",
    "data.tail()"
   ]
  },
  {
   "cell_type": "markdown",
   "id": "a1235eaa",
   "metadata": {
    "lang": "en"
   },
   "source": [
    "## We automate processes\n",
    "Everything that we are writing in lines of code, we can do it with functions, and that these functions help us to be able to do the same process with a couple of functions"
   ]
  },
  {
   "cell_type": "code",
   "execution_count": 104,
   "id": "loose-criminal",
   "metadata": {},
   "outputs": [],
   "source": [
    "def spotifyPlaylist(lista_id):\n",
    "    '''Esto devolverá la información de una determinada lista de reproducción de Spotify.\n",
    "    Args: playlist_id como string\n",
    "    Devuelve: json'''\n",
    "    token = spotifyToken()\n",
    "    headers = {'Authorization': f\"Bearer {token}\"}\n",
    "    url_base = \"https://api.spotify.com/v1/\"\n",
    "    endpoint=f\"playlists/{lista_id}\"\n",
    "    query = url_base + endpoint\n",
    "    response = requests.get(query, headers=headers).json()\n",
    "    return response"
   ]
  },
  {
   "cell_type": "code",
   "execution_count": 105,
   "id": "accomplished-telephone",
   "metadata": {},
   "outputs": [],
   "source": [
    "def extraetodo(json):\n",
    "    comun = {\"id_lista\": [\"id\"], \"nombre_lista\": [\"name\"]}\n",
    "    mapas = {\"nombre\": [\"track\", \"name\"], \"ironhacker\": [\"added_by\", \"id\"]}\n",
    "    total = []\n",
    "    for elemento in json[\"tracks\"][\"items\"]:\n",
    "        track = {key:getFromDict(elemento, value) for key, value in mapas.items()}\n",
    "        artistas = getFromDict(elemento, [\"track\", \"artists\"])\n",
    "        track[\"artista\"] = [diccionario[\"name\"] for diccionario in artistas]\n",
    "        track.update({key:getFromDict(json, value) for key,value in comun.items()})\n",
    "        total.append(track)\n",
    "    return pd.DataFrame(total)"
   ]
  },
  {
   "cell_type": "code",
   "execution_count": 106,
   "id": "fuzzy-kazakhstan",
   "metadata": {},
   "outputs": [],
   "source": [
    "def makeAll(playlist_id):\n",
    "    \"\"\"\n",
    "    Utiliza las dos funciones anteriores para recoger la información de la lista\n",
    "    y después devuelve el dataframe.\n",
    "    \"\"\"\n",
    "    playlist = spotifyPlaylist(playlist_id)\n",
    "    return extraetodo(playlist)"
   ]
  },
  {
   "cell_type": "code",
   "execution_count": null,
   "id": "a5e53fea",
   "metadata": {},
   "outputs": [],
   "source": [
    "https://open.spotify.com/playlist/5ob5XtHtsi29RUYlFLxnii?si=ba021e4b9a4941c4"
   ]
  },
  {
   "cell_type": "code",
   "execution_count": 109,
   "id": "found-zoning",
   "metadata": {},
   "outputs": [
    {
     "name": "stderr",
     "output_type": "stream",
     "text": [
      "/usr/local/Caskroom/miniconda/base/envs/ironhack/lib/python3.8/site-packages/urllib3/connectionpool.py:1013: InsecureRequestWarning: Unverified HTTPS request is being made to host 'accounts.spotify.com'. Adding certificate verification is strongly advised. See: https://urllib3.readthedocs.io/en/1.26.x/advanced-usage.html#ssl-warnings\n",
      "  warnings.warn(\n"
     ]
    }
   ],
   "source": [
    "lista = makeAll(\"5ob5XtHtsi29RUYlFLxnii\")"
   ]
  },
  {
   "cell_type": "code",
   "execution_count": 110,
   "id": "assisted-detection",
   "metadata": {},
   "outputs": [
    {
     "data": {
      "text/html": [
       "<div>\n",
       "<style scoped>\n",
       "    .dataframe tbody tr th:only-of-type {\n",
       "        vertical-align: middle;\n",
       "    }\n",
       "\n",
       "    .dataframe tbody tr th {\n",
       "        vertical-align: top;\n",
       "    }\n",
       "\n",
       "    .dataframe thead th {\n",
       "        text-align: right;\n",
       "    }\n",
       "</style>\n",
       "<table border=\"1\" class=\"dataframe\">\n",
       "  <thead>\n",
       "    <tr style=\"text-align: right;\">\n",
       "      <th></th>\n",
       "      <th>nombre</th>\n",
       "      <th>ironhacker</th>\n",
       "      <th>artista</th>\n",
       "      <th>id_lista</th>\n",
       "      <th>nombre_lista</th>\n",
       "    </tr>\n",
       "  </thead>\n",
       "  <tbody>\n",
       "    <tr>\n",
       "      <th>0</th>\n",
       "      <td>Rakata - Remix</td>\n",
       "      <td>ferqwertyuiop</td>\n",
       "      <td>[Moncho Chavea, Yotuel, Original Elias, C de C...</td>\n",
       "      <td>5ob5XtHtsi29RUYlFLxnii</td>\n",
       "      <td>casaTíaMaría</td>\n",
       "    </tr>\n",
       "    <tr>\n",
       "      <th>1</th>\n",
       "      <td>Seven Nation Army (feat. KOYSINA)</td>\n",
       "      <td>ferqwertyuiop</td>\n",
       "      <td>[Strange Fruits Music, DMNDS, Koosen, KOYSINA]</td>\n",
       "      <td>5ob5XtHtsi29RUYlFLxnii</td>\n",
       "      <td>casaTíaMaría</td>\n",
       "    </tr>\n",
       "    <tr>\n",
       "      <th>2</th>\n",
       "      <td>Calabria (feat. Lujavo &amp; Nito-Onna)</td>\n",
       "      <td>ferqwertyuiop</td>\n",
       "      <td>[Strange Fruits Music, DMNDS, Fallen Roses, Lu...</td>\n",
       "      <td>5ob5XtHtsi29RUYlFLxnii</td>\n",
       "      <td>casaTíaMaría</td>\n",
       "    </tr>\n",
       "    <tr>\n",
       "      <th>3</th>\n",
       "      <td>Tengo Un Trato - Remastered 2015</td>\n",
       "      <td>ferqwertyuiop</td>\n",
       "      <td>[Mala Rodríguez]</td>\n",
       "      <td>5ob5XtHtsi29RUYlFLxnii</td>\n",
       "      <td>casaTíaMaría</td>\n",
       "    </tr>\n",
       "    <tr>\n",
       "      <th>4</th>\n",
       "      <td>Snow Tha Product: Bzrp Music Sessions, Vol. 39</td>\n",
       "      <td>ferqwertyuiop</td>\n",
       "      <td>[Bizarrap, Snow Tha Product]</td>\n",
       "      <td>5ob5XtHtsi29RUYlFLxnii</td>\n",
       "      <td>casaTíaMaría</td>\n",
       "    </tr>\n",
       "  </tbody>\n",
       "</table>\n",
       "</div>"
      ],
      "text/plain": [
       "                                           nombre     ironhacker  \\\n",
       "0                                  Rakata - Remix  ferqwertyuiop   \n",
       "1               Seven Nation Army (feat. KOYSINA)  ferqwertyuiop   \n",
       "2             Calabria (feat. Lujavo & Nito-Onna)  ferqwertyuiop   \n",
       "3                Tengo Un Trato - Remastered 2015  ferqwertyuiop   \n",
       "4  Snow Tha Product: Bzrp Music Sessions, Vol. 39  ferqwertyuiop   \n",
       "\n",
       "                                             artista                id_lista  \\\n",
       "0  [Moncho Chavea, Yotuel, Original Elias, C de C...  5ob5XtHtsi29RUYlFLxnii   \n",
       "1     [Strange Fruits Music, DMNDS, Koosen, KOYSINA]  5ob5XtHtsi29RUYlFLxnii   \n",
       "2  [Strange Fruits Music, DMNDS, Fallen Roses, Lu...  5ob5XtHtsi29RUYlFLxnii   \n",
       "3                                   [Mala Rodríguez]  5ob5XtHtsi29RUYlFLxnii   \n",
       "4                       [Bizarrap, Snow Tha Product]  5ob5XtHtsi29RUYlFLxnii   \n",
       "\n",
       "   nombre_lista  \n",
       "0  casaTíaMaría  \n",
       "1  casaTíaMaría  \n",
       "2  casaTíaMaría  \n",
       "3  casaTíaMaría  \n",
       "4  casaTíaMaría  "
      ]
     },
     "execution_count": 110,
     "metadata": {},
     "output_type": "execute_result"
    }
   ],
   "source": [
    "lista.head()"
   ]
  },
  {
   "cell_type": "code",
   "execution_count": 115,
   "id": "ff357b86",
   "metadata": {},
   "outputs": [],
   "source": [
    "data.to_csv(\"todas_las_canciones.csv\")"
   ]
  },
  {
   "cell_type": "markdown",
   "id": "51e8af9c",
   "metadata": {
    "lang": "en"
   },
   "source": [
    "# 📚 Recap so far:\n",
    "\n",
    "**What we did**\n",
    "- 0. We call the spotify API with a request of the type post so that it gives me the token\n",
    "- 1. We made a call to the Spotify API: to get the list information\n",
    "- 2. We get only the songs and artists from the json\n",
    "- 3. We make functions that automate processes and reuse code\n",
    "- 4. We have a dataframe\n",
    "<br>\n",
    "\n",
    "**To remember**\n",
    "\n",
    "- Add the `.env` to the `.gitignore`."
   ]
  },
  {
   "cell_type": "markdown",
   "id": "0cd6d65c",
   "metadata": {
    "lang": "en"
   },
   "source": [
    "## Mission 3\n",
    " # <center> Get song lyrics with \"lyrics_extractor\"</center>\n",
    "## We extract lyrics from the songs!\n",
    "Lyrics extractor is a library that scribes some pages of song lyrics for us.\n",
    "We take a look at the [documentation](https://pypi.org/project/lyrics-extractor/) ALWAYS, especially the **Requirements** part that will explain the things we need to have for it to work .\n",
    "### We need to create the KEYs for this library\n",
    "1.1.1. **[First](https://cse.google.com/cse/create/new)**, create a custom search engine: select a website of letters to scrape. for example: www.genius.com <br>\n",
    "1.1.2. **Second**, `Edit your search engine > select your website > Copy your search engine ID`.\n",
    "You now have your **GCS_ENGINE_ID**<br>\n",
    "1.1.3. **[Then](https://developers.google.com/custom-search/v1/overview)**, `Get a key > Select project > copy search engine API key`. You now have your **GCS_API_KEY**."
   ]
  },
  {
   "cell_type": "code",
   "execution_count": 117,
   "id": "reflected-maryland",
   "metadata": {},
   "outputs": [],
   "source": [
    "from lyrics_extractor import SongLyrics"
   ]
  },
  {
   "cell_type": "code",
   "execution_count": 124,
   "id": "f29a51c6",
   "metadata": {},
   "outputs": [
    {
     "data": {
      "text/plain": [
       "True"
      ]
     },
     "execution_count": 124,
     "metadata": {},
     "output_type": "execute_result"
    }
   ],
   "source": [
    "load_dotenv()"
   ]
  },
  {
   "cell_type": "markdown",
   "id": "61a228f9",
   "metadata": {
    "lang": "en"
   },
   "source": [
    "### Since the library needs the keys, we get them out of the .env"
   ]
  },
  {
   "cell_type": "code",
   "execution_count": 125,
   "id": "advised-contrast",
   "metadata": {},
   "outputs": [],
   "source": [
    "GCS_API_KEY = os.getenv(\"GCS_API_KEY\")\n",
    "GCS_ENGINE_ID = os.getenv(\"GCS_ENGINE_ID\")"
   ]
  },
  {
   "cell_type": "markdown",
   "id": "b99e04df",
   "metadata": {
    "lang": "en"
   },
   "source": [
    "### store it in a variable\n",
    "We save the library in a variable by calling SongLyrics and passing it the keys"
   ]
  },
  {
   "cell_type": "code",
   "execution_count": 127,
   "id": "center-electric",
   "metadata": {},
   "outputs": [],
   "source": [
    "extract_lyrics = SongLyrics(GCS_API_KEY, GCS_ENGINE_ID)"
   ]
  },
  {
   "cell_type": "markdown",
   "id": "0cad806a",
   "metadata": {
    "lang": "en"
   },
   "source": [
    "### We are looking for some lyrics"
   ]
  },
  {
   "cell_type": "code",
   "execution_count": 136,
   "id": "passive-shock",
   "metadata": {},
   "outputs": [],
   "source": [
    "prueba = extract_lyrics.get_lyrics(\"Shape of You\")"
   ]
  },
  {
   "cell_type": "code",
   "execution_count": null,
   "id": "72e53ee4",
   "metadata": {
    "lang": "en"
   },
   "outputs": [],
   "source": [
    "# This library returns a dictionary from which we only want a specific value\n",
    "#test[\"lyrics\"]"
   ]
  },
  {
   "cell_type": "code",
   "execution_count": 138,
   "id": "developing-breeding",
   "metadata": {},
   "outputs": [],
   "source": [
    "#prueba[\"lyrics\"]"
   ]
  },
  {
   "cell_type": "markdown",
   "id": "b311c883",
   "metadata": {
    "lang": "en"
   },
   "source": [
    "### Many lyrics!!"
   ]
  },
  {
   "cell_type": "code",
   "execution_count": 1,
   "id": "liked-controversy",
   "metadata": {},
   "outputs": [],
   "source": [
    "import numpy as np\n",
    "def letras(temaso):\n",
    "    try:\n",
    "        letra = extract_lyrics.get_lyrics(temaso)\n",
    "        return letra[\"lyrics\"]\n",
    "    except:\n",
    "        np.nan"
   ]
  },
  {
   "cell_type": "markdown",
   "id": "27476150",
   "metadata": {
    "lang": "en"
   },
   "source": [
    "### We fix the Users that are wrong"
   ]
  },
  {
   "cell_type": "code",
   "execution_count": 139,
   "id": "final-explanation",
   "metadata": {},
   "outputs": [],
   "source": [
    "data = pd.read_csv(\"todas_las_canciones.csv\")"
   ]
  },
  {
   "cell_type": "code",
   "execution_count": 144,
   "id": "880ef286",
   "metadata": {},
   "outputs": [],
   "source": [
    "data.drop(columns=[\"Unnamed: 0\"], inplace=True)"
   ]
  },
  {
   "cell_type": "code",
   "execution_count": 145,
   "id": "concrete-miller",
   "metadata": {},
   "outputs": [
    {
     "data": {
      "text/html": [
       "<div>\n",
       "<style scoped>\n",
       "    .dataframe tbody tr th:only-of-type {\n",
       "        vertical-align: middle;\n",
       "    }\n",
       "\n",
       "    .dataframe tbody tr th {\n",
       "        vertical-align: top;\n",
       "    }\n",
       "\n",
       "    .dataframe thead th {\n",
       "        text-align: right;\n",
       "    }\n",
       "</style>\n",
       "<table border=\"1\" class=\"dataframe\">\n",
       "  <thead>\n",
       "    <tr style=\"text-align: right;\">\n",
       "      <th></th>\n",
       "      <th>nombre</th>\n",
       "      <th>ironhacker</th>\n",
       "      <th>artista</th>\n",
       "      <th>id_lista</th>\n",
       "      <th>nombre_lista</th>\n",
       "    </tr>\n",
       "  </thead>\n",
       "  <tbody>\n",
       "    <tr>\n",
       "      <th>0</th>\n",
       "      <td>Perra</td>\n",
       "      <td>1143571176</td>\n",
       "      <td>['Rigoberta Bandini']</td>\n",
       "      <td>5sB0ax3cmVacFjgkZMLPWx</td>\n",
       "      <td>Ironhack 🚀🚀🚀</td>\n",
       "    </tr>\n",
       "    <tr>\n",
       "      <th>1</th>\n",
       "      <td>Colectivo Nostalgia</td>\n",
       "      <td>1143571176</td>\n",
       "      <td>['La Maravillosa Orquesta del Alcohol']</td>\n",
       "      <td>5sB0ax3cmVacFjgkZMLPWx</td>\n",
       "      <td>Ironhack 🚀🚀🚀</td>\n",
       "    </tr>\n",
       "    <tr>\n",
       "      <th>2</th>\n",
       "      <td>Cumpleaños Feliz</td>\n",
       "      <td>1143571176</td>\n",
       "      <td>['Parchis']</td>\n",
       "      <td>5sB0ax3cmVacFjgkZMLPWx</td>\n",
       "      <td>Ironhack 🚀🚀🚀</td>\n",
       "    </tr>\n",
       "    <tr>\n",
       "      <th>3</th>\n",
       "      <td>Que se joda el viento</td>\n",
       "      <td>valledelkas018</td>\n",
       "      <td>['Marea']</td>\n",
       "      <td>5sB0ax3cmVacFjgkZMLPWx</td>\n",
       "      <td>Ironhack 🚀🚀🚀</td>\n",
       "    </tr>\n",
       "    <tr>\n",
       "      <th>4</th>\n",
       "      <td>Gravity</td>\n",
       "      <td>edurriva</td>\n",
       "      <td>['John Mayer']</td>\n",
       "      <td>5sB0ax3cmVacFjgkZMLPWx</td>\n",
       "      <td>Ironhack 🚀🚀🚀</td>\n",
       "    </tr>\n",
       "  </tbody>\n",
       "</table>\n",
       "</div>"
      ],
      "text/plain": [
       "                  nombre      ironhacker  \\\n",
       "0                  Perra      1143571176   \n",
       "1    Colectivo Nostalgia      1143571176   \n",
       "2       Cumpleaños Feliz      1143571176   \n",
       "3  Que se joda el viento  valledelkas018   \n",
       "4                Gravity        edurriva   \n",
       "\n",
       "                                   artista                id_lista  \\\n",
       "0                    ['Rigoberta Bandini']  5sB0ax3cmVacFjgkZMLPWx   \n",
       "1  ['La Maravillosa Orquesta del Alcohol']  5sB0ax3cmVacFjgkZMLPWx   \n",
       "2                              ['Parchis']  5sB0ax3cmVacFjgkZMLPWx   \n",
       "3                                ['Marea']  5sB0ax3cmVacFjgkZMLPWx   \n",
       "4                           ['John Mayer']  5sB0ax3cmVacFjgkZMLPWx   \n",
       "\n",
       "   nombre_lista  \n",
       "0  Ironhack 🚀🚀🚀  \n",
       "1  Ironhack 🚀🚀🚀  \n",
       "2  Ironhack 🚀🚀🚀  \n",
       "3  Ironhack 🚀🚀🚀  \n",
       "4  Ironhack 🚀🚀🚀  "
      ]
     },
     "execution_count": 145,
     "metadata": {},
     "output_type": "execute_result"
    }
   ],
   "source": [
    "data.head()"
   ]
  },
  {
   "cell_type": "code",
   "execution_count": 141,
   "id": "excellent-romantic",
   "metadata": {},
   "outputs": [
    {
     "data": {
      "text/plain": [
       "array(['1143571176', 'valledelkas018', 'edurriva', 'perinat',\n",
       "       'baccandres', 'dmfqkg5al92aldkj9pygau9ke', '1155460259',\n",
       "       '06uk7op5esy3r1syhomrkoisw', 'almahelguera', '11145453392',\n",
       "       '11152374629', 'tgr39393', 'soyungalgo', 'elliot.esposito',\n",
       "       'copia002', '1123496580', '21vw5u6wowte2ddqw3gsool2q',\n",
       "       'lm3nw07nc8ibzjy9d2c43870v', 'aky8zqi734ksim2kh7e5sfn90'],\n",
       "      dtype=object)"
      ]
     },
     "execution_count": 141,
     "metadata": {},
     "output_type": "execute_result"
    }
   ],
   "source": [
    "data.ironhacker.unique()"
   ]
  },
  {
   "cell_type": "code",
   "execution_count": 156,
   "id": "interior-maker",
   "metadata": {},
   "outputs": [],
   "source": [
    "usuarios = {\"1143571176\": \"Delás\", \"dmfqkg5al92aldkj9pygau9ke\": \"Rober\",\"1155460259\":\"Carlos\",  \"06uk7op5esy3r1syhomrkoisw\":\"Ester\",\"11145453392\":\"Pedro\", \"11152374629\":\"Alfon\", \"1123496580\":\"Juancho\", \"21vw5u6wowte2ddqw3gsool2q\":\"Nico\",\"lm3nw07nc8ibzjy9d2c43870v\":\"Jose\", \"aky8zqi734ksim2kh7e5sfn90\":\"Fer\"}"
   ]
  },
  {
   "cell_type": "code",
   "execution_count": 155,
   "id": "floral-ceremony",
   "metadata": {},
   "outputs": [
    {
     "data": {
      "text/html": [
       "<div>\n",
       "<style scoped>\n",
       "    .dataframe tbody tr th:only-of-type {\n",
       "        vertical-align: middle;\n",
       "    }\n",
       "\n",
       "    .dataframe tbody tr th {\n",
       "        vertical-align: top;\n",
       "    }\n",
       "\n",
       "    .dataframe thead th {\n",
       "        text-align: right;\n",
       "    }\n",
       "</style>\n",
       "<table border=\"1\" class=\"dataframe\">\n",
       "  <thead>\n",
       "    <tr style=\"text-align: right;\">\n",
       "      <th></th>\n",
       "      <th>nombre</th>\n",
       "      <th>ironhacker</th>\n",
       "      <th>artista</th>\n",
       "      <th>id_lista</th>\n",
       "      <th>nombre_lista</th>\n",
       "    </tr>\n",
       "  </thead>\n",
       "  <tbody>\n",
       "    <tr>\n",
       "      <th>175</th>\n",
       "      <td>I'll Fight</td>\n",
       "      <td>aky8zqi734ksim2kh7e5sfn90</td>\n",
       "      <td>['Wilco']</td>\n",
       "      <td>5sB0ax3cmVacFjgkZMLPWx</td>\n",
       "      <td>Ironhack 🚀🚀🚀</td>\n",
       "    </tr>\n",
       "    <tr>\n",
       "      <th>178</th>\n",
       "      <td>La última atrocidad</td>\n",
       "      <td>aky8zqi734ksim2kh7e5sfn90</td>\n",
       "      <td>['Nacho Vegas', 'Cristina Martinez']</td>\n",
       "      <td>5sB0ax3cmVacFjgkZMLPWx</td>\n",
       "      <td>Ironhack 🚀🚀🚀</td>\n",
       "    </tr>\n",
       "    <tr>\n",
       "      <th>181</th>\n",
       "      <td>Mazas y Catapultas</td>\n",
       "      <td>aky8zqi734ksim2kh7e5sfn90</td>\n",
       "      <td>['Kase.O', 'Rozalén']</td>\n",
       "      <td>5sB0ax3cmVacFjgkZMLPWx</td>\n",
       "      <td>Ironhack 🚀🚀🚀</td>\n",
       "    </tr>\n",
       "  </tbody>\n",
       "</table>\n",
       "</div>"
      ],
      "text/plain": [
       "                  nombre                 ironhacker  \\\n",
       "175           I'll Fight  aky8zqi734ksim2kh7e5sfn90   \n",
       "178  La última atrocidad  aky8zqi734ksim2kh7e5sfn90   \n",
       "181   Mazas y Catapultas  aky8zqi734ksim2kh7e5sfn90   \n",
       "\n",
       "                                  artista                id_lista  \\\n",
       "175                             ['Wilco']  5sB0ax3cmVacFjgkZMLPWx   \n",
       "178  ['Nacho Vegas', 'Cristina Martinez']  5sB0ax3cmVacFjgkZMLPWx   \n",
       "181                 ['Kase.O', 'Rozalén']  5sB0ax3cmVacFjgkZMLPWx   \n",
       "\n",
       "     nombre_lista  \n",
       "175  Ironhack 🚀🚀🚀  \n",
       "178  Ironhack 🚀🚀🚀  \n",
       "181  Ironhack 🚀🚀🚀  "
      ]
     },
     "execution_count": 155,
     "metadata": {},
     "output_type": "execute_result"
    }
   ],
   "source": [
    "data[data[\"ironhacker\"]==\"aky8zqi734ksim2kh7e5sfn90\"]"
   ]
  },
  {
   "cell_type": "code",
   "execution_count": 158,
   "id": "9832462b",
   "metadata": {},
   "outputs": [],
   "source": [
    "data[\"ironhacker\"] = data.ironhacker.replace(usuarios)"
   ]
  },
  {
   "cell_type": "code",
   "execution_count": 159,
   "id": "f770cc07",
   "metadata": {},
   "outputs": [
    {
     "data": {
      "text/plain": [
       "array(['Delás', 'valledelkas018', 'edurriva', 'perinat', 'baccandres',\n",
       "       'Rober', 'Carlos', 'Ester', 'almahelguera', 'Pedro', 'Alfon',\n",
       "       'tgr39393', 'soyungalgo', 'elliot.esposito', 'copia002', 'Juancho',\n",
       "       'Nico', 'Jose', 'Fer'], dtype=object)"
      ]
     },
     "execution_count": 159,
     "metadata": {},
     "output_type": "execute_result"
    }
   ],
   "source": [
    "data.ironhacker.unique()"
   ]
  },
  {
   "cell_type": "markdown",
   "id": "e2b22ba0",
   "metadata": {
    "lang": "en"
   },
   "source": [
    "### Create a new column with the letters"
   ]
  },
  {
   "cell_type": "code",
   "execution_count": 160,
   "id": "rational-director",
   "metadata": {},
   "outputs": [],
   "source": [
    "data[\"letra\"] = data.nombre.apply(letras)"
   ]
  },
  {
   "cell_type": "code",
   "execution_count": 161,
   "id": "sophisticated-merchant",
   "metadata": {},
   "outputs": [
    {
     "data": {
      "text/html": [
       "<div>\n",
       "<style scoped>\n",
       "    .dataframe tbody tr th:only-of-type {\n",
       "        vertical-align: middle;\n",
       "    }\n",
       "\n",
       "    .dataframe tbody tr th {\n",
       "        vertical-align: top;\n",
       "    }\n",
       "\n",
       "    .dataframe thead th {\n",
       "        text-align: right;\n",
       "    }\n",
       "</style>\n",
       "<table border=\"1\" class=\"dataframe\">\n",
       "  <thead>\n",
       "    <tr style=\"text-align: right;\">\n",
       "      <th></th>\n",
       "      <th>nombre</th>\n",
       "      <th>ironhacker</th>\n",
       "      <th>artista</th>\n",
       "      <th>id_lista</th>\n",
       "      <th>nombre_lista</th>\n",
       "      <th>letra</th>\n",
       "    </tr>\n",
       "  </thead>\n",
       "  <tbody>\n",
       "    <tr>\n",
       "      <th>0</th>\n",
       "      <td>Perra</td>\n",
       "      <td>Delás</td>\n",
       "      <td>['Rigoberta Bandini']</td>\n",
       "      <td>5sB0ax3cmVacFjgkZMLPWx</td>\n",
       "      <td>Ironhack 🚀🚀🚀</td>\n",
       "      <td>[Letra de \"Perra\"]\\n\\n[Intro: J Balvin]\\nLoco ...</td>\n",
       "    </tr>\n",
       "    <tr>\n",
       "      <th>1</th>\n",
       "      <td>Colectivo Nostalgia</td>\n",
       "      <td>Delás</td>\n",
       "      <td>['La Maravillosa Orquesta del Alcohol']</td>\n",
       "      <td>5sB0ax3cmVacFjgkZMLPWx</td>\n",
       "      <td>Ironhack 🚀🚀🚀</td>\n",
       "      <td>[Letra de “Colectivo Nostalgia” por La Maravil...</td>\n",
       "    </tr>\n",
       "    <tr>\n",
       "      <th>2</th>\n",
       "      <td>Cumpleaños Feliz</td>\n",
       "      <td>Delás</td>\n",
       "      <td>['Parchis']</td>\n",
       "      <td>5sB0ax3cmVacFjgkZMLPWx</td>\n",
       "      <td>Ironhack 🚀🚀🚀</td>\n",
       "      <td>Lyrics for this song have yet to be released. ...</td>\n",
       "    </tr>\n",
       "    <tr>\n",
       "      <th>3</th>\n",
       "      <td>Que se joda el viento</td>\n",
       "      <td>valledelkas018</td>\n",
       "      <td>['Marea']</td>\n",
       "      <td>5sB0ax3cmVacFjgkZMLPWx</td>\n",
       "      <td>Ironhack 🚀🚀🚀</td>\n",
       "      <td>Ponte el moño apretao, sirena, que se joda el ...</td>\n",
       "    </tr>\n",
       "    <tr>\n",
       "      <th>4</th>\n",
       "      <td>Gravity</td>\n",
       "      <td>edurriva</td>\n",
       "      <td>['John Mayer']</td>\n",
       "      <td>5sB0ax3cmVacFjgkZMLPWx</td>\n",
       "      <td>Ironhack 🚀🚀🚀</td>\n",
       "      <td>[Verse 1]\\nSomething always brings me back to ...</td>\n",
       "    </tr>\n",
       "  </tbody>\n",
       "</table>\n",
       "</div>"
      ],
      "text/plain": [
       "                  nombre      ironhacker  \\\n",
       "0                  Perra           Delás   \n",
       "1    Colectivo Nostalgia           Delás   \n",
       "2       Cumpleaños Feliz           Delás   \n",
       "3  Que se joda el viento  valledelkas018   \n",
       "4                Gravity        edurriva   \n",
       "\n",
       "                                   artista                id_lista  \\\n",
       "0                    ['Rigoberta Bandini']  5sB0ax3cmVacFjgkZMLPWx   \n",
       "1  ['La Maravillosa Orquesta del Alcohol']  5sB0ax3cmVacFjgkZMLPWx   \n",
       "2                              ['Parchis']  5sB0ax3cmVacFjgkZMLPWx   \n",
       "3                                ['Marea']  5sB0ax3cmVacFjgkZMLPWx   \n",
       "4                           ['John Mayer']  5sB0ax3cmVacFjgkZMLPWx   \n",
       "\n",
       "   nombre_lista                                              letra  \n",
       "0  Ironhack 🚀🚀🚀  [Letra de \"Perra\"]\\n\\n[Intro: J Balvin]\\nLoco ...  \n",
       "1  Ironhack 🚀🚀🚀  [Letra de “Colectivo Nostalgia” por La Maravil...  \n",
       "2  Ironhack 🚀🚀🚀  Lyrics for this song have yet to be released. ...  \n",
       "3  Ironhack 🚀🚀🚀  Ponte el moño apretao, sirena, que se joda el ...  \n",
       "4  Ironhack 🚀🚀🚀  [Verse 1]\\nSomething always brings me back to ...  "
      ]
     },
     "execution_count": 161,
     "metadata": {},
     "output_type": "execute_result"
    }
   ],
   "source": [
    "data.head()"
   ]
  },
  {
   "cell_type": "code",
   "execution_count": 165,
   "id": "consistent-tampa",
   "metadata": {},
   "outputs": [
    {
     "data": {
      "text/plain": [
       "nombre           0\n",
       "ironhacker       0\n",
       "artista          0\n",
       "id_lista         0\n",
       "nombre_lista     0\n",
       "letra           93\n",
       "dtype: int64"
      ]
     },
     "execution_count": 165,
     "metadata": {},
     "output_type": "execute_result"
    }
   ],
   "source": [
    "data.isna().sum()"
   ]
  },
  {
   "cell_type": "code",
   "execution_count": 174,
   "id": "56ef3329",
   "metadata": {},
   "outputs": [],
   "source": [
    "data.loc[99][\"letra\"]"
   ]
  },
  {
   "cell_type": "code",
   "execution_count": 171,
   "id": "julian-teacher",
   "metadata": {},
   "outputs": [
    {
     "data": {
      "text/plain": [
       "0      False\n",
       "1      False\n",
       "2      False\n",
       "3      False\n",
       "4      False\n",
       "       ...  \n",
       "183     True\n",
       "184     True\n",
       "185     True\n",
       "186     True\n",
       "187     True\n",
       "Name: letra, Length: 188, dtype: bool"
      ]
     },
     "execution_count": 171,
     "metadata": {},
     "output_type": "execute_result"
    }
   ],
   "source": [
    "data.letra.isna()"
   ]
  },
  {
   "cell_type": "code",
   "execution_count": 175,
   "id": "blocked-status",
   "metadata": {},
   "outputs": [],
   "source": [
    "data.to_csv(\"output/octubre21.csv\", index=False)"
   ]
  },
  {
   "cell_type": "code",
   "execution_count": null,
   "id": "69a0bca0",
   "metadata": {},
   "outputs": [],
   "source": []
  },
  {
   "cell_type": "code",
   "execution_count": null,
   "id": "86cbf3b3",
   "metadata": {},
   "outputs": [],
   "source": []
  },
  {
   "cell_type": "code",
   "execution_count": null,
   "id": "374f47f8",
   "metadata": {},
   "outputs": [],
   "source": [
    "genius = lyricsgenius.Genius(genius_secret)"
   ]
  },
  {
   "cell_type": "code",
   "execution_count": null,
   "id": "7a2568e4",
   "metadata": {},
   "outputs": [],
   "source": [
    "artist = genius.search_artist(\"Andy Shauf\", max_songs=3, sort=\"title\", include_features=True)\n",
    "artist"
   ]
  },
  {
   "cell_type": "code",
   "execution_count": null,
   "id": "28bc6926",
   "metadata": {},
   "outputs": [],
   "source": [
    "artist.songs[0]"
   ]
  },
  {
   "cell_type": "code",
   "execution_count": null,
   "id": "ad584e11",
   "metadata": {},
   "outputs": [],
   "source": [
    "artist = genius.search_artist(\"Andy Shauf\", max_songs=1, sort=\"title\", include_features=True)\n",
    "song = artist.song(\"To You\")"
   ]
  },
  {
   "cell_type": "code",
   "execution_count": null,
   "id": "da4329cc",
   "metadata": {},
   "outputs": [],
   "source": [
    "type(song)"
   ]
  },
  {
   "cell_type": "code",
   "execution_count": null,
   "id": "c0859e82",
   "metadata": {},
   "outputs": [],
   "source": [
    "song.lyrics"
   ]
  },
  {
   "cell_type": "code",
   "execution_count": null,
   "id": "02313a3c",
   "metadata": {},
   "outputs": [],
   "source": [
    "song.title"
   ]
  },
  {
   "cell_type": "code",
   "execution_count": null,
   "id": "1139ac56",
   "metadata": {},
   "outputs": [],
   "source": [
    "len(\"Lyrics\")"
   ]
  },
  {
   "cell_type": "code",
   "execution_count": null,
   "id": "0194b209",
   "metadata": {},
   "outputs": [],
   "source": [
    "lyrics = song.lyrics.split(song.title)[1][7:]\n",
    "print(lyrics)"
   ]
  },
  {
   "cell_type": "code",
   "execution_count": null,
   "id": "c06202c3",
   "metadata": {},
   "outputs": [],
   "source": [
    "def get_lyrics (artist, song):\n",
    "    try: \n",
    "        artist = genius.search_artist(f\"{artist}\", max_songs=1, include_features=True)\n",
    "        song = artist.song(f\"{song}\")\n",
    "        return song.lyrics\n",
    "    except:\n",
    "        return np.nan"
   ]
  },
  {
   "cell_type": "code",
   "execution_count": null,
   "id": "d70318ad",
   "metadata": {},
   "outputs": [],
   "source": [
    "get_lyrics(\"Ed Sheeran\", \"shape of you\")"
   ]
  },
  {
   "cell_type": "code",
   "execution_count": null,
   "id": "b9d6cb90",
   "metadata": {},
   "outputs": [],
   "source": []
  },
  {
   "cell_type": "code",
   "execution_count": null,
   "id": "038b5f83",
   "metadata": {},
   "outputs": [],
   "source": []
  },
  {
   "cell_type": "code",
   "execution_count": null,
   "id": "42baa4d7",
   "metadata": {},
   "outputs": [],
   "source": []
  },
  {
   "cell_type": "code",
   "execution_count": null,
   "id": "d8f7b054",
   "metadata": {},
   "outputs": [],
   "source": []
  },
  {
   "cell_type": "code",
   "execution_count": null,
   "id": "9cba980d",
   "metadata": {},
   "outputs": [],
   "source": []
  },
  {
   "cell_type": "code",
   "execution_count": null,
   "id": "c6bfcd73",
   "metadata": {},
   "outputs": [],
   "source": []
  },
  {
   "cell_type": "code",
   "execution_count": null,
   "id": "852f7e8d",
   "metadata": {},
   "outputs": [],
   "source": []
  },
  {
   "cell_type": "code",
   "execution_count": null,
   "id": "85cd8c0c",
   "metadata": {},
   "outputs": [],
   "source": []
  },
  {
   "cell_type": "code",
   "execution_count": null,
   "id": "25cf4956",
   "metadata": {},
   "outputs": [],
   "source": []
  },
  {
   "cell_type": "code",
   "execution_count": null,
   "id": "22e43de1",
   "metadata": {},
   "outputs": [],
   "source": []
  },
  {
   "cell_type": "code",
   "execution_count": null,
   "id": "e9d6c7a3",
   "metadata": {},
   "outputs": [],
   "source": []
  }
 ],
 "metadata": {
  "kernelspec": {
   "display_name": "ironhack",
   "language": "python",
   "name": "ironhack"
  },
  "language_info": {
   "codemirror_mode": {
    "name": "ipython",
    "version": 3
   },
   "file_extension": ".py",
   "mimetype": "text/x-python",
   "name": "python",
   "nbconvert_exporter": "python",
   "pygments_lexer": "ipython3",
   "version": "3.8.13"
  },
  "nbTranslate": {
   "displayLangs": [
    "en",
    "es"
   ],
   "hotkey": "alt-a",
   "langInMainMenu": true,
   "sourceLang": "es",
   "targetLang": "en",
   "useGoogleTranslate": true
  },
  "toc": {
   "base_numbering": 1,
   "nav_menu": {},
   "number_sections": true,
   "sideBar": true,
   "skip_h1_title": true,
   "title_cell": "Table of Contents",
   "title_sidebar": "Contents",
   "toc_cell": true,
   "toc_position": {},
   "toc_section_display": true,
   "toc_window_display": false
  }
 },
 "nbformat": 4,
 "nbformat_minor": 5
}
