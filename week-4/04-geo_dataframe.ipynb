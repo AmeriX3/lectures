{
 "cells": [
  {
   "cell_type": "markdown",
   "metadata": {
    "toc": true
   },
   "source": [
    "<h1>Table of Contents<span class=\"tocSkip\"></span></h1>\n",
    "<div class=\"toc\"><ul class=\"toc-item\"><li><ul class=\"toc-item\"><li><span><a href=\"#GeoDataframe-/-Carto\" data-toc-modified-id=\"GeoDataframe-/-Carto-0.1\"><span class=\"toc-item-num\">0.1&nbsp;&nbsp;</span>GeoDataframe / Carto</a></span></li></ul></li><li><span><a href=\"#Geocode-API\" data-toc-modified-id=\"Geocode-API-1\"><span class=\"toc-item-num\">1&nbsp;&nbsp;</span>Geocode API</a></span></li><li><span><a href=\"#Foursquare-API\" data-toc-modified-id=\"Foursquare-API-2\"><span class=\"toc-item-num\">2&nbsp;&nbsp;</span>Foursquare API</a></span><ul class=\"toc-item\"><li><span><a href=\"#I-want-to-see-all-the-bookstores--in-Madrid-on-Foursquare\" data-toc-modified-id=\"I-want-to-see-all-the-bookstores--in-Madrid-on-Foursquare-2.1\"><span class=\"toc-item-num\">2.1&nbsp;&nbsp;</span>I want to see all the bookstores  in Madrid on Foursquare</a></span><ul class=\"toc-item\"><li><span><a href=\"#Setting-up\" data-toc-modified-id=\"Setting-up-2.1.1\"><span class=\"toc-item-num\">2.1.1&nbsp;&nbsp;</span>Setting up</a></span></li><li><span><a href=\"#Ready-to-query:-url-&amp;-headers\" data-toc-modified-id=\"Ready-to-query:-url-&amp;-headers-2.1.2\"><span class=\"toc-item-num\">2.1.2&nbsp;&nbsp;</span>Ready to query: url &amp; headers</a></span></li></ul></li></ul></li><li><span><a href=\"#Processing-the-response\" data-toc-modified-id=\"Processing-the-response-3\"><span class=\"toc-item-num\">3&nbsp;&nbsp;</span>Processing the response</a></span></li><li><span><a href=\"#The-Little-Map-of-CartoFrames\" data-toc-modified-id=\"The-Little-Map-of-CartoFrames-4\"><span class=\"toc-item-num\">4&nbsp;&nbsp;</span>The Little Map of CartoFrames</a></span></li><li><span><a href=\"#We-export/import-to-MongoDB\" data-toc-modified-id=\"We-export/import-to-MongoDB-5\"><span class=\"toc-item-num\">5&nbsp;&nbsp;</span>We export/import to MongoDB</a></span><ul class=\"toc-item\"><li><span><a href=\"#Exporting\" data-toc-modified-id=\"Exporting-5.1\"><span class=\"toc-item-num\">5.1&nbsp;&nbsp;</span>Exporting</a></span></li><li><span><a href=\"#Importing\" data-toc-modified-id=\"Importing-5.2\"><span class=\"toc-item-num\">5.2&nbsp;&nbsp;</span>Importing</a></span></li></ul></li></ul></div>"
   ]
  },
  {
   "cell_type": "markdown",
   "metadata": {},
   "source": [
    "### GeoDataframe / Carto"
   ]
  },
  {
   "cell_type": "markdown",
   "metadata": {},
   "source": [
    "![mapa](../images/geo_portada.jpg)"
   ]
  },
  {
   "cell_type": "code",
   "execution_count": null,
   "metadata": {},
   "outputs": [],
   "source": [
    "import os\n",
    "import requests\n",
    "import json\n",
    "from dotenv import load_dotenv\n",
    "import pandas as pd\n",
    "import geopandas as gpd\n",
    "from cartoframes.viz import Map, Layer, popup_element"
   ]
  },
  {
   "cell_type": "markdown",
   "metadata": {},
   "source": [
    "⚠️\n",
    "\n",
    "ImportError: cannot import name 'soft_unicode' from 'markupsafe' (/Users/user/opt/anaconda3/envs/ironhack/lib/python3.8/site-packages/markupsafe/__init__.py) ?\n",
    "\n",
    "`pip install markupsafe==2.0.1` ?"
   ]
  },
  {
   "cell_type": "markdown",
   "metadata": {},
   "source": [
    "1. Geocode API\n",
    "2. Foursquare API\n",
    "3. Cartomap"
   ]
  },
  {
   "cell_type": "markdown",
   "metadata": {},
   "source": [
    "## Geocode API"
   ]
  },
  {
   "cell_type": "markdown",
   "metadata": {
    "lang": "en"
   },
   "source": [
    "There are APIs for a lot of things, here I leave you [Geocode](https://geocode.xyz/)"
   ]
  },
  {
   "cell_type": "code",
   "execution_count": null,
   "metadata": {},
   "outputs": [],
   "source": [
    "# Location"
   ]
  },
  {
   "cell_type": "code",
   "execution_count": null,
   "metadata": {},
   "outputs": [],
   "source": [
    "where = \"Madrid, Spain\""
   ]
  },
  {
   "cell_type": "code",
   "execution_count": null,
   "metadata": {},
   "outputs": [],
   "source": [
    "# Expected coordinates"
   ]
  },
  {
   "cell_type": "markdown",
   "metadata": {},
   "source": [
    "`mad_long = 40.4107367` <br>\n",
    "`mad_lat = -3.707267119`"
   ]
  },
  {
   "cell_type": "code",
   "execution_count": null,
   "metadata": {},
   "outputs": [],
   "source": [
    "# How to get coordinates from a location"
   ]
  },
  {
   "cell_type": "markdown",
   "metadata": {
    "lang": "en"
   },
   "source": [
    "```python\n",
    "url_geocode = f\"https://geocode.xyz/{Adress I want to convert}?json=1\"\n",
    "```"
   ]
  },
  {
   "cell_type": "markdown",
   "metadata": {
    "lang": "en"
   },
   "source": [
    "What is point type?\n",
    "```python\n",
    "place_coordinates = {\"type\": \"Point\", \"coordinates\": [latitude, longitude]}\n",
    "```"
   ]
  },
  {
   "cell_type": "code",
   "execution_count": null,
   "metadata": {},
   "outputs": [],
   "source": [
    "res = requests.get(f\"https://geocode.xyz/{where}?json=1\").json()\n",
    "res"
   ]
  },
  {
   "cell_type": "code",
   "execution_count": null,
   "metadata": {},
   "outputs": [],
   "source": [
    "res"
   ]
  },
  {
   "cell_type": "code",
   "execution_count": null,
   "metadata": {},
   "outputs": [],
   "source": [
    "res[\"longt\"]"
   ]
  },
  {
   "cell_type": "code",
   "execution_count": null,
   "metadata": {},
   "outputs": [],
   "source": [
    "res[\"latt\"]"
   ]
  },
  {
   "cell_type": "code",
   "execution_count": null,
   "metadata": {},
   "outputs": [],
   "source": [
    "mad_long = -3.67930\n",
    "mad_lat = 40.42955"
   ]
  },
  {
   "cell_type": "code",
   "execution_count": null,
   "metadata": {},
   "outputs": [],
   "source": [
    "def get_coordinates (place):\n",
    "    try:\n",
    "        res = requests.get(f\"https://geocode.xyz/{place}?json=1\").json()\n",
    "        return (res[\"longt\"],res[\"latt\"])\n",
    "    except:\n",
    "        return f\"Sorry, no matches for {place}\""
   ]
  },
  {
   "cell_type": "code",
   "execution_count": null,
   "metadata": {},
   "outputs": [],
   "source": [
    "madrid = get_coordinates(\"Madrid, Spain\")\n",
    "madrid"
   ]
  },
  {
   "cell_type": "markdown",
   "metadata": {
    "lang": "en"
   },
   "source": [
    "Sometimes Geocode Fails, so plan is to get the coordinates from the web"
   ]
  },
  {
   "cell_type": "code",
   "execution_count": null,
   "metadata": {},
   "outputs": [],
   "source": [
    "mad_justincase = {'type': 'Point', 'coordinates': [40.4381311, -3.81962111]}"
   ]
  },
  {
   "cell_type": "markdown",
   "metadata": {},
   "source": [
    "## Foursquare API"
   ]
  },
  {
   "cell_type": "markdown",
   "metadata": {},
   "source": [
    "### I want to see all the bookstores  in Madrid on Foursquare"
   ]
  },
  {
   "cell_type": "markdown",
   "metadata": {},
   "source": [
    "#### Setting up"
   ]
  },
  {
   "cell_type": "markdown",
   "metadata": {
    "lang": "en"
   },
   "source": [
    "I'm sorry to tell you that the first thing is to read the API documentation.\n",
    "- https://developer.foursquare.com/docs/places-api-overview"
   ]
  },
  {
   "cell_type": "markdown",
   "metadata": {},
   "source": [
    "1. Sign-up for the foursquare places API [here](https://foursquare.com/products/places-api/)\n",
    "2. Create a New Project\n",
    "3. Generate `CLIENT_ID` & `CLIENT_SECRET`\n",
    "4. Save your credentials locally on a `.env` file on the root of your project"
   ]
  },
  {
   "cell_type": "code",
   "execution_count": null,
   "metadata": {},
   "outputs": [],
   "source": [
    "# .env\n",
    "load_dotenv()"
   ]
  },
  {
   "cell_type": "code",
   "execution_count": null,
   "metadata": {},
   "outputs": [],
   "source": [
    "client_id = os.getenv(\"CLIENT_ID\")\n",
    "client_secret = os.getenv(\"CLIENT_SECRET\")"
   ]
  },
  {
   "cell_type": "markdown",
   "metadata": {},
   "source": [
    "#### Ready to query: url & headers"
   ]
  },
  {
   "cell_type": "code",
   "execution_count": null,
   "metadata": {},
   "outputs": [],
   "source": [
    "# url - where"
   ]
  },
  {
   "cell_type": "code",
   "execution_count": null,
   "metadata": {},
   "outputs": [],
   "source": [
    "url = \"https://api.foursquare.com/v2/venues/search/\""
   ]
  },
  {
   "cell_type": "code",
   "execution_count": null,
   "metadata": {},
   "outputs": [],
   "source": [
    "# coordinates - location"
   ]
  },
  {
   "cell_type": "code",
   "execution_count": null,
   "metadata": {},
   "outputs": [],
   "source": [
    "madrid = [mad_long, mad_lat]\n",
    "madrid"
   ]
  },
  {
   "cell_type": "code",
   "execution_count": null,
   "metadata": {},
   "outputs": [],
   "source": [
    "# query - what"
   ]
  },
  {
   "cell_type": "code",
   "execution_count": null,
   "metadata": {},
   "outputs": [],
   "source": [
    "query = \"Librería\""
   ]
  },
  {
   "cell_type": "code",
   "execution_count": null,
   "metadata": {},
   "outputs": [],
   "source": [
    "# headers - how \n",
    "\n",
    "# ALWAYS LIMIT THE NUMBER OF QUERIES. JUST IN CASE. From smallest to scaling up"
   ]
  },
  {
   "cell_type": "code",
   "execution_count": null,
   "metadata": {
    "scrolled": true
   },
   "outputs": [],
   "source": [
    "headers =  {\n",
    "    \"query\": query,\n",
    "    \"client_id\":client_id,\n",
    "    \"client_secret\":client_secret,\n",
    "    \"v\":\"20180323\",\n",
    "    \"limit\":\"10\",\n",
    "    \"ll\":f\"{location[1]}, {location[0]}\"\n",
    "}\n",
    "    \n",
    "results = requests.get(url, headers).json()\n",
    "results[\"response\"]"
   ]
  },
  {
   "cell_type": "code",
   "execution_count": null,
   "metadata": {},
   "outputs": [],
   "source": [
    "len(results[\"response\"][\"venues\"])"
   ]
  },
  {
   "cell_type": "code",
   "execution_count": null,
   "metadata": {},
   "outputs": [],
   "source": [
    "list_of_bookstores = results[\"response\"][\"venues\"]\n",
    "list_of_bookstores[0]"
   ]
  },
  {
   "cell_type": "code",
   "execution_count": null,
   "metadata": {},
   "outputs": [],
   "source": [
    "def get_results_from_foursquare (query, location, limit):\n",
    "    \n",
    "    url = \"https://api.foursquare.com/v2/venues/search/\"\n",
    "    \n",
    "    headers =  {\n",
    "    \"query\": query,\n",
    "    \"client_id\":client_id,\n",
    "    \"client_secret\":client_secret,\n",
    "    \"v\":\"20180323\",\n",
    "    \"limit\":f\"{limit}\",\n",
    "    \"ll\":f\"{location[1]}, {location[0]}\"\n",
    "    }\n",
    "    \n",
    "    results = requests.get(url, headers).json()\n",
    "    \n",
    "    return results[\"response\"][\"venues\"]"
   ]
  },
  {
   "cell_type": "code",
   "execution_count": null,
   "metadata": {},
   "outputs": [],
   "source": [
    "# Obtained information\n",
    "# Based on my location (starting with a set of coordinates)\n",
    "# I get new info: list of nearby places like \"bookstores\""
   ]
  },
  {
   "cell_type": "markdown",
   "metadata": {},
   "source": [
    "## Processing the response"
   ]
  },
  {
   "cell_type": "code",
   "execution_count": null,
   "metadata": {
    "scrolled": true
   },
   "outputs": [],
   "source": [
    "name_1 = results[\"response\"][\"venues\"][0][\"name\"]\n",
    "name_1"
   ]
  },
  {
   "cell_type": "markdown",
   "metadata": {
    "lang": "en"
   },
   "source": [
    "Foursquare parameters are explained [here.](https://developer.foursquare.com/docs/api-reference/venues/search/)"
   ]
  },
  {
   "cell_type": "code",
   "execution_count": null,
   "metadata": {},
   "outputs": [],
   "source": [
    "#DF with: name, lat, long, location (type: point)"
   ]
  },
  {
   "cell_type": "code",
   "execution_count": null,
   "metadata": {},
   "outputs": [],
   "source": [
    "lat_1 = results[\"response\"][\"venues\"][0][\"location\"][\"lat\"]\n",
    "lat_1"
   ]
  },
  {
   "cell_type": "code",
   "execution_count": null,
   "metadata": {},
   "outputs": [],
   "source": [
    "lng_1 = results[\"response\"][\"venues\"][0][\"location\"][\"lng\"]\n",
    "lng_1"
   ]
  },
  {
   "cell_type": "code",
   "execution_count": null,
   "metadata": {},
   "outputs": [],
   "source": [
    "# RECAP: postbreak"
   ]
  },
  {
   "cell_type": "code",
   "execution_count": null,
   "metadata": {},
   "outputs": [],
   "source": [
    "# Question: what are some X places nearby?\n",
    "# List of places based on a starting location"
   ]
  },
  {
   "cell_type": "code",
   "execution_count": null,
   "metadata": {},
   "outputs": [],
   "source": [
    "# 1. Define that location\n",
    "# 2. Places API: foursquare\n",
    "# 3. Clean the response\n",
    "# 4. Create a DF from the API res\n",
    "\n",
    "# 5. Foursquare function: get_results_from_foursquare (query, location, limit)"
   ]
  },
  {
   "cell_type": "code",
   "execution_count": null,
   "metadata": {},
   "outputs": [],
   "source": [
    "new_list = []\n",
    "for i in list_of_bookstores:\n",
    "    name = i[\"name\"]\n",
    "    lat = i[\"location\"][\"lat\"]\n",
    "    long = i[\"location\"][\"lng\"]\n",
    "    \n",
    "    type_ = {\"typepoint\": \n",
    "                          {\"type\": \"Point\", \n",
    "                           \"coordinates\": [lat, long]}}\n",
    "    \n",
    "    new_list.append({\"name\":name, \"lat\":lat, \"long\":long, \"type\":type_})\n",
    "new_list[0]"
   ]
  },
  {
   "cell_type": "code",
   "execution_count": null,
   "metadata": {},
   "outputs": [],
   "source": [
    "df = pd.DataFrame(new_list)\n",
    "df"
   ]
  },
  {
   "cell_type": "markdown",
   "metadata": {
    "lang": "en"
   },
   "source": [
    "## The Little Map of CartoFrames"
   ]
  },
  {
   "cell_type": "markdown",
   "metadata": {
    "lang": "en"
   },
   "source": [
    "For the geometry column we have to put in this order Longitude, Latitude ⚠️🚨"
   ]
  },
  {
   "cell_type": "code",
   "execution_count": null,
   "metadata": {},
   "outputs": [],
   "source": [
    "# Into a DF"
   ]
  },
  {
   "cell_type": "code",
   "execution_count": null,
   "metadata": {},
   "outputs": [],
   "source": [
    "df.sample()"
   ]
  },
  {
   "cell_type": "code",
   "execution_count": null,
   "metadata": {},
   "outputs": [],
   "source": [
    "# Into a GeoDF"
   ]
  },
  {
   "cell_type": "code",
   "execution_count": null,
   "metadata": {},
   "outputs": [],
   "source": [
    "gdf_1 = gpd.GeoDataFrame(df, geometry=gpd.points_from_xy(df[\"long\"], df[\"lat\"]))\n",
    "gdf_1.head()"
   ]
  },
  {
   "cell_type": "markdown",
   "metadata": {
    "lang": "en"
   },
   "source": [
    "https://carto.com/developers/cartoframes/"
   ]
  },
  {
   "cell_type": "code",
   "execution_count": null,
   "metadata": {},
   "outputs": [],
   "source": [
    "# The map"
   ]
  },
  {
   "cell_type": "code",
   "execution_count": null,
   "metadata": {},
   "outputs": [],
   "source": [
    "Map(Layer(gdf_1, \"color:purple\", popup_hover=[popup_element(\"name\", \"Libraries in Madrid\")]))"
   ]
  },
  {
   "cell_type": "markdown",
   "metadata": {
    "lang": "en"
   },
   "source": [
    "## We export/import to MongoDB"
   ]
  },
  {
   "cell_type": "markdown",
   "metadata": {},
   "source": [
    "### Exporting"
   ]
  },
  {
   "cell_type": "code",
   "execution_count": null,
   "metadata": {},
   "outputs": [],
   "source": [
    "with open (\"bookstore.json\",\"w\") as f: \n",
    "    json.dump(new_list, f)\n",
    "f"
   ]
  },
  {
   "cell_type": "markdown",
   "metadata": {},
   "source": [
    "### Importing"
   ]
  },
  {
   "cell_type": "code",
   "execution_count": null,
   "metadata": {},
   "outputs": [],
   "source": [
    "with open (\"bookstore.json\") as f:\n",
    "    new = json.load(f)\n",
    "\n",
    "    \n",
    "    df_imported = pd.DataFrame(new)\n",
    "df_imported.head()"
   ]
  },
  {
   "cell_type": "markdown",
   "metadata": {},
   "source": [
    "# Recap\n",
    "\n",
    "- We connect to an API: foursquare\n",
    "- We create an app / project\n",
    "- We then get tokens / id / secrets\n",
    "\n",
    "\n",
    "- We save the credentials into an .env\n",
    "- We can use the function to use foursquare: `get_results_from_foursquare (query, location, limit)`\n",
    "- We can clean the response\n",
    "- We can import into a df\n",
    "\n",
    "- We can convert the DF into a GDF: creating a geometry\n",
    "- Carto should be able to plot the GDF"
   ]
  },
  {
   "cell_type": "markdown",
   "metadata": {},
   "source": [
    "# Sanity check: are you in Kenya?"
   ]
  },
  {
   "cell_type": "markdown",
   "metadata": {},
   "source": [
    "# TO-DO\n",
    "\n",
    "1. Get **tokens** (sign-up, create a project, get tokens). If you have issues with them, DO contact the foursquare team, as they are very quick in responding\n",
    "\n",
    "\n",
    "2. **Query** something using this function:  `get_results_from_foursquare (query, location, limit)`"
   ]
  },
  {
   "cell_type": "markdown",
   "metadata": {},
   "source": [
    "# Use-case\n",
    "3. Can you get the 10 closest coffeshops to Ironhack? ☕️\n",
    "4. Save it into a dataframe 📒\n",
    "5. Visualize it using either Folium or Carto (Carto will need a geodataframe) 🗺"
   ]
  },
  {
   "cell_type": "markdown",
   "metadata": {},
   "source": [
    "```python\n",
    "def get_results_from_foursquare (query, location, limit):\n",
    "    \n",
    "    url = \"https://api.foursquare.com/v2/venues/search/\"\n",
    "    \n",
    "    headers =  {\n",
    "    \"query\": query,\n",
    "    \"client_id\":client_id,\n",
    "    \"client_secret\":client_secret,\n",
    "    \"v\":\"20180323\",\n",
    "    \"limit\":f\"{limit}\",\n",
    "    \"ll\":f\"{location[1]}, {location[0]}\"\n",
    "    }\n",
    "    \n",
    "    results = requests.get(url, headers).json()\n",
    "    \n",
    "    return results[\"response\"][\"venues\"]\n",
    "```"
   ]
  }
 ],
 "metadata": {
  "kernelspec": {
   "display_name": "ironhack",
   "language": "python",
   "name": "ironhack"
  },
  "language_info": {
   "codemirror_mode": {
    "name": "ipython",
    "version": 3
   },
   "file_extension": ".py",
   "mimetype": "text/x-python",
   "name": "python",
   "nbconvert_exporter": "python",
   "pygments_lexer": "ipython3",
   "version": "3.8.13"
  },
  "nbTranslate": {
   "displayLangs": [
    "en",
    "es"
   ],
   "hotkey": "alt-a",
   "langInMainMenu": true,
   "sourceLang": "es",
   "targetLang": "en",
   "useGoogleTranslate": true
  },
  "toc": {
   "base_numbering": 1,
   "nav_menu": {},
   "number_sections": true,
   "sideBar": true,
   "skip_h1_title": true,
   "title_cell": "Table of Contents",
   "title_sidebar": "Contents",
   "toc_cell": true,
   "toc_position": {
    "height": "calc(100% - 180px)",
    "left": "10px",
    "top": "150px",
    "width": "165px"
   },
   "toc_section_display": true,
   "toc_window_display": true
  }
 },
 "nbformat": 4,
 "nbformat_minor": 4
}
