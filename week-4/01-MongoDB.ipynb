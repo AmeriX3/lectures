{
 "cells": [
  {
   "cell_type": "markdown",
   "id": "mighty-crowd",
   "metadata": {},
   "source": [
    "# MongoDB"
   ]
  },
  {
   "cell_type": "markdown",
   "id": "incoming-mortgage",
   "metadata": {},
   "source": [
    "![memesmongo](../images/mongo.png)"
   ]
  },
  {
   "cell_type": "markdown",
   "id": "greatest-neighborhood",
   "metadata": {
    "toc": true
   },
   "source": [
    "<h1>Table of Contents<span class=\"tocSkip\"></span></h1>\n",
    "<div class=\"toc\"><ul class=\"toc-item\"><li><span><a href=\"#What-is-MongoDB?\" data-toc-modified-id=\"What-is-MongoDB?-1\"><span class=\"toc-item-num\">1&nbsp;&nbsp;</span>What is MongoDB?</a></span></li><li><span><a href=\"#What-is-the-MongoDB-database?\" data-toc-modified-id=\"What-is-the-MongoDB-database?-2\"><span class=\"toc-item-num\">2&nbsp;&nbsp;</span>What is the MongoDB database?</a></span></li><li><span><a href=\"#Database-creation\" data-toc-modified-id=\"Database-creation-3\"><span class=\"toc-item-num\">3&nbsp;&nbsp;</span>Database creation</a></span></li><li><span><a href=\"#Connection-with-Python\" data-toc-modified-id=\"Connection-with-Python-4\"><span class=\"toc-item-num\">4&nbsp;&nbsp;</span>Connection with Python</a></span><ul class=\"toc-item\"><li><span><a href=\"#We-connect-to-the-server\" data-toc-modified-id=\"We-connect-to-the-server-4.1\"><span class=\"toc-item-num\">4.1&nbsp;&nbsp;</span>We connect to the server</a></span></li><li><span><a href=\"#We-connect-to-the-database\" data-toc-modified-id=\"We-connect-to-the-database-4.2\"><span class=\"toc-item-num\">4.2&nbsp;&nbsp;</span>We connect to the database</a></span></li></ul></li><li><span><a href=\"#Basic-database-management-operations\" data-toc-modified-id=\"Basic-database-management-operations-5\"><span class=\"toc-item-num\">5&nbsp;&nbsp;</span>Basic database management operations</a></span><ul class=\"toc-item\"><li><span><a href=\"#Create-and-delete-collections-from-python\" data-toc-modified-id=\"Create-and-delete-collections-from-python-5.1\"><span class=\"toc-item-num\">5.1&nbsp;&nbsp;</span>Create and delete collections from python</a></span></li><li><span><a href=\"#We-connect-to-a-specific-collection-to-make-the-queries\" data-toc-modified-id=\"We-connect-to-a-specific-collection-to-make-the-queries-5.2\"><span class=\"toc-item-num\">5.2&nbsp;&nbsp;</span>We connect to a specific collection to make the queries</a></span></li></ul></li><li><span><a href=\"#Queries-in-Mongo\" data-toc-modified-id=\"Queries-in-Mongo-6\"><span class=\"toc-item-num\">6&nbsp;&nbsp;</span>Queries in Mongo</a></span><ul class=\"toc-item\"><li><span><a href=\"#find_one-method\" data-toc-modified-id=\"find_one-method-6.1\"><span class=\"toc-item-num\">6.1&nbsp;&nbsp;</span><code>find_one</code> method</a></span></li><li><span><a href=\"#find-method\" data-toc-modified-id=\"find-method-6.2\"><span class=\"toc-item-num\">6.2&nbsp;&nbsp;</span><code>find</code> method</a></span></li></ul></li><li><span><a href=\"#projection\" data-toc-modified-id=\"projection-7\"><span class=\"toc-item-num\">7&nbsp;&nbsp;</span>projection</a></span></li><li><span><a href=\"#Other-methods\" data-toc-modified-id=\"Other-methods-8\"><span class=\"toc-item-num\">8&nbsp;&nbsp;</span>Other methods</a></span><ul class=\"toc-item\"><li><span><a href=\"#distinct\" data-toc-modified-id=\"distinct-8.1\"><span class=\"toc-item-num\">8.1&nbsp;&nbsp;</span><code>distinct</code></a></span></li><li><span><a href=\"#count\" data-toc-modified-id=\"count-8.2\"><span class=\"toc-item-num\">8.2&nbsp;&nbsp;</span><code>count</code></a></span></li><li><span><a href=\"#sort\" data-toc-modified-id=\"sort-8.3\"><span class=\"toc-item-num\">8.3&nbsp;&nbsp;</span><code>sort</code></a></span></li><li><span><a href=\"#limit\" data-toc-modified-id=\"limit-8.4\"><span class=\"toc-item-num\">8.4&nbsp;&nbsp;</span><code>limit</code></a></span></li><li><span><a href=\"#skip\" data-toc-modified-id=\"skip-8.5\"><span class=\"toc-item-num\">8.5&nbsp;&nbsp;</span><code>skip</code></a></span></li></ul></li><li><span><a href=\"#Typical-query-operators\" data-toc-modified-id=\"Typical-query-operators-9\"><span class=\"toc-item-num\">9&nbsp;&nbsp;</span>Typical query operators</a></span><ul class=\"toc-item\"><li><span><a href=\"#Greater-than-/-Less-than\" data-toc-modified-id=\"Greater-than-/-Less-than-9.1\"><span class=\"toc-item-num\">9.1&nbsp;&nbsp;</span>Greater than / Less than</a></span></li><li><span><a href=\"#exists\" data-toc-modified-id=\"exists-9.2\"><span class=\"toc-item-num\">9.2&nbsp;&nbsp;</span><code>exists</code></a></span></li><li><span><a href=\"#regex\" data-toc-modified-id=\"regex-9.3\"><span class=\"toc-item-num\">9.3&nbsp;&nbsp;</span><code>regex</code></a></span></li><li><span><a href=\"#and\" data-toc-modified-id=\"and-9.4\"><span class=\"toc-item-num\">9.4&nbsp;&nbsp;</span><code>and</code></a></span></li><li><span><a href=\"#or\" data-toc-modified-id=\"or-9.5\"><span class=\"toc-item-num\">9.5&nbsp;&nbsp;</span><code>or</code></a></span></li><li><span><a href=\"#ne\" data-toc-modified-id=\"ne-9.6\"><span class=\"toc-item-num\">9.6&nbsp;&nbsp;</span><code>ne</code></a></span></li><li><span><a href=\"#in\" data-toc-modified-id=\"in-9.7\"><span class=\"toc-item-num\">9.7&nbsp;&nbsp;</span><code>in</code></a></span></li><li><span><a href=\"#nin\" data-toc-modified-id=\"nin-9.8\"><span class=\"toc-item-num\">9.8&nbsp;&nbsp;</span><code>nin</code></a></span></li></ul></li><li><span><a href=\"#Update\" data-toc-modified-id=\"Update-10\"><span class=\"toc-item-num\">10&nbsp;&nbsp;</span>Update</a></span></li><li><span><a href=\"#Query-7-from-the-lab-.-All-the-companies-that-have-a-null-type-of-value-on-the-category_code-field.\" data-toc-modified-id=\"Query-7-from-the-lab-.-All-the-companies-that-have-a-null-type-of-value-on-the-category_code-field.-11\"><span class=\"toc-item-num\">11&nbsp;&nbsp;</span>Query 7 from the lab . All the companies that have a null type of value on the category_code field.</a></span></li><li><span><a href=\"#Delete\" data-toc-modified-id=\"Delete-12\"><span class=\"toc-item-num\">12&nbsp;&nbsp;</span>Delete</a></span></li><li><span><a href=\"#Insert\" data-toc-modified-id=\"Insert-13\"><span class=\"toc-item-num\">13&nbsp;&nbsp;</span>Insert</a></span></li><li><span><a href=\"#Extra-info\" data-toc-modified-id=\"Extra-info-14\"><span class=\"toc-item-num\">14&nbsp;&nbsp;</span>Extra info</a></span></li><li><span><a href=\"#Summary\" data-toc-modified-id=\"Summary-15\"><span class=\"toc-item-num\">15&nbsp;&nbsp;</span>Summary</a></span></li><li><span><a href=\"#Further-Materials\" data-toc-modified-id=\"Further-Materials-16\"><span class=\"toc-item-num\">16&nbsp;&nbsp;</span>Further Materials</a></span></li></ul></div>"
   ]
  },
  {
   "cell_type": "markdown",
   "id": "b549b1e2",
   "metadata": {
    "lang": "en"
   },
   "source": [
    "## What is MongoDB?\n",
    "   \n",
    "MongoDB (humongous, \"huge\") is an open source, document-oriented, NoSQL database system.\n",
    "Instead of storing data in tables, as is done in relational databases, MongoDB stores BSON data structures (a specification similar to JSON) with a dynamic schema, making data integration in certain applications easier. easier and faster.\n",
    "MongoDB is a database suitable for use in production and with many features. This database is widely used in the industry, with implementations in companies such as MTV Network, Craigslist, Foursquare.\n",
    "Source code is available for operating systems --> Windows, GNU/Linux, OS X and Solaris."
   ]
  },
  {
   "cell_type": "markdown",
   "id": "d57a7b47",
   "metadata": {
    "lang": "en"
   },
   "source": [
    "## What is the MongoDB database?\n",
    "\n",
    "A database, that is, a structured way of storing and accessing data, more specifically, is a NoSQL database.\n",
    "NoSQL is a very generic term used to describe any data store that does not use the legacy approach of related data tables.\n",
    "This means that you are storing your data in an organized way, but not in rows and columns. An example of NoSQL databases could be anything from a library card catalog, to a more sophisticated data warehouse like MongoDB.\n",
    "Since the range of what NoSQL means is so wide, we need to narrow down our definition further.\n",
    "MongoDB is a NoSQL document database.\n",
    "This means that data in MongoDB is stored as documents, these documents are in turn stored in what we call document collections, which is why MongoDB is classified as a NoSQL document database.\n",
    "\n",
    "In conclusion, MongoDB database is a NoSQL document database."
   ]
  },
  {
   "cell_type": "markdown",
   "id": "56f71cb5",
   "metadata": {
    "lang": "en"
   },
   "source": [
    "## Database creation\n",
    "We have seen that through MongoDB compass we could create a database, a collection and import the data in JSON format in a simple way.\n",
    "We can also do it through the command interface or CLI of mongo."
   ]
  },
  {
   "cell_type": "code",
   "execution_count": null,
   "id": "emotional-pharmacy",
   "metadata": {},
   "outputs": [],
   "source": [
    "#$ mongoimport --db nameOfTheDatabase --collection nameOfTheCollection --file file.json"
   ]
  },
  {
   "cell_type": "code",
   "execution_count": null,
   "id": "1541ce1a",
   "metadata": {},
   "outputs": [],
   "source": [
    "# mongoimport --db Ironhack --collection restaurants --file restaurant.json"
   ]
  },
  {
   "cell_type": "markdown",
   "id": "75b06b9f",
   "metadata": {
    "lang": "en"
   },
   "source": [
    "We are located in the terminal in the folder where we have downloaded the json of \"companies\". What the command does is import into the ironhack database, within the companies collection, that json. If we enter a database name that does not exist or a collection that does not exist, MongoDB creates it for us automatically."
   ]
  },
  {
   "cell_type": "markdown",
   "id": "10a19336",
   "metadata": {
    "lang": "en"
   },
   "source": [
    "## Connection with Python"
   ]
  },
  {
   "cell_type": "markdown",
   "id": "69596bbf",
   "metadata": {
    "lang": "en"
   },
   "source": [
    "The first thing we are going to need to connect python with the MongoDB database server is to install the following library\n",
    "```python\n",
    "#!pip install pymongo\n",
    "```\n",
    "And remember: You have to [read the documentation](https://pymongo.readthedocs.io/en/stable/)"
   ]
  },
  {
   "cell_type": "code",
   "execution_count": 4,
   "id": "medieval-venue",
   "metadata": {},
   "outputs": [],
   "source": [
    "from pymongo import MongoClient\n",
    "import pandas as pd\n",
    "import time"
   ]
  },
  {
   "cell_type": "markdown",
   "id": "dd0c25d4",
   "metadata": {
    "lang": "en"
   },
   "source": [
    "### We connect to the server\n",
    "The Mongo server has to be up and is normally running on port 27017, it always connects to this port by default"
   ]
  },
  {
   "cell_type": "code",
   "execution_count": 6,
   "id": "0e959698",
   "metadata": {},
   "outputs": [],
   "source": [
    "client = MongoClient(\"localhost:27017\")"
   ]
  },
  {
   "cell_type": "code",
   "execution_count": 11,
   "id": "8d795323",
   "metadata": {},
   "outputs": [
    {
     "data": {
      "text/plain": [
       "MongoClient(host=['localhost:27017'], document_class=dict, tz_aware=False, connect=True)"
      ]
     },
     "execution_count": 11,
     "metadata": {},
     "output_type": "execute_result"
    }
   ],
   "source": [
    "client"
   ]
  },
  {
   "cell_type": "code",
   "execution_count": 13,
   "id": "95328fa0",
   "metadata": {},
   "outputs": [
    {
     "data": {
      "text/plain": [
       "['Ironhack', 'admin', 'config', 'local', 'meetech-database']"
      ]
     },
     "execution_count": 13,
     "metadata": {},
     "output_type": "execute_result"
    }
   ],
   "source": [
    "client.list_database_names()"
   ]
  },
  {
   "cell_type": "markdown",
   "id": "2a26d382",
   "metadata": {
    "lang": "en"
   },
   "source": [
    "### We connect to the database"
   ]
  },
  {
   "cell_type": "code",
   "execution_count": 14,
   "id": "level-fantasy",
   "metadata": {},
   "outputs": [],
   "source": [
    "db = client[\"Ironhack\"]"
   ]
  },
  {
   "cell_type": "code",
   "execution_count": 18,
   "id": "eb488206",
   "metadata": {},
   "outputs": [
    {
     "data": {
      "text/plain": [
       "['restaurants', 'companies']"
      ]
     },
     "execution_count": 18,
     "metadata": {},
     "output_type": "execute_result"
    }
   ],
   "source": [
    "db.list_collection_names()"
   ]
  },
  {
   "cell_type": "code",
   "execution_count": null,
   "id": "697e6ff8",
   "metadata": {},
   "outputs": [],
   "source": [
    "#Q: get all the collections within all the dbs :/ \n",
    "for i in client.list_database_names():\n",
    "    print(i.list.collection_names())"
   ]
  },
  {
   "cell_type": "code",
   "execution_count": 16,
   "id": "9b434bcc",
   "metadata": {},
   "outputs": [],
   "source": [
    "companies = db.get_collection(\"companies\")"
   ]
  },
  {
   "cell_type": "code",
   "execution_count": 17,
   "id": "23305a57",
   "metadata": {},
   "outputs": [
    {
     "data": {
      "text/plain": [
       "Collection(Database(MongoClient(host=['localhost:27017'], document_class=dict, tz_aware=False, connect=True), 'Ironhack'), 'companies')"
      ]
     },
     "execution_count": 17,
     "metadata": {},
     "output_type": "execute_result"
    }
   ],
   "source": [
    "companies"
   ]
  },
  {
   "cell_type": "markdown",
   "id": "81ea8fc3",
   "metadata": {
    "lang": "en"
   },
   "source": [
    "## Basic database management operations"
   ]
  },
  {
   "cell_type": "markdown",
   "id": "fc9388c7",
   "metadata": {
    "lang": "en"
   },
   "source": [
    "### Create and delete collections from python"
   ]
  },
  {
   "cell_type": "code",
   "execution_count": 20,
   "id": "8f8f7dfe",
   "metadata": {
    "lang": "en"
   },
   "outputs": [
    {
     "data": {
      "text/plain": [
       "Collection(Database(MongoClient(host=['localhost:27017'], document_class=dict, tz_aware=False, connect=True), 'Ironhack'), 'Test')"
      ]
     },
     "execution_count": 20,
     "metadata": {},
     "output_type": "execute_result"
    }
   ],
   "source": [
    "client[\"Ironhack\"].b(\"Test\")"
   ]
  },
  {
   "cell_type": "markdown",
   "id": "eca17ba9",
   "metadata": {
    "lang": "en"
   },
   "source": [
    "### We connect to a specific collection to make the queries"
   ]
  },
  {
   "cell_type": "code",
   "execution_count": 21,
   "id": "dress-running",
   "metadata": {},
   "outputs": [
    {
     "data": {
      "text/plain": [
       "{'nIndexesWas': 1, 'ns': 'Ironhack.Test', 'ok': 1.0}"
      ]
     },
     "execution_count": 21,
     "metadata": {},
     "output_type": "execute_result"
    }
   ],
   "source": [
    "db.drop_collection(\"Test\")"
   ]
  },
  {
   "cell_type": "markdown",
   "id": "2a690152",
   "metadata": {
    "lang": "en"
   },
   "source": [
    "## Queries in Mongo"
   ]
  },
  {
   "cell_type": "markdown",
   "id": "56de296c",
   "metadata": {
    "lang": "en"
   },
   "source": [
    "To explore what the documents in my collection look like, what shape and what fields they have, I can go to Mongo Compass and explore the collection, or I can choose an unfiltered document."
   ]
  },
  {
   "cell_type": "markdown",
   "id": "metric-information",
   "metadata": {},
   "source": [
    "![undocumento](../images/compass1.png)"
   ]
  },
  {
   "cell_type": "code",
   "execution_count": 22,
   "id": "79dd4f27",
   "metadata": {},
   "outputs": [],
   "source": [
    "c = db.get_collection(\"restaurants\")"
   ]
  },
  {
   "cell_type": "code",
   "execution_count": 23,
   "id": "f8f02a64",
   "metadata": {},
   "outputs": [
    {
     "data": {
      "text/plain": [
       "Collection(Database(MongoClient(host=['localhost:27017'], document_class=dict, tz_aware=False, connect=True), 'Ironhack'), 'restaurants')"
      ]
     },
     "execution_count": 23,
     "metadata": {},
     "output_type": "execute_result"
    }
   ],
   "source": [
    "c"
   ]
  },
  {
   "cell_type": "code",
   "execution_count": null,
   "id": "a33679d8",
   "metadata": {
    "lang": "en"
   },
   "outputs": [],
   "source": [
    "## Let's do it in Python"
   ]
  },
  {
   "cell_type": "markdown",
   "id": "fe5597bc",
   "metadata": {
    "lang": "en"
   },
   "source": [
    "### `find_one` method\n",
    "`collection.find_one(filter)`"
   ]
  },
  {
   "cell_type": "code",
   "execution_count": 24,
   "id": "bdd81a4e",
   "metadata": {},
   "outputs": [
    {
     "data": {
      "text/plain": [
       "{'_id': ObjectId('55f14312c7447c3da7051b26'),\n",
       " 'URL': 'http://www.just-eat.co.uk/restaurants-cn-chinese-cardiff/menu',\n",
       " 'address': '228 City Road',\n",
       " 'address line 2': 'Cardiff',\n",
       " 'name': '.CN Chinese',\n",
       " 'outcode': 'CF24',\n",
       " 'postcode': '3JH',\n",
       " 'rating': 5,\n",
       " 'type_of_food': 'Chinese'}"
      ]
     },
     "execution_count": 24,
     "metadata": {},
     "output_type": "execute_result"
    }
   ],
   "source": [
    "c.find_one()"
   ]
  },
  {
   "cell_type": "code",
   "execution_count": 25,
   "id": "10b23dd3",
   "metadata": {},
   "outputs": [
    {
     "data": {
      "text/plain": [
       "dict"
      ]
     },
     "execution_count": 25,
     "metadata": {},
     "output_type": "execute_result"
    }
   ],
   "source": [
    "type(c.find_one())"
   ]
  },
  {
   "cell_type": "code",
   "execution_count": 26,
   "id": "76bcb4a2",
   "metadata": {},
   "outputs": [
    {
     "data": {
      "text/plain": [
       "{'_id': ObjectId('55f14312c7447c3da7051b26'),\n",
       " 'URL': 'http://www.just-eat.co.uk/restaurants-cn-chinese-cardiff/menu',\n",
       " 'address': '228 City Road',\n",
       " 'address line 2': 'Cardiff',\n",
       " 'name': '.CN Chinese',\n",
       " 'outcode': 'CF24',\n",
       " 'postcode': '3JH',\n",
       " 'rating': 5,\n",
       " 'type_of_food': 'Chinese'}"
      ]
     },
     "execution_count": 26,
     "metadata": {},
     "output_type": "execute_result"
    }
   ],
   "source": [
    "first_doc = c.find_one()\n",
    "first_doc"
   ]
  },
  {
   "cell_type": "code",
   "execution_count": 27,
   "id": "c56f0476",
   "metadata": {},
   "outputs": [
    {
     "data": {
      "text/plain": [
       "'228 City Road'"
      ]
     },
     "execution_count": 27,
     "metadata": {},
     "output_type": "execute_result"
    }
   ],
   "source": [
    "first_doc[\"address\"]"
   ]
  },
  {
   "cell_type": "code",
   "execution_count": 28,
   "id": "98590347",
   "metadata": {},
   "outputs": [
    {
     "data": {
      "text/plain": [
       "dict_keys(['_id', 'URL', 'address', 'address line 2', 'name', 'outcode', 'postcode', 'rating', 'type_of_food'])"
      ]
     },
     "execution_count": 28,
     "metadata": {},
     "output_type": "execute_result"
    }
   ],
   "source": [
    "first_doc.keys()"
   ]
  },
  {
   "cell_type": "markdown",
   "id": "c5687338",
   "metadata": {
    "lang": "en"
   },
   "source": [
    "# We want to search for Thai restaurants"
   ]
  },
  {
   "cell_type": "markdown",
   "id": "interstate-queue",
   "metadata": {},
   "source": [
    "```sql\n",
    "-- Filter in SQL:\n",
    "SELECT *\n",
    "WHERE type_of_food = \"Thai\"\n",
    "```"
   ]
  },
  {
   "cell_type": "markdown",
   "id": "f2fab51a",
   "metadata": {},
   "source": [
    "This would be the filter 👇🏻\n",
    "```python\n",
    "# Filter in Python\n",
    "{\"type_of_food\": \"Thai\"}\n",
    "```"
   ]
  },
  {
   "cell_type": "code",
   "execution_count": 29,
   "id": "relevant-strike",
   "metadata": {},
   "outputs": [
    {
     "data": {
      "text/plain": [
       "{'_id': ObjectId('55f14312c7447c3da7051b27'),\n",
       " 'URL': 'http://www.just-eat.co.uk/restaurants-atthai-ss9/menu',\n",
       " 'address': '376 Rayleigh Road',\n",
       " 'address line 2': 'Essex',\n",
       " 'name': '@ Thai',\n",
       " 'outcode': 'SS9',\n",
       " 'postcode': '5PT',\n",
       " 'rating': 5.5,\n",
       " 'type_of_food': 'Thai'}"
      ]
     },
     "execution_count": 29,
     "metadata": {},
     "output_type": "execute_result"
    }
   ],
   "source": [
    "c.find_one({\"type_of_food\": \"Thai\"})"
   ]
  },
  {
   "cell_type": "markdown",
   "id": "035ecefc",
   "metadata": {
    "lang": "en"
   },
   "source": [
    "### `find` method\n",
    "`collection.find(filter)`"
   ]
  },
  {
   "cell_type": "code",
   "execution_count": 36,
   "id": "creative-setting",
   "metadata": {},
   "outputs": [
    {
     "data": {
      "text/plain": [
       "'@ Thai Restaurant'"
      ]
     },
     "execution_count": 36,
     "metadata": {},
     "output_type": "execute_result"
    }
   ],
   "source": [
    "list(c.find({\"type_of_food\": \"Thai\"}))[1][\"name\"]"
   ]
  },
  {
   "cell_type": "code",
   "execution_count": 38,
   "id": "4354b098",
   "metadata": {},
   "outputs": [
    {
     "data": {
      "text/plain": [
       "['@ Thai',\n",
       " '@ Thai Restaurant',\n",
       " '@ Thai Restaurant',\n",
       " 'All Siam Thai Restaurant - Collection Only',\n",
       " \"Anna's Thai Restaurant\",\n",
       " \"Anna's Thai Restaurant\"]"
      ]
     },
     "execution_count": 38,
     "metadata": {},
     "output_type": "execute_result"
    }
   ],
   "source": [
    "new_list_name = []\n",
    "for i in list(c.find({\"type_of_food\": \"Thai\"})):\n",
    "    new_list_name.append(i[\"name\"])\n",
    "new_list_name[:6]"
   ]
  },
  {
   "cell_type": "markdown",
   "id": "084098dc",
   "metadata": {
    "lang": "en"
   },
   "source": [
    "The `pymongo` collection method returns a Cursor:\n",
    "- a Cursor is an iterator\n",
    "- a Cursor has the `__next__` method (the `next` function returns the next element in the stream)\n",
    "- `pymongo` does not fetch information until it is needed\n",
    "- a Cursor has no `len`."
   ]
  },
  {
   "cell_type": "code",
   "execution_count": 46,
   "id": "expanded-northwest",
   "metadata": {},
   "outputs": [],
   "source": [
    "documents = c.find()"
   ]
  },
  {
   "cell_type": "code",
   "execution_count": 47,
   "id": "6f340dda",
   "metadata": {},
   "outputs": [
    {
     "data": {
      "text/plain": [
       "<pymongo.cursor.Cursor at 0x7feb2d46b5e0>"
      ]
     },
     "execution_count": 47,
     "metadata": {},
     "output_type": "execute_result"
    }
   ],
   "source": [
    "documents"
   ]
  },
  {
   "cell_type": "code",
   "execution_count": 99,
   "id": "5210ce46",
   "metadata": {},
   "outputs": [
    {
     "data": {
      "text/plain": [
       "{'_id': ObjectId('55f14312c7447c3da7051b4a'),\n",
       " 'URL': 'http://www.just-eat.co.uk/restaurants-241piza-m34/menu',\n",
       " 'address': '88 Manchester Road',\n",
       " 'address line 2': 'Manchester',\n",
       " 'name': '2-4-1 Pizza',\n",
       " 'outcode': 'M34',\n",
       " 'postcode': '3PR',\n",
       " 'rating': 5,\n",
       " 'type_of_food': 'Pizza'}"
      ]
     },
     "execution_count": 99,
     "metadata": {},
     "output_type": "execute_result"
    }
   ],
   "source": [
    "documents.next()"
   ]
  },
  {
   "cell_type": "markdown",
   "id": "444a8c80",
   "metadata": {
    "lang": "en"
   },
   "source": [
    "## projection\n",
    "When a query is made in MongoDB using `.find()`, what the query returns is the set of documents corresponding to the query. By default, the complete documents with all their fields will be returned. Although we can select the fields of a document that we want to return the query, or what is the same, make a MongoDB Projection.\n",
    "If we want to select several fields, we simply have to indicate the name of the field followed by a 1. Or use a 0 to eliminate the fields to be displayed:\n",
    "\n",
    "The `_id` field is returned by default\n",
    "\n",
    "Syntax:\n",
    "`collection.find(filter, projection)`"
   ]
  },
  {
   "cell_type": "code",
   "execution_count": 79,
   "id": "4dfa58e0",
   "metadata": {},
   "outputs": [],
   "source": [
    "filter_ = {\"type_of_food\":\"Chinese\"}\n",
    "projection = {\"_id\":0, \"postcode\":1, \"rating\":1}"
   ]
  },
  {
   "cell_type": "code",
   "execution_count": 81,
   "id": "trying-external",
   "metadata": {
    "scrolled": true
   },
   "outputs": [
    {
     "data": {
      "text/plain": [
       "[{'postcode': '3JH', 'rating': 5},\n",
       " {'postcode': '3DS', 'rating': 4.5},\n",
       " {'postcode': '3DS', 'rating': 4.5},\n",
       " {'postcode': '1SN', 'rating': 5},\n",
       " {'postcode': '1JU', 'rating': 5}]"
      ]
     },
     "execution_count": 81,
     "metadata": {},
     "output_type": "execute_result"
    }
   ],
   "source": [
    "list(c.find(filter_, projection))[:5]"
   ]
  },
  {
   "cell_type": "code",
   "execution_count": 82,
   "id": "ba0c6425",
   "metadata": {},
   "outputs": [],
   "source": [
    "everything = list(c.find())"
   ]
  },
  {
   "cell_type": "code",
   "execution_count": 83,
   "id": "05bbe430",
   "metadata": {},
   "outputs": [
    {
     "data": {
      "text/plain": [
       "2488"
      ]
     },
     "execution_count": 83,
     "metadata": {},
     "output_type": "execute_result"
    }
   ],
   "source": [
    "len(everything)"
   ]
  },
  {
   "cell_type": "code",
   "execution_count": 86,
   "id": "c09e98ac",
   "metadata": {},
   "outputs": [
    {
     "data": {
      "text/html": [
       "<div>\n",
       "<style scoped>\n",
       "    .dataframe tbody tr th:only-of-type {\n",
       "        vertical-align: middle;\n",
       "    }\n",
       "\n",
       "    .dataframe tbody tr th {\n",
       "        vertical-align: top;\n",
       "    }\n",
       "\n",
       "    .dataframe thead th {\n",
       "        text-align: right;\n",
       "    }\n",
       "</style>\n",
       "<table border=\"1\" class=\"dataframe\">\n",
       "  <thead>\n",
       "    <tr style=\"text-align: right;\">\n",
       "      <th></th>\n",
       "      <th>_id</th>\n",
       "      <th>URL</th>\n",
       "      <th>address</th>\n",
       "      <th>address line 2</th>\n",
       "      <th>name</th>\n",
       "      <th>outcode</th>\n",
       "      <th>postcode</th>\n",
       "      <th>rating</th>\n",
       "      <th>type_of_food</th>\n",
       "      <th>holaq</th>\n",
       "      <th>dirección</th>\n",
       "      <th>otra cosa</th>\n",
       "      <th>holllla</th>\n",
       "      <th>diferente</th>\n",
       "    </tr>\n",
       "  </thead>\n",
       "  <tbody>\n",
       "    <tr>\n",
       "      <th>0</th>\n",
       "      <td>55f14312c7447c3da7051b26</td>\n",
       "      <td>http://www.just-eat.co.uk/restaurants-cn-chine...</td>\n",
       "      <td>228 City Road</td>\n",
       "      <td>Cardiff</td>\n",
       "      <td>.CN Chinese</td>\n",
       "      <td>CF24</td>\n",
       "      <td>3JH</td>\n",
       "      <td>5.0</td>\n",
       "      <td>Chinese</td>\n",
       "      <td>NaN</td>\n",
       "      <td>NaN</td>\n",
       "      <td>NaN</td>\n",
       "      <td>NaN</td>\n",
       "      <td>NaN</td>\n",
       "    </tr>\n",
       "    <tr>\n",
       "      <th>1</th>\n",
       "      <td>55f14312c7447c3da7051b27</td>\n",
       "      <td>http://www.just-eat.co.uk/restaurants-atthai-s...</td>\n",
       "      <td>376 Rayleigh Road</td>\n",
       "      <td>Essex</td>\n",
       "      <td>@ Thai</td>\n",
       "      <td>SS9</td>\n",
       "      <td>5PT</td>\n",
       "      <td>5.5</td>\n",
       "      <td>Thai</td>\n",
       "      <td>NaN</td>\n",
       "      <td>NaN</td>\n",
       "      <td>NaN</td>\n",
       "      <td>NaN</td>\n",
       "      <td>NaN</td>\n",
       "    </tr>\n",
       "    <tr>\n",
       "      <th>2</th>\n",
       "      <td>55f14312c7447c3da7051b28</td>\n",
       "      <td>http://www.just-eat.co.uk/restaurants-atthaire...</td>\n",
       "      <td>30 Greyhound Road Hammersmith</td>\n",
       "      <td>London</td>\n",
       "      <td>@ Thai Restaurant</td>\n",
       "      <td>W6</td>\n",
       "      <td>8NX</td>\n",
       "      <td>4.5</td>\n",
       "      <td>Thai</td>\n",
       "      <td>NaN</td>\n",
       "      <td>NaN</td>\n",
       "      <td>NaN</td>\n",
       "      <td>NaN</td>\n",
       "      <td>NaN</td>\n",
       "    </tr>\n",
       "    <tr>\n",
       "      <th>3</th>\n",
       "      <td>55f14312c7447c3da7051b29</td>\n",
       "      <td>http://www.just-eat.co.uk/restaurants-atthaire...</td>\n",
       "      <td>30 Greyhound Road Hammersmith</td>\n",
       "      <td>London</td>\n",
       "      <td>@ Thai Restaurant</td>\n",
       "      <td>W6</td>\n",
       "      <td>8NX</td>\n",
       "      <td>4.5</td>\n",
       "      <td>Thai</td>\n",
       "      <td>NaN</td>\n",
       "      <td>NaN</td>\n",
       "      <td>NaN</td>\n",
       "      <td>NaN</td>\n",
       "      <td>NaN</td>\n",
       "    </tr>\n",
       "    <tr>\n",
       "      <th>4</th>\n",
       "      <td>55f14312c7447c3da7051b2a</td>\n",
       "      <td>http://www.just-eat.co.uk/restaurants-indianco...</td>\n",
       "      <td>9 Broughton Hall Road</td>\n",
       "      <td>Broughton</td>\n",
       "      <td>@Indian.com</td>\n",
       "      <td>CH4</td>\n",
       "      <td>0QR</td>\n",
       "      <td>6.0</td>\n",
       "      <td>Curry</td>\n",
       "      <td>NaN</td>\n",
       "      <td>NaN</td>\n",
       "      <td>NaN</td>\n",
       "      <td>NaN</td>\n",
       "      <td>NaN</td>\n",
       "    </tr>\n",
       "    <tr>\n",
       "      <th>...</th>\n",
       "      <td>...</td>\n",
       "      <td>...</td>\n",
       "      <td>...</td>\n",
       "      <td>...</td>\n",
       "      <td>...</td>\n",
       "      <td>...</td>\n",
       "      <td>...</td>\n",
       "      <td>...</td>\n",
       "      <td>...</td>\n",
       "      <td>...</td>\n",
       "      <td>...</td>\n",
       "      <td>...</td>\n",
       "      <td>...</td>\n",
       "      <td>...</td>\n",
       "    </tr>\n",
       "    <tr>\n",
       "      <th>2483</th>\n",
       "      <td>55f14313c7447c3da7052518</td>\n",
       "      <td>http://www.just-eat.co.uk/restaurants-bluebree...</td>\n",
       "      <td>56 Bonney Road</td>\n",
       "      <td>Leicester</td>\n",
       "      <td>Blue Breeze Fish Bar</td>\n",
       "      <td>LE3</td>\n",
       "      <td>9NG</td>\n",
       "      <td>5.5</td>\n",
       "      <td>Fish &amp; Chips</td>\n",
       "      <td>NaN</td>\n",
       "      <td>NaN</td>\n",
       "      <td>NaN</td>\n",
       "      <td>NaN</td>\n",
       "      <td>NaN</td>\n",
       "    </tr>\n",
       "    <tr>\n",
       "      <th>2484</th>\n",
       "      <td>55f14313c7447c3da7052519</td>\n",
       "      <td>http://www.just-eat.co.uk/restaurants-bluebree...</td>\n",
       "      <td>56 Bonney Road</td>\n",
       "      <td>Leicester</td>\n",
       "      <td>Blue Breeze Fish Bar</td>\n",
       "      <td>LE3</td>\n",
       "      <td>9NG</td>\n",
       "      <td>5.5</td>\n",
       "      <td>Fish &amp; Chips</td>\n",
       "      <td>NaN</td>\n",
       "      <td>NaN</td>\n",
       "      <td>NaN</td>\n",
       "      <td>NaN</td>\n",
       "      <td>NaN</td>\n",
       "    </tr>\n",
       "    <tr>\n",
       "      <th>2485</th>\n",
       "      <td>62e0d5aae6e5595aa53d3fb2</td>\n",
       "      <td>NaN</td>\n",
       "      <td>NaN</td>\n",
       "      <td>NaN</td>\n",
       "      <td>NaN</td>\n",
       "      <td>NaN</td>\n",
       "      <td>NaN</td>\n",
       "      <td>NaN</td>\n",
       "      <td>NaN</td>\n",
       "      <td>qué tal</td>\n",
       "      <td>Paseo de la chopera 14</td>\n",
       "      <td>vale</td>\n",
       "      <td>NaN</td>\n",
       "      <td>NaN</td>\n",
       "    </tr>\n",
       "    <tr>\n",
       "      <th>2486</th>\n",
       "      <td>62e0d5aae6e5595aa53d3fb3</td>\n",
       "      <td>NaN</td>\n",
       "      <td>NaN</td>\n",
       "      <td>NaN</td>\n",
       "      <td>NaN</td>\n",
       "      <td>NaN</td>\n",
       "      <td>NaN</td>\n",
       "      <td>NaN</td>\n",
       "      <td>NaN</td>\n",
       "      <td>NaN</td>\n",
       "      <td>Paseo de la chopera 14</td>\n",
       "      <td>vale</td>\n",
       "      <td>qué tal</td>\n",
       "      <td>NaN</td>\n",
       "    </tr>\n",
       "    <tr>\n",
       "      <th>2487</th>\n",
       "      <td>62e0d5aae6e5595aa53d3fb4</td>\n",
       "      <td>NaN</td>\n",
       "      <td>NaN</td>\n",
       "      <td>NaN</td>\n",
       "      <td>NaN</td>\n",
       "      <td>NaN</td>\n",
       "      <td>NaN</td>\n",
       "      <td>NaN</td>\n",
       "      <td>NaN</td>\n",
       "      <td>NaN</td>\n",
       "      <td>Paseo de la chopera 14</td>\n",
       "      <td>vale</td>\n",
       "      <td>NaN</td>\n",
       "      <td>qué tal</td>\n",
       "    </tr>\n",
       "  </tbody>\n",
       "</table>\n",
       "<p>2488 rows × 14 columns</p>\n",
       "</div>"
      ],
      "text/plain": [
       "                           _id  \\\n",
       "0     55f14312c7447c3da7051b26   \n",
       "1     55f14312c7447c3da7051b27   \n",
       "2     55f14312c7447c3da7051b28   \n",
       "3     55f14312c7447c3da7051b29   \n",
       "4     55f14312c7447c3da7051b2a   \n",
       "...                        ...   \n",
       "2483  55f14313c7447c3da7052518   \n",
       "2484  55f14313c7447c3da7052519   \n",
       "2485  62e0d5aae6e5595aa53d3fb2   \n",
       "2486  62e0d5aae6e5595aa53d3fb3   \n",
       "2487  62e0d5aae6e5595aa53d3fb4   \n",
       "\n",
       "                                                    URL  \\\n",
       "0     http://www.just-eat.co.uk/restaurants-cn-chine...   \n",
       "1     http://www.just-eat.co.uk/restaurants-atthai-s...   \n",
       "2     http://www.just-eat.co.uk/restaurants-atthaire...   \n",
       "3     http://www.just-eat.co.uk/restaurants-atthaire...   \n",
       "4     http://www.just-eat.co.uk/restaurants-indianco...   \n",
       "...                                                 ...   \n",
       "2483  http://www.just-eat.co.uk/restaurants-bluebree...   \n",
       "2484  http://www.just-eat.co.uk/restaurants-bluebree...   \n",
       "2485                                                NaN   \n",
       "2486                                                NaN   \n",
       "2487                                                NaN   \n",
       "\n",
       "                            address address line 2                  name  \\\n",
       "0                     228 City Road        Cardiff           .CN Chinese   \n",
       "1                 376 Rayleigh Road          Essex                @ Thai   \n",
       "2     30 Greyhound Road Hammersmith         London     @ Thai Restaurant   \n",
       "3     30 Greyhound Road Hammersmith         London     @ Thai Restaurant   \n",
       "4             9 Broughton Hall Road      Broughton           @Indian.com   \n",
       "...                             ...            ...                   ...   \n",
       "2483                 56 Bonney Road      Leicester  Blue Breeze Fish Bar   \n",
       "2484                 56 Bonney Road      Leicester  Blue Breeze Fish Bar   \n",
       "2485                            NaN            NaN                   NaN   \n",
       "2486                            NaN            NaN                   NaN   \n",
       "2487                            NaN            NaN                   NaN   \n",
       "\n",
       "     outcode postcode  rating  type_of_food    holaq               dirección  \\\n",
       "0       CF24      3JH     5.0       Chinese      NaN                     NaN   \n",
       "1        SS9      5PT     5.5          Thai      NaN                     NaN   \n",
       "2         W6      8NX     4.5          Thai      NaN                     NaN   \n",
       "3         W6      8NX     4.5          Thai      NaN                     NaN   \n",
       "4        CH4      0QR     6.0         Curry      NaN                     NaN   \n",
       "...      ...      ...     ...           ...      ...                     ...   \n",
       "2483     LE3      9NG     5.5  Fish & Chips      NaN                     NaN   \n",
       "2484     LE3      9NG     5.5  Fish & Chips      NaN                     NaN   \n",
       "2485     NaN      NaN     NaN           NaN  qué tal  Paseo de la chopera 14   \n",
       "2486     NaN      NaN     NaN           NaN      NaN  Paseo de la chopera 14   \n",
       "2487     NaN      NaN     NaN           NaN      NaN  Paseo de la chopera 14   \n",
       "\n",
       "     otra cosa  holllla diferente  \n",
       "0          NaN      NaN       NaN  \n",
       "1          NaN      NaN       NaN  \n",
       "2          NaN      NaN       NaN  \n",
       "3          NaN      NaN       NaN  \n",
       "4          NaN      NaN       NaN  \n",
       "...        ...      ...       ...  \n",
       "2483       NaN      NaN       NaN  \n",
       "2484       NaN      NaN       NaN  \n",
       "2485      vale      NaN       NaN  \n",
       "2486      vale  qué tal       NaN  \n",
       "2487      vale      NaN   qué tal  \n",
       "\n",
       "[2488 rows x 14 columns]"
      ]
     },
     "execution_count": 86,
     "metadata": {},
     "output_type": "execute_result"
    }
   ],
   "source": [
    "df = pd.DataFrame(everything)\n",
    "df"
   ]
  },
  {
   "cell_type": "markdown",
   "id": "74a23354",
   "metadata": {
    "lang": "en"
   },
   "source": [
    "## Other methods"
   ]
  },
  {
   "cell_type": "markdown",
   "id": "de00cb5d",
   "metadata": {
    "lang": "en"
   },
   "source": [
    "### `distinct`\n",
    "How many distinct values ​​does a field have in the entire collection?"
   ]
  },
  {
   "cell_type": "code",
   "execution_count": 100,
   "id": "bulgarian-doctor",
   "metadata": {},
   "outputs": [
    {
     "data": {
      "text/plain": [
       "[1, 1.5, 2, 2.5, 3, 3.5, 4, 4.5, 5, 5.5, 6]"
      ]
     },
     "execution_count": 100,
     "metadata": {},
     "output_type": "execute_result"
    }
   ],
   "source": [
    "c.distinct(\"rating\")"
   ]
  },
  {
   "cell_type": "code",
   "execution_count": 113,
   "id": "d4615d11",
   "metadata": {},
   "outputs": [
    {
     "data": {
      "text/plain": [
       "['Afghan',\n",
       " 'African',\n",
       " 'American',\n",
       " 'Arabic',\n",
       " 'Azerbaijan',\n",
       " 'Bagels',\n",
       " 'Bangladeshi',\n",
       " 'Breakfast',\n",
       " 'Burgers']"
      ]
     },
     "execution_count": 113,
     "metadata": {},
     "output_type": "execute_result"
    }
   ],
   "source": [
    "c.distinct(\"type_of_food\")[:9]"
   ]
  },
  {
   "cell_type": "markdown",
   "id": "a93cdcbc",
   "metadata": {
    "lang": "en"
   },
   "source": [
    "### `count`\n",
    "Returns the count of documents that would match a find() query for the collection or view. The db.collection.count() method does not perform the find() operation, but instead counts and returns the number of results that match a query.\n",
    "Syntax:\n",
    "     \n",
    "`collection.count_documents(filter)`"
   ]
  },
  {
   "cell_type": "code",
   "execution_count": 104,
   "id": "593a04f3",
   "metadata": {},
   "outputs": [
    {
     "data": {
      "text/plain": [
       "2488"
      ]
     },
     "execution_count": 104,
     "metadata": {},
     "output_type": "execute_result"
    }
   ],
   "source": [
    "c.count_documents({})"
   ]
  },
  {
   "cell_type": "code",
   "execution_count": 111,
   "id": "e239592c",
   "metadata": {},
   "outputs": [
    {
     "data": {
      "text/plain": [
       "40"
      ]
     },
     "execution_count": 111,
     "metadata": {},
     "output_type": "execute_result"
    }
   ],
   "source": [
    "c.count_documents({\"type_of_food\": \"Thai\"})"
   ]
  },
  {
   "cell_type": "code",
   "execution_count": 115,
   "id": "0401f4ff",
   "metadata": {},
   "outputs": [
    {
     "data": {
      "text/plain": [
       "14"
      ]
     },
     "execution_count": 115,
     "metadata": {},
     "output_type": "execute_result"
    }
   ],
   "source": [
    "c.count_documents({\"type_of_food\": \"Middle Eastern\"})"
   ]
  },
  {
   "cell_type": "markdown",
   "id": "3d2a5f68",
   "metadata": {
    "lang": "en"
   },
   "source": [
    "### `sort`\n",
    "We can `sort` the result of a `find`\n",
    "\n",
    "`1` --> Sort ascending\n",
    "`-1` --> Descending order"
   ]
  },
  {
   "cell_type": "code",
   "execution_count": 127,
   "id": "alternate-jordan",
   "metadata": {},
   "outputs": [
    {
     "data": {
      "text/plain": [
       "[{'name': 'Asia Asia', 'rating': 3.5},\n",
       " {'name': 'Bamboo Garden Chinese Takeaway', 'rating': 3.5},\n",
       " {'name': '88 Noodle Bar', 'rating': 4},\n",
       " {'name': 'Amazing', 'rating': 4},\n",
       " {'name': 'Arirang', 'rating': 4},\n",
       " {'name': 'Arirang', 'rating': 4},\n",
       " {'name': 'Arirang', 'rating': 4},\n",
       " {'name': 'Arirang', 'rating': 4},\n",
       " {'name': 'Arirang', 'rating': 4},\n",
       " {'name': 'Arirang', 'rating': 4}]"
      ]
     },
     "execution_count": 127,
     "metadata": {},
     "output_type": "execute_result"
    }
   ],
   "source": [
    "query = {\"type_of_food\":\"Chinese\"}\n",
    "projection = {\"name\":1, \"rating\":1, \"_id\":0}\n",
    "#sorting = {\"rating\": -1}\n",
    "\n",
    "list(c.find(query, projection).sort(\"rating\", 1))[:5]"
   ]
  },
  {
   "cell_type": "code",
   "execution_count": 128,
   "id": "be0c17ab",
   "metadata": {},
   "outputs": [
    {
     "data": {
      "text/plain": [
       "[{'name': '113 Fish Bar', 'rating': 5.5},\n",
       " {'name': '168 Chinese & Cantonese Takeaway', 'rating': 5.5},\n",
       " {'name': '350 Wok', 'rating': 5.5},\n",
       " {'name': '350 Wok', 'rating': 5.5},\n",
       " {'name': '350 Wok', 'rating': 5.5}]"
      ]
     },
     "execution_count": 128,
     "metadata": {},
     "output_type": "execute_result"
    }
   ],
   "source": [
    "list(c.find(query, projection).sort(\"rating\", -1))[:5]"
   ]
  },
  {
   "cell_type": "code",
   "execution_count": 129,
   "id": "a088b1bb",
   "metadata": {},
   "outputs": [
    {
     "data": {
      "text/plain": [
       "[{'name': 'Asia Asia', 'rating': 3.5},\n",
       " {'name': 'Bamboo Garden Chinese Takeaway', 'rating': 3.5},\n",
       " {'name': '88 Noodle Bar', 'rating': 4},\n",
       " {'name': 'Amazing', 'rating': 4},\n",
       " {'name': 'Arirang', 'rating': 4}]"
      ]
     },
     "execution_count": 129,
     "metadata": {},
     "output_type": "execute_result"
    }
   ],
   "source": [
    "list(c.find(query, projection).sort(\"rating\"))[:5] # The default is ascend"
   ]
  },
  {
   "cell_type": "markdown",
   "id": "e0eadb0b",
   "metadata": {
    "lang": "en"
   },
   "source": [
    "### `limit`\n",
    "\n",
    "We can `limit` the result of a `find`"
   ]
  },
  {
   "cell_type": "code",
   "execution_count": 140,
   "id": "behavioral-saying",
   "metadata": {},
   "outputs": [
    {
     "data": {
      "text/plain": [
       "[{'name': '168 Chinese & Cantonese Takeaway', 'rating': 5.5},\n",
       " {'name': '350 Wok', 'rating': 5.5},\n",
       " {'name': '350 Wok', 'rating': 5.5},\n",
       " {'name': '113 Fish Bar', 'rating': 5.5}]"
      ]
     },
     "execution_count": 140,
     "metadata": {},
     "output_type": "execute_result"
    }
   ],
   "source": [
    "limited_list = list(c.find(query, projection).sort(\"rating\", -1).limit(4)) #-1: DESC\n",
    "limited_list"
   ]
  },
  {
   "cell_type": "code",
   "execution_count": 143,
   "id": "f6a18ae4",
   "metadata": {},
   "outputs": [
    {
     "data": {
      "text/plain": [
       "[{'name': '168 Chinese & Cantonese Takeaway', 'rating': 5.5},\n",
       " {'name': '350 Wok', 'rating': 5.5}]"
      ]
     },
     "execution_count": 143,
     "metadata": {},
     "output_type": "execute_result"
    }
   ],
   "source": [
    "limited_list[:2] # slicing for display, they're held in memory"
   ]
  },
  {
   "cell_type": "code",
   "execution_count": null,
   "id": "69df5c2d",
   "metadata": {},
   "outputs": [],
   "source": [
    "limited_list # limit just limits the amount received from mongo."
   ]
  },
  {
   "cell_type": "markdown",
   "id": "9e6f50b6",
   "metadata": {
    "lang": "en"
   },
   "source": [
    "### `skip`\n",
    "We can `skip` some results of a `find`\n",
    "Call the skip() method on a cursor to control where MongoDB starts returning results. This approach can be useful for implementing paginated results."
   ]
  },
  {
   "cell_type": "markdown",
   "id": "64791652",
   "metadata": {},
   "source": [
    "[FROM THE DOCS](https://www.mongodb.com/docs/manual/reference/method/cursor.skip/)\n",
    "\n",
    "If using `skip()` with `sort()`, be sure to include at least one field in your sort that contains unique values, before passing results to skip().\n",
    "\n",
    "Sorting on fields that contain duplicate values may return an inconsistent sort order for those duplicate fields over multiple executions, especially when the collection is actively receiving writes.\n",
    "\n"
   ]
  },
  {
   "cell_type": "code",
   "execution_count": null,
   "id": "ccccf329",
   "metadata": {},
   "outputs": [],
   "source": [
    "# Filter & projection\n",
    "c.find({\"type_of_food\":\"Chinese\"}, {\"name\":1,\"_id\":0, \"rating\":1})"
   ]
  },
  {
   "cell_type": "code",
   "execution_count": null,
   "id": "a45ae585",
   "metadata": {},
   "outputs": [],
   "source": [
    "# Sort\n",
    ".sort(\"rating\",1)"
   ]
  },
  {
   "cell_type": "code",
   "execution_count": null,
   "id": "551d310a",
   "metadata": {},
   "outputs": [],
   "source": [
    "# Limit\n",
    ".limit(20)"
   ]
  },
  {
   "cell_type": "code",
   "execution_count": null,
   "id": "d4e2a7f3",
   "metadata": {},
   "outputs": [],
   "source": [
    "# Skip\n",
    ".skip(2)"
   ]
  },
  {
   "cell_type": "code",
   "execution_count": null,
   "id": "b5471899",
   "metadata": {},
   "outputs": [],
   "source": [
    "# Cast all of it into a list"
   ]
  },
  {
   "cell_type": "code",
   "execution_count": 201,
   "id": "642a477b",
   "metadata": {},
   "outputs": [],
   "source": [
    "# All together here\n",
    "chinese_restaurants = list(c.find({\"type_of_food\":\"Chinese\"}, {\"name\":1,\"_id\":0, \"rating\":1}).limit(20))"
   ]
  },
  {
   "cell_type": "code",
   "execution_count": 202,
   "id": "c477680f",
   "metadata": {},
   "outputs": [
    {
     "data": {
      "text/plain": [
       "[{'name': '.CN Chinese', 'rating': 5},\n",
       " {'name': '1 2 3 Chinese', 'rating': 4.5},\n",
       " {'name': '1 2 3 Chinese', 'rating': 4.5},\n",
       " {'name': '100 Degrees Chinese Restaurant', 'rating': 5},\n",
       " {'name': '100 Menu', 'rating': 5},\n",
       " {'name': '113 Fish Bar', 'rating': 5.5},\n",
       " {'name': '168 Chinese & Cantonese Takeaway', 'rating': 5.5},\n",
       " {'name': '1A Wok', 'rating': 5},\n",
       " {'name': '328 Chinese Online', 'rating': 5},\n",
       " {'name': '333 Chinese Takeaway', 'rating': 5}]"
      ]
     },
     "execution_count": 202,
     "metadata": {},
     "output_type": "execute_result"
    }
   ],
   "source": [
    "# Limiting the print so it's not infinite\n",
    "chinese_restaurants[:10]"
   ]
  },
  {
   "cell_type": "code",
   "execution_count": 205,
   "id": "parental-supervisor",
   "metadata": {},
   "outputs": [],
   "source": [
    "# All together here\n",
    "chinese_restaurants_skip2 = list(c.find({\"type_of_food\":\"Chinese\"}, {\"name\":1,\"_id\":0, \"rating\":1}).skip(3))"
   ]
  },
  {
   "cell_type": "code",
   "execution_count": 206,
   "id": "2c3b5678",
   "metadata": {
    "scrolled": true
   },
   "outputs": [
    {
     "data": {
      "text/plain": [
       "[{'name': '100 Degrees Chinese Restaurant', 'rating': 5},\n",
       " {'name': '100 Menu', 'rating': 5},\n",
       " {'name': '113 Fish Bar', 'rating': 5.5},\n",
       " {'name': '168 Chinese & Cantonese Takeaway', 'rating': 5.5},\n",
       " {'name': '1A Wok', 'rating': 5},\n",
       " {'name': '328 Chinese Online', 'rating': 5},\n",
       " {'name': '333 Chinese Takeaway', 'rating': 5},\n",
       " {'name': '333 Chinese Takeaway', 'rating': 5},\n",
       " {'name': '333 Chinese Takeaway1', 'rating': 4.5},\n",
       " {'name': '350 Wok', 'rating': 5.5}]"
      ]
     },
     "execution_count": 206,
     "metadata": {},
     "output_type": "execute_result"
    }
   ],
   "source": [
    "chinese_restaurants_skip2[:10]"
   ]
  },
  {
   "cell_type": "markdown",
   "id": "3b3112d1",
   "metadata": {},
   "source": [
    "⚠️: `skip` --> docs"
   ]
  },
  {
   "cell_type": "markdown",
   "id": "82c9ae17",
   "metadata": {
    "lang": "en"
   },
   "source": [
    "## Typical query operators\n",
    "Query operators are preceded by the dollar sign `$`."
   ]
  },
  {
   "cell_type": "markdown",
   "id": "b6edfe50",
   "metadata": {
    "lang": "en"
   },
   "source": [
    "### Greater than / Less than\n",
    "Is a numeric field greater than or less than a given value"
   ]
  },
  {
   "cell_type": "code",
   "execution_count": 211,
   "id": "unable-irrigation",
   "metadata": {},
   "outputs": [
    {
     "data": {
      "text/plain": [
       "[{'_id': ObjectId('55f14312c7447c3da7051b26'),\n",
       "  'URL': 'http://www.just-eat.co.uk/restaurants-cn-chinese-cardiff/menu',\n",
       "  'address': '228 City Road',\n",
       "  'address line 2': 'Cardiff',\n",
       "  'name': '.CN Chinese',\n",
       "  'outcode': 'CF24',\n",
       "  'postcode': '3JH',\n",
       "  'rating': 5,\n",
       "  'type_of_food': 'Chinese'},\n",
       " {'_id': ObjectId('55f14312c7447c3da7051b27'),\n",
       "  'URL': 'http://www.just-eat.co.uk/restaurants-atthai-ss9/menu',\n",
       "  'address': '376 Rayleigh Road',\n",
       "  'address line 2': 'Essex',\n",
       "  'name': '@ Thai',\n",
       "  'outcode': 'SS9',\n",
       "  'postcode': '5PT',\n",
       "  'rating': 5.5,\n",
       "  'type_of_food': 'Thai'}]"
      ]
     },
     "execution_count": 211,
     "metadata": {},
     "output_type": "execute_result"
    }
   ],
   "source": [
    "list(c.find({\"rating\": {\"$gte\": 4}}).limit(2))"
   ]
  },
  {
   "cell_type": "markdown",
   "id": "bcd5a091",
   "metadata": {
    "lang": "en"
   },
   "source": [
    "### `exists`\n",
    "When <boolean> is true, $exists matches documents that contain the field, including documents where the field value is null. If <boolean> is false, the query returns only documents that do not contain the field"
   ]
  },
  {
   "cell_type": "code",
   "execution_count": 237,
   "id": "6e9f71d1",
   "metadata": {},
   "outputs": [],
   "source": [
    "client = MongoClient(\"localhost:27017\")\n",
    "db = client[\"Ironhack\"]\n",
    "c = db.get_collection(\"restaurants\")"
   ]
  },
  {
   "cell_type": "code",
   "execution_count": 238,
   "id": "korean-constant",
   "metadata": {},
   "outputs": [
    {
     "data": {
      "text/plain": [
       "2548"
      ]
     },
     "execution_count": 238,
     "metadata": {},
     "output_type": "execute_result"
    }
   ],
   "source": [
    "len(list(c.find({\"rating\": {\"$exists\": True}}))) #If the field is present, rating"
   ]
  },
  {
   "cell_type": "code",
   "execution_count": 239,
   "id": "6a2ecca5",
   "metadata": {},
   "outputs": [
    {
     "data": {
      "text/plain": [
       "2548"
      ]
     },
     "execution_count": 239,
     "metadata": {},
     "output_type": "execute_result"
    }
   ],
   "source": [
    "exists = {\"$exists\": True}\n",
    "query = {\"rating\": exists}\n",
    "\n",
    "\n",
    "len(list(c.find(query)))"
   ]
  },
  {
   "cell_type": "code",
   "execution_count": 240,
   "id": "5011f182",
   "metadata": {},
   "outputs": [
    {
     "data": {
      "text/plain": [
       "0"
      ]
     },
     "execution_count": 240,
     "metadata": {},
     "output_type": "execute_result"
    }
   ],
   "source": [
    "len(list(c.find({\"rating\": {\"$exists\": False}})))"
   ]
  },
  {
   "cell_type": "markdown",
   "id": "e615639d",
   "metadata": {
    "lang": "en"
   },
   "source": [
    "### `regex`\n",
    "It offers the possibility of using regular expressions to search for patterns in queries."
   ]
  },
  {
   "cell_type": "code",
   "execution_count": 242,
   "id": "tested-liberal",
   "metadata": {},
   "outputs": [],
   "source": [
    "query = {\"name\": {\"$regex\": \".*Halal.*\"}}"
   ]
  },
  {
   "cell_type": "code",
   "execution_count": 246,
   "id": "e4cd8cae",
   "metadata": {},
   "outputs": [
    {
     "data": {
      "text/plain": [
       "[{'_id': ObjectId('55f14312c7447c3da7051c0c'),\n",
       "  'URL': 'http://www.just-eat.co.uk/restaurants-acha-halal-chinese-cuisine-birmingham/menu',\n",
       "  'address': '7 Heybarnes Road',\n",
       "  'address line 2': 'Birmingham',\n",
       "  'name': 'Acha Halal Chinese Cuisine',\n",
       "  'outcode': 'B10',\n",
       "  'postcode': '9HR',\n",
       "  'rating': 5,\n",
       "  'type_of_food': 'Chinese'},\n",
       " {'_id': ObjectId('55f14313c7447c3da70522e9'),\n",
       "  'URL': 'http://www.just-eat.co.uk/restaurants-beirut-eh8/menu',\n",
       "  'address': '24 Nicholson Square',\n",
       "  'address line 2': 'Edinburgh',\n",
       "  'name': 'Beirut Lebanese Halal Restaurant',\n",
       "  'outcode': 'EH8',\n",
       "  'postcode': '9BX',\n",
       "  'rating': 4.5,\n",
       "  'type_of_food': 'Lebanese'},\n",
       " {'_id': ObjectId('55f14313c7447c3da70522ea'),\n",
       "  'URL': 'http://www.just-eat.co.uk/restaurants-beirut-eh8/menu',\n",
       "  'address': '24 Nicholson Square',\n",
       "  'address line 2': 'Edinburgh',\n",
       "  'name': 'Beirut Lebanese Halal Restaurant',\n",
       "  'outcode': 'EH8',\n",
       "  'postcode': '9BX',\n",
       "  'rating': 4.5,\n",
       "  'type_of_food': 'Lebanese'}]"
      ]
     },
     "execution_count": 246,
     "metadata": {},
     "output_type": "execute_result"
    }
   ],
   "source": [
    "list(c.find(query))"
   ]
  },
  {
   "cell_type": "code",
   "execution_count": 248,
   "id": "0bf37c97",
   "metadata": {},
   "outputs": [
    {
     "data": {
      "text/plain": [
       "[{'_id': ObjectId('55f14312c7447c3da7051b2b'),\n",
       "  'URL': 'http://www.just-eat.co.uk/restaurants-007takeaway-s65/menu',\n",
       "  'address': '6 Drummond Street',\n",
       "  'address line 2': 'Rotherham',\n",
       "  'name': '007 Takeaway',\n",
       "  'outcode': 'S65',\n",
       "  'postcode': '1HY',\n",
       "  'rating': 6,\n",
       "  'type_of_food': 'Pizza'},\n",
       " {'_id': ObjectId('55f14312c7447c3da7051b2c'),\n",
       "  'URL': 'http://www.just-eat.co.uk/restaurants-042-restaurant-e11/menu',\n",
       "  'address': '885 High Road Leytonstone',\n",
       "  'address line 2': 'London',\n",
       "  'name': '042 Restaurant & Bar',\n",
       "  'outcode': 'E11',\n",
       "  'postcode': '1HR',\n",
       "  'rating': 3,\n",
       "  'type_of_food': 'African'}]"
      ]
     },
     "execution_count": 248,
     "metadata": {},
     "output_type": "execute_result"
    }
   ],
   "source": [
    "query = {\"name\": {\"$regex\": \".*\\d+.*\"}}\n",
    "list(c.find(query))[:2]"
   ]
  },
  {
   "cell_type": "markdown",
   "id": "66a3c9a6",
   "metadata": {
    "lang": "en"
   },
   "source": [
    "### `and`\n",
    "Performs a logical AND operation on an array of one or more expressions (for example, <expresión1>, <expresión2>, etc.), and selects the documents that satisfy all expressions in the array. The $and operator uses short-circuit evaluation. If the first expression (for example, <expresión1>) evaluates to false, MongoDB will not evaluate the remaining expressions."
   ]
  },
  {
   "cell_type": "markdown",
   "id": "8794c404",
   "metadata": {
    "lang": "en"
   },
   "source": [
    "AND Syntax\n",
    "`find({\"$and\": [cond1, cond2]})`"
   ]
  },
  {
   "cell_type": "code",
   "execution_count": 256,
   "id": "freelance-reduction",
   "metadata": {},
   "outputs": [],
   "source": [
    "filter_1 = {\"type_of_food\":\"Pizza\"} # to be pizza place\n",
    "filter_2 = {\"rating\": {\"$gt\": 3}}#rating higher than 3\n",
    "filter_3 = {\"name\":{\"$regex\": \".*\\d+.*\"}}"
   ]
  },
  {
   "cell_type": "code",
   "execution_count": null,
   "id": "40245d2d",
   "metadata": {},
   "outputs": [],
   "source": [
    "list(c.find({\"$and\": [{\"type_of_food\":\"Pizza\"}, {\"rating\": {\"$gt\": 3}}, {\"name\":{\"$regex\": \".*\\d+.*\"}}]}).limit(3))"
   ]
  },
  {
   "cell_type": "code",
   "execution_count": 266,
   "id": "3373b63d",
   "metadata": {},
   "outputs": [],
   "source": [
    "all_filters_2 = [filter_1, filter_2, filter_3]"
   ]
  },
  {
   "cell_type": "code",
   "execution_count": 260,
   "id": "8fa92cee",
   "metadata": {},
   "outputs": [],
   "source": [
    "all_filters = [{\"type_of_food\":\"Pizza\"}, {\"rating\": {\"$gt\": 3}}, {\"name\":{\"$regex\": \".*\\d+.*\"}}]"
   ]
  },
  {
   "cell_type": "code",
   "execution_count": 261,
   "id": "74cba624",
   "metadata": {},
   "outputs": [
    {
     "data": {
      "text/plain": [
       "[{'_id': ObjectId('55f14312c7447c3da7051b2b'),\n",
       "  'URL': 'http://www.just-eat.co.uk/restaurants-007takeaway-s65/menu',\n",
       "  'address': '6 Drummond Street',\n",
       "  'address line 2': 'Rotherham',\n",
       "  'name': '007 Takeaway',\n",
       "  'outcode': 'S65',\n",
       "  'postcode': '1HY',\n",
       "  'rating': 6,\n",
       "  'type_of_food': 'Pizza'}]"
      ]
     },
     "execution_count": 261,
     "metadata": {},
     "output_type": "execute_result"
    }
   ],
   "source": [
    "list(c.find({\"$and\": all_filters}).limit(1))"
   ]
  },
  {
   "cell_type": "code",
   "execution_count": 252,
   "id": "9fbce043",
   "metadata": {},
   "outputs": [
    {
     "data": {
      "text/plain": [
       "<pymongo.cursor.Cursor at 0x7feb2f3e7a30>"
      ]
     },
     "execution_count": 252,
     "metadata": {},
     "output_type": "execute_result"
    }
   ],
   "source": [
    "c.find(filter_1)"
   ]
  },
  {
   "cell_type": "code",
   "execution_count": 264,
   "id": "38de9685",
   "metadata": {},
   "outputs": [
    {
     "data": {
      "text/plain": [
       "[{'_id': ObjectId('55f14312c7447c3da7051b26'),\n",
       "  'URL': 'http://www.just-eat.co.uk/restaurants-cn-chinese-cardiff/menu',\n",
       "  'address': '228 City Road',\n",
       "  'address line 2': 'Cardiff',\n",
       "  'name': '.CN Chinese',\n",
       "  'outcode': 'CF24',\n",
       "  'postcode': '3JH',\n",
       "  'rating': 5,\n",
       "  'type_of_food': 'Chinese'}]"
      ]
     },
     "execution_count": 264,
     "metadata": {},
     "output_type": "execute_result"
    }
   ],
   "source": [
    "# It does work like this, but maybe not reccomended\n",
    "list(c.find({\"type_of_food\": \"Chinese\", \"rating\": {\"$gte\":5},\"name\": {\"$regex\": \".*\\d*.\"}}).limit(1))"
   ]
  },
  {
   "cell_type": "code",
   "execution_count": 255,
   "id": "db531a70",
   "metadata": {},
   "outputs": [
    {
     "data": {
      "text/plain": [
       "500"
      ]
     },
     "execution_count": 255,
     "metadata": {},
     "output_type": "execute_result"
    }
   ],
   "source": [
    "len(list(c.find(filter_1)))"
   ]
  },
  {
   "cell_type": "markdown",
   "id": "9f9cdcd9",
   "metadata": {
    "lang": "en"
   },
   "source": [
    "### `or`\n",
    "The or operator performs a logical OR operation on an array of two or more expressions and selects the documents that satisfy at least one of the expressions.\n",
    "The operator $or tiene la siguiente sintaxis:      \n",
    "`colección.find({\"$or\": [condition1, condition, condition3 ]})`"
   ]
  },
  {
   "cell_type": "code",
   "execution_count": 272,
   "id": "54aa6899",
   "metadata": {
    "lang": "en"
   },
   "outputs": [
    {
     "data": {
      "text/plain": [
       "174"
      ]
     },
     "execution_count": 272,
     "metadata": {},
     "output_type": "execute_result"
    }
   ],
   "source": [
    "query = {\"type_of_food\": \"Chinese\"}\n",
    "len(list(c.find(query)))"
   ]
  },
  {
   "cell_type": "code",
   "execution_count": 273,
   "id": "17df0ac6",
   "metadata": {},
   "outputs": [
    {
     "data": {
      "text/plain": [
       "40"
      ]
     },
     "execution_count": 273,
     "metadata": {},
     "output_type": "execute_result"
    }
   ],
   "source": [
    "query_2 = {\"type_of_food\":\"Thai\"}\n",
    "len(list(c.find(query_2)))"
   ]
  },
  {
   "cell_type": "code",
   "execution_count": 278,
   "id": "2ae75174",
   "metadata": {},
   "outputs": [
    {
     "data": {
      "text/plain": [
       "[{'_id': ObjectId('55f14312c7447c3da7051b26'),\n",
       "  'URL': 'http://www.just-eat.co.uk/restaurants-cn-chinese-cardiff/menu',\n",
       "  'address': '228 City Road',\n",
       "  'address line 2': 'Cardiff',\n",
       "  'name': '.CN Chinese',\n",
       "  'outcode': 'CF24',\n",
       "  'postcode': '3JH',\n",
       "  'rating': 5,\n",
       "  'type_of_food': 'Chinese'},\n",
       " {'_id': ObjectId('55f14312c7447c3da7051b27'),\n",
       "  'URL': 'http://www.just-eat.co.uk/restaurants-atthai-ss9/menu',\n",
       "  'address': '376 Rayleigh Road',\n",
       "  'address line 2': 'Essex',\n",
       "  'name': '@ Thai',\n",
       "  'outcode': 'SS9',\n",
       "  'postcode': '5PT',\n",
       "  'rating': 5.5,\n",
       "  'type_of_food': 'Thai'}]"
      ]
     },
     "execution_count": 278,
     "metadata": {},
     "output_type": "execute_result"
    }
   ],
   "source": [
    "list(c.find({\"$or\":[query, query_2]}))[:2]"
   ]
  },
  {
   "cell_type": "code",
   "execution_count": 285,
   "id": "183e8538",
   "metadata": {},
   "outputs": [],
   "source": [
    "# Good Thai\n",
    "thai = {\"type_of_food\":\"Thai\"}\n",
    "good = {\"rating\": {\"$gt\": 4}}\n",
    "\n",
    "\n",
    "\n",
    "#Spanish\n",
    "spanish = {\"type_of_food\":\"Spanish\"}"
   ]
  },
  {
   "cell_type": "code",
   "execution_count": 287,
   "id": "95dfe67a",
   "metadata": {},
   "outputs": [
    {
     "data": {
      "text/plain": [
       "[{'_id': ObjectId('55f14312c7447c3da7051b27'),\n",
       "  'URL': 'http://www.just-eat.co.uk/restaurants-atthai-ss9/menu',\n",
       "  'address': '376 Rayleigh Road',\n",
       "  'address line 2': 'Essex',\n",
       "  'name': '@ Thai',\n",
       "  'outcode': 'SS9',\n",
       "  'postcode': '5PT',\n",
       "  'rating': 5.5,\n",
       "  'type_of_food': 'Thai'},\n",
       " {'_id': ObjectId('55f14312c7447c3da7051b28'),\n",
       "  'URL': 'http://www.just-eat.co.uk/restaurants-atthairestaurant/menu',\n",
       "  'address': '30 Greyhound Road Hammersmith',\n",
       "  'address line 2': 'London',\n",
       "  'name': '@ Thai Restaurant',\n",
       "  'outcode': 'W6',\n",
       "  'postcode': '8NX',\n",
       "  'rating': 4.5,\n",
       "  'type_of_food': 'Thai'}]"
      ]
     },
     "execution_count": 287,
     "metadata": {},
     "output_type": "execute_result"
    }
   ],
   "source": [
    "# Good thai OR Spanish\n",
    "\n",
    "list(c.find({\"$or\": [{\"$and\": [thai, good]}, spanish]}))[:2]"
   ]
  },
  {
   "cell_type": "markdown",
   "id": "6b5bbe07",
   "metadata": {
    "lang": "en"
   },
   "source": [
    "### `ne`\n",
    "not equal\n",
    "Selects the documents in which the value of the field is not equal to the specified value. This includes documents that do not contain the field."
   ]
  },
  {
   "cell_type": "code",
   "execution_count": 299,
   "id": "interim-operations",
   "metadata": {},
   "outputs": [
    {
     "data": {
      "text/plain": [
       "{'_id': ObjectId('55f14312c7447c3da7051bbc'),\n",
       " 'URL': 'http://www.just-eat.co.uk/restaurants-aarthi-sw19/menu',\n",
       " 'address': '5 Kingston Road',\n",
       " 'address line 2': 'London',\n",
       " 'name': 'Aarthi',\n",
       " 'outcode': 'SW19',\n",
       " 'postcode': '1JX',\n",
       " 'rating': 6,\n",
       " 'type_of_food': 'Curry'}"
      ]
     },
     "execution_count": 299,
     "metadata": {},
     "output_type": "execute_result"
    }
   ],
   "source": [
    "#not_pizza = \n",
    "rating = {\"rating\": {\"$gte\": 5}}\n",
    "\n",
    "list(c.find({\"type_of_food\": {\"$ne\":\"pizza\"}, \"rating\":6}))[2]"
   ]
  },
  {
   "cell_type": "markdown",
   "id": "ab4af384",
   "metadata": {
    "lang": "en"
   },
   "source": [
    "### `in`\n",
    "The in operator selects documents in which the value of a field is equal to any value in the specified array. To specify a $in, use the following syntax:\n",
    "```python\n",
    "{ field: { $in expression: [<value1>, <value2>, ... <valueN> ] } }\n",
    " ```"
   ]
  },
  {
   "cell_type": "code",
   "execution_count": 301,
   "id": "dietary-office",
   "metadata": {},
   "outputs": [
    {
     "data": {
      "text/plain": [
       "[{'_id': ObjectId('55f14312c7447c3da7051b26'),\n",
       "  'URL': 'http://www.just-eat.co.uk/restaurants-cn-chinese-cardiff/menu',\n",
       "  'address': '228 City Road',\n",
       "  'address line 2': 'Cardiff',\n",
       "  'name': '.CN Chinese',\n",
       "  'outcode': 'CF24',\n",
       "  'postcode': '3JH',\n",
       "  'rating': 5,\n",
       "  'type_of_food': 'Chinese'},\n",
       " {'_id': ObjectId('55f14312c7447c3da7051b2c'),\n",
       "  'URL': 'http://www.just-eat.co.uk/restaurants-042-restaurant-e11/menu',\n",
       "  'address': '885 High Road Leytonstone',\n",
       "  'address line 2': 'London',\n",
       "  'name': '042 Restaurant & Bar',\n",
       "  'outcode': 'E11',\n",
       "  'postcode': '1HR',\n",
       "  'rating': 3,\n",
       "  'type_of_food': 'African'}]"
      ]
     },
     "execution_count": 301,
     "metadata": {},
     "output_type": "execute_result"
    }
   ],
   "source": [
    "list(c.find({\"rating\": {\"$in\": [1, 3, 5]}}).limit(2))"
   ]
  },
  {
   "cell_type": "markdown",
   "id": "467b57f8",
   "metadata": {
    "lang": "en"
   },
   "source": [
    "### `nin`\n",
    "\n",
    "Syntax:\n",
    "```python\n",
    "{ field: { $nin: [ <valor1>, <valor2> ... <valorN> ]} }\n",
    "```\n",
    "\n",
    "not in selects the documents in which\n",
    "\n",
    "- field value is not in the specified array\n",
    "- the field does not exist."
   ]
  },
  {
   "cell_type": "code",
   "execution_count": 302,
   "id": "supposed-synthetic",
   "metadata": {},
   "outputs": [
    {
     "data": {
      "text/plain": [
       "[{'_id': ObjectId('55f14312c7447c3da7051b27'),\n",
       "  'URL': 'http://www.just-eat.co.uk/restaurants-atthai-ss9/menu',\n",
       "  'address': '376 Rayleigh Road',\n",
       "  'address line 2': 'Essex',\n",
       "  'name': '@ Thai',\n",
       "  'outcode': 'SS9',\n",
       "  'postcode': '5PT',\n",
       "  'rating': 5.5,\n",
       "  'type_of_food': 'Thai'},\n",
       " {'_id': ObjectId('55f14312c7447c3da7051b28'),\n",
       "  'URL': 'http://www.just-eat.co.uk/restaurants-atthairestaurant/menu',\n",
       "  'address': '30 Greyhound Road Hammersmith',\n",
       "  'address line 2': 'London',\n",
       "  'name': '@ Thai Restaurant',\n",
       "  'outcode': 'W6',\n",
       "  'postcode': '8NX',\n",
       "  'rating': 4.5,\n",
       "  'type_of_food': 'Thai'}]"
      ]
     },
     "execution_count": 302,
     "metadata": {},
     "output_type": "execute_result"
    }
   ],
   "source": [
    "list(c.find({\"rating\": {\"$nin\": [1, 3, 5]}}).limit(2))"
   ]
  },
  {
   "cell_type": "markdown",
   "id": "91bec018",
   "metadata": {
    "lang": "en"
   },
   "source": [
    "If I don't want to be given those that don't have that field, I would have to do an AND"
   ]
  },
  {
   "cell_type": "code",
   "execution_count": null,
   "id": "pleasant-functionality",
   "metadata": {},
   "outputs": [],
   "source": []
  },
  {
   "cell_type": "markdown",
   "id": "3cc74122",
   "metadata": {
    "lang": "en"
   },
   "source": [
    "## Update\n",
    "Modifies an existing document or documents in a collection. The method can modify specific fields of an existing document(s) or replace an existing document entirely, depending on the update parameter.\n",
    "Beware, this action cannot be undone.\n",
    "Syntax:\n",
    "```python\n",
    "collection.update_many(condition/filter, update)\n",
    "```\n",
    "\n",
    "We can update a field with `$set` y con `$unset` we delete it"
   ]
  },
  {
   "cell_type": "code",
   "execution_count": 304,
   "id": "subjective-headquarters",
   "metadata": {},
   "outputs": [
    {
     "data": {
      "text/plain": [
       "[{'_id': ObjectId('55f14313c7447c3da705246b'),\n",
       "  'URL': 'http://www.just-eat.co.uk/restaurants-bigboyzpizza/menu',\n",
       "  'address': '112 Windermere Avenue',\n",
       "  'address line 2': 'Wembley',\n",
       "  'name': 'Big Boys Pizza',\n",
       "  'outcode': 'HA9',\n",
       "  'postcode': '8RB',\n",
       "  'rating': 2,\n",
       "  'type_of_food': 'Pizza'},\n",
       " {'_id': ObjectId('55f14313c7447c3da705246c'),\n",
       "  'URL': 'http://www.just-eat.co.uk/restaurants-bigboyzpizza/menu',\n",
       "  'address': '112 Windermere Avenue',\n",
       "  'address line 2': 'Wembley',\n",
       "  'name': 'Big Boys Pizza',\n",
       "  'outcode': 'HA9',\n",
       "  'postcode': '8RB',\n",
       "  'rating': 2,\n",
       "  'type_of_food': 'Pizza'},\n",
       " {'_id': ObjectId('55f14313c7447c3da705246d'),\n",
       "  'URL': 'http://www.just-eat.co.uk/restaurants-bigboyzpizza/menu',\n",
       "  'address': '112 Windermere Avenue',\n",
       "  'address line 2': 'Wembley',\n",
       "  'name': 'Big Boys Pizza',\n",
       "  'outcode': 'HA9',\n",
       "  'postcode': '8RB',\n",
       "  'rating': 2,\n",
       "  'type_of_food': 'Pizza'}]"
      ]
     },
     "execution_count": 304,
     "metadata": {},
     "output_type": "execute_result"
    }
   ],
   "source": [
    "list(c.find({\"rating\": 2}))"
   ]
  },
  {
   "cell_type": "code",
   "execution_count": 305,
   "id": "66624da5",
   "metadata": {},
   "outputs": [
    {
     "data": {
      "text/plain": [
       "<pymongo.results.UpdateResult at 0x7feb30a0a430>"
      ]
     },
     "execution_count": 305,
     "metadata": {},
     "output_type": "execute_result"
    }
   ],
   "source": [
    "c.update_many(\n",
    "    {\"rating\":2}, \n",
    "    {\"$set\": {\"rating\":100}}\n",
    ")"
   ]
  },
  {
   "cell_type": "code",
   "execution_count": 306,
   "id": "61d368d5",
   "metadata": {},
   "outputs": [
    {
     "data": {
      "text/plain": [
       "[{'_id': ObjectId('55f14313c7447c3da705246b'),\n",
       "  'URL': 'http://www.just-eat.co.uk/restaurants-bigboyzpizza/menu',\n",
       "  'address': '112 Windermere Avenue',\n",
       "  'address line 2': 'Wembley',\n",
       "  'name': 'Big Boys Pizza',\n",
       "  'outcode': 'HA9',\n",
       "  'postcode': '8RB',\n",
       "  'rating': 100,\n",
       "  'type_of_food': 'Pizza'},\n",
       " {'_id': ObjectId('55f14313c7447c3da705246c'),\n",
       "  'URL': 'http://www.just-eat.co.uk/restaurants-bigboyzpizza/menu',\n",
       "  'address': '112 Windermere Avenue',\n",
       "  'address line 2': 'Wembley',\n",
       "  'name': 'Big Boys Pizza',\n",
       "  'outcode': 'HA9',\n",
       "  'postcode': '8RB',\n",
       "  'rating': 100,\n",
       "  'type_of_food': 'Pizza'},\n",
       " {'_id': ObjectId('55f14313c7447c3da705246d'),\n",
       "  'URL': 'http://www.just-eat.co.uk/restaurants-bigboyzpizza/menu',\n",
       "  'address': '112 Windermere Avenue',\n",
       "  'address line 2': 'Wembley',\n",
       "  'name': 'Big Boys Pizza',\n",
       "  'outcode': 'HA9',\n",
       "  'postcode': '8RB',\n",
       "  'rating': 100,\n",
       "  'type_of_food': 'Pizza'}]"
      ]
     },
     "execution_count": 306,
     "metadata": {},
     "output_type": "execute_result"
    }
   ],
   "source": [
    "list(c.find({\"rating\":100}))"
   ]
  },
  {
   "cell_type": "markdown",
   "id": "2ce76b2d",
   "metadata": {
    "lang": "en"
   },
   "source": [
    "## Query 7 from the lab . All the companies that have a null type of value on the category_code field."
   ]
  },
  {
   "cell_type": "code",
   "execution_count": null,
   "id": "essential-naples",
   "metadata": {},
   "outputs": [],
   "source": []
  },
  {
   "cell_type": "markdown",
   "id": "4206287b",
   "metadata": {
    "lang": "en"
   },
   "source": [
    "## Delete\n",
    "Removes from a collection all documents that match the filter.\n",
    "Syntax:\n",
    "```python\n",
    "c.delete_many(condition/filter)\n",
    "```"
   ]
  },
  {
   "cell_type": "code",
   "execution_count": 307,
   "id": "regular-milton",
   "metadata": {},
   "outputs": [
    {
     "data": {
      "text/plain": [
       "<pymongo.results.DeleteResult at 0x7feb2fa259d0>"
      ]
     },
     "execution_count": 307,
     "metadata": {},
     "output_type": "execute_result"
    }
   ],
   "source": [
    "c.delete_many({\"rating\":{\"$lte\": 1}})"
   ]
  },
  {
   "cell_type": "code",
   "execution_count": 311,
   "id": "a806cc41",
   "metadata": {},
   "outputs": [
    {
     "data": {
      "text/plain": [
       "[]"
      ]
     },
     "execution_count": 311,
     "metadata": {},
     "output_type": "execute_result"
    }
   ],
   "source": [
    "list(c.find({\"rating\": 1}))"
   ]
  },
  {
   "cell_type": "markdown",
   "id": "outer-james",
   "metadata": {},
   "source": [
    "## Insert"
   ]
  },
  {
   "cell_type": "markdown",
   "id": "991915e8",
   "metadata": {
    "lang": "en"
   },
   "source": [
    "We insert documents in the collection\n",
    "Syntax\n",
    "```python\n",
    "db.collection.insert()\n",
    "```"
   ]
  },
  {
   "cell_type": "code",
   "execution_count": 313,
   "id": "alternative-cliff",
   "metadata": {},
   "outputs": [],
   "source": [
    "doc = {\"hey\":\"hi\", \"hello\":\"789\", \"1000\":1}"
   ]
  },
  {
   "cell_type": "code",
   "execution_count": 314,
   "id": "c4c288fb",
   "metadata": {},
   "outputs": [
    {
     "data": {
      "text/plain": [
       "<pymongo.results.InsertOneResult at 0x7feb2fa25790>"
      ]
     },
     "execution_count": 314,
     "metadata": {},
     "output_type": "execute_result"
    }
   ],
   "source": [
    "c.insert_one(doc)"
   ]
  },
  {
   "cell_type": "code",
   "execution_count": 315,
   "id": "587d6360",
   "metadata": {},
   "outputs": [
    {
     "data": {
      "text/plain": [
       "[{'_id': ObjectId('62e1201070eca9b85aa487ba'),\n",
       "  'hey': 'hi',\n",
       "  'hello': '789',\n",
       "  '1000': 1}]"
      ]
     },
     "execution_count": 315,
     "metadata": {},
     "output_type": "execute_result"
    }
   ],
   "source": [
    "list(c.find({\"hey\":\"hi\"}))"
   ]
  },
  {
   "cell_type": "markdown",
   "id": "cdbe7465",
   "metadata": {
    "lang": "en"
   },
   "source": [
    "## Extra info\n",
    "Nested query fields"
   ]
  },
  {
   "cell_type": "markdown",
   "id": "305465fe",
   "metadata": {},
   "source": [
    "```javascript\n",
    "const car = {make: \"fiat\", year:1900, \n",
    "             randomkey: {random: \"nested valueeee\"}}\n",
    "\n",
    "console.log(car)\n",
    "console.log(car.make)\n",
    "console.log(car.randomkey.random)\n",
    "\n",
    "\n",
    "`key.value.nested.value` \n",
    "\n",
    "```\n",
    "\n",
    "\n",
    "JSON\n",
    "JavaScript Object Notification\n",
    "\n",
    "same type of data, different name"
   ]
  },
  {
   "cell_type": "markdown",
   "id": "416d1599",
   "metadata": {
    "lang": "en"
   },
   "source": [
    "## Summary\n",
    "Your turn, what have we learned today?\n"
   ]
  },
  {
   "cell_type": "markdown",
   "id": "6edfa7c7",
   "metadata": {},
   "source": [
    "- Installing DB, and importing info\n",
    "- Connection to server\n",
    "- Explore collections through Compass\n",
    "- Operators: `$or`, `$ne`, `$and` -> `$operators`\n",
    "- Disctinct values, counts, sorting, limiting, skipping ❓\n",
    "- Find_one, find_many\n",
    "- CRUD: Create, Read, Update, Delete\n",
    "- Regex everywhere\n",
    "- If the key/field is present on the document: `$exists` \n",
    "- Insert\n",
    "- Sort by asc, desc using 1, -1: sort by multiple things\n",
    "- Count documents with filter\n",
    "- Mongo doesn't care about docuemnts structure\n",
    "- Cursor: don't need how it wors, just that mongo makes it efficient by returning that instead of the proper Python list\n",
    "- Missing values: null, https://www.mongodb.com/docs/manual/reference/operator/query/type/\n",
    "- Mongo docs: https://www.mongodb.com/docs/\n",
    "- Project\n",
    "\n",
    "\n",
    "Filter -> Where in SQL\n",
    "Projection -> Select in SQL\n",
    "Limit -> Limit in SQL"
   ]
  },
  {
   "cell_type": "markdown",
   "id": "13408e8f",
   "metadata": {
    "lang": "en"
   },
   "source": [
    "## Further Materials\n",
    "- Mongo courses developed directly by MongoDB (free and VERY COMPLETE) [HERE](https://university.mongodb.com/)\n",
    "- What is mongo: [advanced interesting concepts not seen in class](https://openwebinars.net/blog/what-is-mongodb/)\n",
    "- Beginner`s guide mongo with [python](https://www.analyticsvidhya.com/blog/2020/02/mongodb-in-python-tutorial-for-beginners-using-pymongo/)"
   ]
  }
 ],
 "metadata": {
  "kernelspec": {
   "display_name": "ironhack",
   "language": "python",
   "name": "ironhack"
  },
  "language_info": {
   "codemirror_mode": {
    "name": "ipython",
    "version": 3
   },
   "file_extension": ".py",
   "mimetype": "text/x-python",
   "name": "python",
   "nbconvert_exporter": "python",
   "pygments_lexer": "ipython3",
   "version": "3.8.13"
  },
  "nbTranslate": {
   "displayLangs": [
    "en",
    "es"
   ],
   "hotkey": "alt-a",
   "langInMainMenu": true,
   "sourceLang": "es",
   "targetLang": "en",
   "useGoogleTranslate": true
  },
  "toc": {
   "base_numbering": 1,
   "nav_menu": {},
   "number_sections": true,
   "sideBar": true,
   "skip_h1_title": true,
   "title_cell": "Table of Contents",
   "title_sidebar": "Contents",
   "toc_cell": true,
   "toc_position": {
    "height": "calc(100% - 180px)",
    "left": "10px",
    "top": "150px",
    "width": "165px"
   },
   "toc_section_display": true,
   "toc_window_display": true
  }
 },
 "nbformat": 4,
 "nbformat_minor": 5
}
