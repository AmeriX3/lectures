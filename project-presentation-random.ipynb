{
 "cells": [
  {
   "cell_type": "code",
   "execution_count": 6,
   "id": "e1a6f9e6",
   "metadata": {},
   "outputs": [],
   "source": [
    "import random\n",
    "import time"
   ]
  },
  {
   "cell_type": "code",
   "execution_count": 11,
   "id": "fad19bdb",
   "metadata": {},
   "outputs": [],
   "source": [
    "students = [\"Ameri\", \"Hassan\", \"Sam\", \"Nico\", \"Venice\", \"Juliana\"]"
   ]
  },
  {
   "cell_type": "code",
   "execution_count": 14,
   "id": "a4f37bfb",
   "metadata": {},
   "outputs": [],
   "source": [
    "presented_students = [\"Viktor\", \"Peter\", \"Edgard\", \"Gaspar\", \"Dani\"]"
   ]
  },
  {
   "cell_type": "code",
   "execution_count": 13,
   "id": "fa9577dd",
   "metadata": {},
   "outputs": [
    {
     "name": "stdout",
     "output_type": "stream",
     "text": [
      "Today Peter will be presenting their project 🕺\n",
      "Today Viktor will be presenting their project 🕺\n"
     ]
    }
   ],
   "source": [
    "def choose_students (people, n):\n",
    "    for i in range(n):\n",
    "        time.sleep(2)\n",
    "        a = random.choice(people)\n",
    "        people.remove(a)\n",
    "        presented_students.append(a)\n",
    "        \n",
    "        print(f\"Today {a} will be presenting their project 🕺\")\n",
    "        \n",
    "        for i in students:\n",
    "            print(f\"{i} watch out, you might be next 😵‍\")"
   ]
  },
  {
   "cell_type": "code",
   "execution_count": null,
   "id": "0345d580",
   "metadata": {},
   "outputs": [],
   "source": [
    "choose_students (students, 2)"
   ]
  }
 ],
 "metadata": {
  "kernelspec": {
   "display_name": "Python 3 (ipykernel)",
   "language": "python",
   "name": "python3"
  },
  "language_info": {
   "codemirror_mode": {
    "name": "ipython",
    "version": 3
   },
   "file_extension": ".py",
   "mimetype": "text/x-python",
   "name": "python",
   "nbconvert_exporter": "python",
   "pygments_lexer": "ipython3",
   "version": "3.9.12"
  },
  "nbTranslate": {
   "displayLangs": [
    "en",
    "es"
   ],
   "hotkey": "alt-a",
   "langInMainMenu": true,
   "sourceLang": "es",
   "targetLang": "en",
   "useGoogleTranslate": true
  },
  "toc": {
   "base_numbering": 1,
   "nav_menu": {},
   "number_sections": true,
   "sideBar": true,
   "skip_h1_title": false,
   "title_cell": "Table of Contents",
   "title_sidebar": "Contents",
   "toc_cell": false,
   "toc_position": {},
   "toc_section_display": true,
   "toc_window_display": false
  }
 },
 "nbformat": 4,
 "nbformat_minor": 5
}
