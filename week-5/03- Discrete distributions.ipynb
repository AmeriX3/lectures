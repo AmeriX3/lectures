{
 "cells": [
  {
   "cell_type": "markdown",
   "metadata": {
    "lang": "en"
   },
   "source": [
    "# Discrete probability distributions"
   ]
  },
  {
   "cell_type": "markdown",
   "metadata": {
    "toc": true
   },
   "source": [
    "<h1>Table of Contents<span class=\"tocSkip\"></span></h1>\n",
    "<div class=\"toc\"><ul class=\"toc-item\"><li><span><a href=\"#Basic-concepts\" data-toc-modified-id=\"Basic-concepts-1\"><span class=\"toc-item-num\">1&nbsp;&nbsp;</span>Basic concepts</a></span><ul class=\"toc-item\"><li><span><a href=\"#Random-experiment:\" data-toc-modified-id=\"Random-experiment:-1.1\"><span class=\"toc-item-num\">1.1&nbsp;&nbsp;</span>Random experiment:</a></span></li><li><span><a href=\"#Sample-space\" data-toc-modified-id=\"Sample-space-1.2\"><span class=\"toc-item-num\">1.2&nbsp;&nbsp;</span>Sample space</a></span></li><li><span><a href=\"#Random-variable\" data-toc-modified-id=\"Random-variable-1.3\"><span class=\"toc-item-num\">1.3&nbsp;&nbsp;</span>Random variable</a></span></li><li><span><a href=\"#Brief-summary-as-a-whole\" data-toc-modified-id=\"Brief-summary-as-a-whole-1.4\"><span class=\"toc-item-num\">1.4&nbsp;&nbsp;</span>Brief summary as a whole</a></span></li></ul></li><li><span><a href=\"#Examples\" data-toc-modified-id=\"Examples-2\"><span class=\"toc-item-num\">2&nbsp;&nbsp;</span>Examples</a></span><ul class=\"toc-item\"><li><span><a href=\"#Flip-the-coin\" data-toc-modified-id=\"Flip-the-coin-2.1\"><span class=\"toc-item-num\">2.1&nbsp;&nbsp;</span>Flip the coin</a></span></li><li><span><a href=\"#Biased-Coin-70-/-30\" data-toc-modified-id=\"Biased-Coin-70-/-30-2.2\"><span class=\"toc-item-num\">2.2&nbsp;&nbsp;</span>Biased Coin 70 / 30</a></span><ul class=\"toc-item\"><li><span><a href=\"#Roll-a-die\" data-toc-modified-id=\"Roll-a-die-2.2.1\"><span class=\"toc-item-num\">2.2.1&nbsp;&nbsp;</span>Roll a die</a></span></li><li><span><a href=\"#The-first-letter-of-our-name\" data-toc-modified-id=\"The-first-letter-of-our-name-2.2.2\"><span class=\"toc-item-num\">2.2.2&nbsp;&nbsp;</span>The first letter of our name</a></span></li></ul></li></ul></li><li><span><a href=\"#Discrete-probability-distributions:-Bernouilli,-Binomial-&amp;-Poisson\" data-toc-modified-id=\"Discrete-probability-distributions:-Bernouilli,-Binomial-&amp;-Poisson-3\"><span class=\"toc-item-num\">3&nbsp;&nbsp;</span>Discrete probability distributions: Bernouilli, Binomial &amp; Poisson</a></span><ul class=\"toc-item\"><li><span><a href=\"#Bernoulli-distribution\" data-toc-modified-id=\"Bernoulli-distribution-3.1\"><span class=\"toc-item-num\">3.1&nbsp;&nbsp;</span>Bernoulli distribution</a></span><ul class=\"toc-item\"><li><span><a href=\"#Let's-Python\" data-toc-modified-id=\"Let's-Python-3.1.1\"><span class=\"toc-item-num\">3.1.1&nbsp;&nbsp;</span>Let's Python</a></span></li></ul></li><li><span><a href=\"#Binomial-Distribution\" data-toc-modified-id=\"Binomial-Distribution-3.2\"><span class=\"toc-item-num\">3.2&nbsp;&nbsp;</span>Binomial Distribution</a></span><ul class=\"toc-item\"><li><span><a href=\"#Let's-Python\" data-toc-modified-id=\"Let's-Python-3.2.1\"><span class=\"toc-item-num\">3.2.1&nbsp;&nbsp;</span>Let's Python</a></span></li></ul></li><li><span><a href=\"#scipy.stats-generates-methods-regardless-of-our-distribution\" data-toc-modified-id=\"scipy.stats-generates-methods-regardless-of-our-distribution-3.3\"><span class=\"toc-item-num\">3.3&nbsp;&nbsp;</span>scipy.stats generates methods regardless of our distribution</a></span><ul class=\"toc-item\"><li><span><a href=\"#RVS\" data-toc-modified-id=\"RVS-3.3.1\"><span class=\"toc-item-num\">3.3.1&nbsp;&nbsp;</span>RVS</a></span></li><li><span><a href=\"#PMF\" data-toc-modified-id=\"PMF-3.3.2\"><span class=\"toc-item-num\">3.3.2&nbsp;&nbsp;</span>PMF</a></span></li><li><span><a href=\"#CDF\" data-toc-modified-id=\"CDF-3.3.3\"><span class=\"toc-item-num\">3.3.3&nbsp;&nbsp;</span>CDF</a></span></li><li><span><a href=\"#Mean,-Variance,-Standard-Deviation\" data-toc-modified-id=\"Mean,-Variance,-Standard-Deviation-3.3.4\"><span class=\"toc-item-num\">3.3.4&nbsp;&nbsp;</span>Mean, Variance, Standard Deviation</a></span></li></ul></li><li><span><a href=\"#Poisson-distribution\" data-toc-modified-id=\"Poisson-distribution-3.4\"><span class=\"toc-item-num\">3.4&nbsp;&nbsp;</span>Poisson distribution</a></span></li></ul></li></ul></div>"
   ]
  },
  {
   "cell_type": "code",
   "execution_count": 33,
   "metadata": {},
   "outputs": [],
   "source": [
    "# Viz mantra\n",
    "from matplotlib import pyplot as plt\n",
    "%matplotlib inline\n",
    "%config Inlinebackend.figure_format = 'retina'\n",
    "\n",
    "import seaborn as sns\n",
    "sns.set_context('poster')\n",
    "sns.set(rc={'figure.figsize': (16., 9.)})\n",
    "sns.set_style('whitegrid')"
   ]
  },
  {
   "cell_type": "markdown",
   "metadata": {
    "lang": "en"
   },
   "source": [
    "## Basic concepts\n",
    "\n",
    "### Random experiment:\n",
    "The process of observing a phenomenon for which all possible outcomes are known in advance, but from the initial conditions it cannot be predicted exactly which of these outcomes will occur.\n",
    "\n",
    "### Sample space\n",
    "It is the set of all possible outcomes of a random experiment. It is denoted by Ω = {e1, e2, . . . , in, . . .} and each of its elements is called an elementary event or sample point.\n",
    "\n",
    "### Random variable\n",
    "In probability and statistics, a random variable is a function that assigns a value, usually numerical, to the outcome of a random experiment. For example, the possible outcomes of rolling a die twice: (1, 1), (1, 2), etc. or a real number (e.g., the maximum temperature measured throughout the day in a specific city)."
   ]
  },
  {
   "cell_type": "markdown",
   "metadata": {
    "lang": "en"
   },
   "source": [
    "### Brief summary as a whole"
   ]
  },
  {
   "cell_type": "markdown",
   "metadata": {
    "lang": "en"
   },
   "source": [
    "Random experiment is the controlled reproduction of a phenomenon, with uncertainty about the result that will be obtained. A random experiment under the same apparent set of initial conditions may present different results, that is, the exact result of each particular experiment cannot be predicted or reproduced. (Ex: Rolling a die, tossing a coin, tossing a card from a deck)."
   ]
  },
  {
   "cell_type": "markdown",
   "metadata": {
    "lang": "en"
   },
   "source": [
    "* **Sample Space** $\\Omega$ is the set of possible outcomes. {H, T} in the case of tossing a coin.\n",
    "* In general, not all outcomes are equally likely.\n",
    "* The probabilities of each outcome are specified by a random variable X.\n",
    "* A **random variable** X is a function from the sample space $\\Omega$ to the real numbers $\\mathbb{R}$."
   ]
  },
  {
   "cell_type": "markdown",
   "metadata": {
    "colab_type": "text",
    "id": "RGEdKGZnMqBF"
   },
   "source": [
    "$$X: \\Omega \\rightarrow \\mathbb{R}$$"
   ]
  },
  {
   "cell_type": "markdown",
   "metadata": {
    "lang": "en"
   },
   "source": [
    "That is, for each element $x \\in \\Omega$, we have $P(X=x) \\in \\mathbb{R}$"
   ]
  },
  {
   "cell_type": "markdown",
   "metadata": {
    "lang": "en"
   },
   "source": [
    "**NOTE**: all probabilities must add (integrate in case of continuous variables) to one"
   ]
  },
  {
   "cell_type": "markdown",
   "metadata": {},
   "source": [
    "$$\\sum_{x \\in \\Omega} P(X=x) = 1$$"
   ]
  },
  {
   "cell_type": "markdown",
   "metadata": {
    "lang": "en"
   },
   "source": [
    "## Examples"
   ]
  },
  {
   "cell_type": "markdown",
   "metadata": {
    "lang": "en"
   },
   "source": [
    "### Flip the coin"
   ]
  },
  {
   "cell_type": "markdown",
   "metadata": {},
   "source": [
    "<img src=\"https://www.neurochispas.com/wp-content/uploads/2020/07/Intuicion-probabilistica-1.svg\" width=300>"
   ]
  },
  {
   "cell_type": "markdown",
   "metadata": {
    "lang": "en"
   },
   "source": [
    "The sample space is $\\Omega = \\{H, T\\}$, heads or tails.\n",
    "Being the coin fair, both outcomes are equally likely."
   ]
  },
  {
   "cell_type": "markdown",
   "metadata": {
    "lang": "en"
   },
   "source": [
    "The random variable X is defined as:"
   ]
  },
  {
   "cell_type": "markdown",
   "metadata": {},
   "source": [
    "$P(X=H) = \\frac{1}{2}$\n",
    "\n",
    "$P(X=T) = \\frac{1}{2}$"
   ]
  },
  {
   "cell_type": "markdown",
   "metadata": {},
   "source": [
    "\n",
    "<div align=\"center\">$\\sum_{x \\in \\Omega} P(X=x) = 1$</div> \n"
   ]
  },
  {
   "cell_type": "markdown",
   "metadata": {
    "lang": "en"
   },
   "source": [
    "Or what is the same... that the probability of each possibility adds 1 in a random event"
   ]
  },
  {
   "cell_type": "markdown",
   "metadata": {},
   "source": [
    "<div align=\"center\">  $P(X=H) + P(X=T) = 1$</div> \n"
   ]
  },
  {
   "cell_type": "markdown",
   "metadata": {
    "lang": "en"
   },
   "source": [
    "### Biased Coin 70 / 30"
   ]
  },
  {
   "cell_type": "code",
   "execution_count": null,
   "metadata": {},
   "outputs": [],
   "source": [
    "# weighted coin"
   ]
  },
  {
   "cell_type": "markdown",
   "metadata": {},
   "source": [
    "![coin](https://media.giphy.com/media/hWk4OcIkPDfSCon46I/giphy.gif)"
   ]
  },
  {
   "cell_type": "markdown",
   "metadata": {
    "lang": "en"
   },
   "source": [
    "The sample space is $\\Omega = \\{H, T\\}$, heads and tails\n",
    "The random variable x is defined as:"
   ]
  },
  {
   "cell_type": "markdown",
   "metadata": {},
   "source": [
    "$P(X=H) = \\frac{7}{10}$\n",
    "\n",
    "$P(X=T) = \\frac{3}{10}$"
   ]
  },
  {
   "cell_type": "markdown",
   "metadata": {
    "lang": "en"
   },
   "source": [
    "#### Roll a die"
   ]
  },
  {
   "cell_type": "markdown",
   "metadata": {},
   "source": [
    "![dado](https://media.giphy.com/media/8mmRfT31UfaifyuYa8/giphy.gif)"
   ]
  },
  {
   "cell_type": "markdown",
   "metadata": {
    "lang": "en"
   },
   "source": [
    "The sample space is $\\Omega = \\{1, 2, 3, 4, 5, 6\\}$"
   ]
  },
  {
   "cell_type": "markdown",
   "metadata": {},
   "source": [
    "<img src=\"data:image/jpeg;base64,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\" width=300>"
   ]
  },
  {
   "cell_type": "markdown",
   "metadata": {
    "lang": "en"
   },
   "source": [
    "The random variable x:"
   ]
  },
  {
   "cell_type": "markdown",
   "metadata": {},
   "source": [
    "$P(X=1) = P(X=2) = P(X=3) = P(X=4) = P(X=5) = P(X=6) = \\frac{1}{6}$"
   ]
  },
  {
   "cell_type": "markdown",
   "metadata": {},
   "source": [
    "$$\\sum_{x \\in X} P(X=x) = 1$$"
   ]
  },
  {
   "cell_type": "markdown",
   "metadata": {
    "lang": "en"
   },
   "source": [
    "#### The first letter of our name"
   ]
  },
  {
   "cell_type": "markdown",
   "metadata": {},
   "source": [
    "<img src=\"https://i.pinimg.com/originals/0b/e4/ad/0be4adcffad57cfca79dbf64b3889fc2.jpg\" width=500>"
   ]
  },
  {
   "cell_type": "code",
   "execution_count": 785,
   "metadata": {},
   "outputs": [],
   "source": [
    "class_ =[\n",
    "    \"Niko\",\n",
    "    \"Peter\",\n",
    "    \"Gaspar\",\n",
    "    \"Dani\",\n",
    "    \"Venice\",\n",
    "    \"Edgard\",\n",
    "    \"Viktor\",\n",
    "    \"Juliana\",\n",
    "    \"Sam\",\n",
    "    \"Hassan\",\n",
    "    \"Ameri\"\n",
    "] "
   ]
  },
  {
   "cell_type": "code",
   "execution_count": 786,
   "metadata": {},
   "outputs": [
    {
     "name": "stdout",
     "output_type": "stream",
     "text": [
      "['N', 'P', 'G', 'D', 'V', 'E', 'V', 'J', 'S', 'H', 'A']\n"
     ]
    }
   ],
   "source": [
    "letters = [el[0] for el in class_]\n",
    "print(letters)"
   ]
  },
  {
   "cell_type": "code",
   "execution_count": 787,
   "metadata": {},
   "outputs": [
    {
     "data": {
      "text/plain": [
       "11"
      ]
     },
     "execution_count": 787,
     "metadata": {},
     "output_type": "execute_result"
    }
   ],
   "source": [
    "len(letters)"
   ]
  },
  {
   "cell_type": "markdown",
   "metadata": {},
   "source": [
    "The sample space $\\Omega = \\{N, P, G, D, V, E, J, S, H, A\\}$"
   ]
  },
  {
   "cell_type": "code",
   "execution_count": 788,
   "metadata": {},
   "outputs": [
    {
     "data": {
      "text/plain": [
       "Counter({'N': 1,\n",
       "         'P': 1,\n",
       "         'G': 1,\n",
       "         'D': 1,\n",
       "         'V': 2,\n",
       "         'E': 1,\n",
       "         'J': 1,\n",
       "         'S': 1,\n",
       "         'H': 1,\n",
       "         'A': 1})"
      ]
     },
     "execution_count": 788,
     "metadata": {},
     "output_type": "execute_result"
    }
   ],
   "source": [
    "from collections import Counter\n",
    "count = Counter(letters)\n",
    "count"
   ]
  },
  {
   "cell_type": "markdown",
   "metadata": {
    "lang": "en"
   },
   "source": [
    "The random variable X is defined as:"
   ]
  },
  {
   "cell_type": "markdown",
   "metadata": {},
   "source": [
    "$P(x=N) = \\frac{1}{11}$\n",
    "\n",
    "$P(x=P) = \\frac{1}{11}$\n",
    "\n",
    "$P(x=G) = \\frac{1}{11}$\n",
    "\n",
    "$P(x=D) = \\frac{1}{11}$\n",
    "\n",
    "$P(x=V) = \\frac{2}{11}$\n",
    "\n",
    "$P(x=E) = \\frac{1}{11}$\n",
    "\n",
    "$P(x=J) = \\frac{1}{11}$\n",
    "\n",
    "$P(x=S) = \\frac{1}{11}$\n",
    "\n",
    "$P(x=H) = \\frac{1}{11}$\n",
    "\n",
    "$P(x=A) = \\frac{1}{11}$"
   ]
  },
  {
   "cell_type": "markdown",
   "metadata": {
    "lang": "en"
   },
   "source": [
    "## Discrete probability distributions: Bernouilli, Binomial & Poisson"
   ]
  },
  {
   "cell_type": "markdown",
   "metadata": {
    "lang": "en"
   },
   "source": [
    "- **Discrete probability distributions** are those that only take a finite (or countably infinite) number of different values.\n",
    "\n",
    "- X is a discrete random variable.\n",
    "X follows a discrete probability distribution.\n",
    "\n",
    "- A probability mass function, often abbreviated PMF , tells us the probability that a discrete random variable takes on a certain value."
   ]
  },
  {
   "cell_type": "markdown",
   "metadata": {},
   "source": [
    "$$X: \\Omega \\rightarrow \\mathbb{R}$$"
   ]
  },
  {
   "cell_type": "markdown",
   "metadata": {},
   "source": [
    "$P(X=H)=0.7$"
   ]
  },
  {
   "cell_type": "markdown",
   "metadata": {
    "lang": "en"
   },
   "source": [
    "Probability mass functions in practice 👇🏻🤔"
   ]
  },
  {
   "cell_type": "markdown",
   "metadata": {
    "lang": "en"
   },
   "source": [
    "### Bernoulli distribution\n",
    "The Bernoulli distribution is a theoretical model used to represent a discrete random variable which can only result in two mutually exclusive events.\n",
    "In other words, the Bernoulli distribution is a distribution applied to a discrete random variable, which can only result in two possible events: “success” and “no success”.\n",
    "The Bernouilli distribution has 2 possible outcomes, with probability $p$ and $1-p$. \n",
    "\n",
    "**Example: biased coin**"
   ]
  },
  {
   "cell_type": "markdown",
   "metadata": {
    "lang": "en"
   },
   "source": [
    "* $\\Omega = \\{0, 1\\}$ (think H and T)\n",
    "* We call the probability of success 𝑝.\n",
    "\n",
    "\n",
    "We prepare our distribution."
   ]
  },
  {
   "cell_type": "markdown",
   "metadata": {},
   "source": [
    "\n",
    "<div align=\"center\">$X \\sim Bernoulli(p)$</div> \n"
   ]
  },
  {
   "cell_type": "markdown",
   "metadata": {
    "lang": "en"
   },
   "source": [
    "#### Let's Python"
   ]
  },
  {
   "cell_type": "code",
   "execution_count": 1,
   "metadata": {
    "colab": {},
    "colab_type": "code",
    "id": "Rm-AQZ_DGor6"
   },
   "outputs": [],
   "source": [
    "p = 0.8"
   ]
  },
  {
   "cell_type": "markdown",
   "metadata": {
    "lang": "en"
   },
   "source": [
    "This means that I have bought a machine that every time I press the button it returns a 1 or a 0.\n",
    "1 with the probability of 0.8 (success) and 0 with the probability of 0.2"
   ]
  },
  {
   "cell_type": "markdown",
   "metadata": {},
   "source": [
    "$P(X=1)=p=0.8$\n",
    "\n",
    "$P(X=0)=1-p=0.2$"
   ]
  },
  {
   "cell_type": "markdown",
   "metadata": {
    "lang": "en"
   },
   "source": [
    "We generate random samples, how? with `.rvs` (random variates sample)"
   ]
  },
  {
   "cell_type": "code",
   "execution_count": 2,
   "metadata": {
    "colab": {},
    "colab_type": "code",
    "id": "Rm-AQZ_DGor6"
   },
   "outputs": [],
   "source": [
    "from scipy.stats import bernoulli"
   ]
  },
  {
   "cell_type": "code",
   "execution_count": 3,
   "metadata": {
    "lang": "en"
   },
   "outputs": [],
   "source": [
    "# Initialize with the biased coin\n",
    "my_bernoulli = bernoulli(p)"
   ]
  },
  {
   "cell_type": "code",
   "execution_count": 792,
   "metadata": {},
   "outputs": [
    {
     "data": {
      "text/plain": [
       "<scipy.stats._distn_infrastructure.rv_frozen at 0x7ff609c6f910>"
      ]
     },
     "execution_count": 792,
     "metadata": {},
     "output_type": "execute_result"
    }
   ],
   "source": [
    "my_bernoulli"
   ]
  },
  {
   "cell_type": "code",
   "execution_count": 22,
   "metadata": {
    "lang": "en"
   },
   "outputs": [
    {
     "data": {
      "text/plain": [
       "array([1])"
      ]
     },
     "execution_count": 22,
     "metadata": {},
     "output_type": "execute_result"
    }
   ],
   "source": [
    "# .rvs returns a sample\n",
    "my_bernoulli.rvs(size=1)"
   ]
  },
  {
   "cell_type": "code",
   "execution_count": 114,
   "metadata": {},
   "outputs": [],
   "source": [
    "sample = my_bernoulli.rvs(size=100)"
   ]
  },
  {
   "cell_type": "code",
   "execution_count": 115,
   "metadata": {
    "colab": {},
    "colab_type": "code",
    "id": "Rm-AQZ_DGor6"
   },
   "outputs": [
    {
     "data": {
      "text/plain": [
       "array([0, 1, 1, 1, 1, 1, 1, 1, 1, 0, 1, 1, 1, 1, 1, 1, 0, 1, 1, 1, 1, 1,\n",
       "       0, 1, 1, 1, 1, 1, 0, 1, 1, 1, 1, 1, 1, 1, 1, 1, 0, 1, 1, 1, 1, 1,\n",
       "       1, 1, 1, 1, 1, 1, 0, 1, 1, 1, 1, 1, 0, 0, 1, 1, 1, 1, 0, 1, 1, 1,\n",
       "       1, 1, 1, 1, 1, 1, 1, 1, 1, 1, 0, 1, 1, 1, 1, 1, 1, 0, 1, 1, 1, 1,\n",
       "       1, 1, 1, 1, 1, 0, 1, 1, 1, 1, 1, 1])"
      ]
     },
     "execution_count": 115,
     "metadata": {},
     "output_type": "execute_result"
    }
   ],
   "source": [
    "sample"
   ]
  },
  {
   "cell_type": "markdown",
   "metadata": {
    "lang": "en"
   },
   "source": [
    "How much do we expect the sum of these 100 numbers to be? ...if we roll 100 times and the probability of getting 1 is 0.8..."
   ]
  },
  {
   "cell_type": "code",
   "execution_count": 31,
   "metadata": {},
   "outputs": [
    {
     "data": {
      "text/plain": [
       "75"
      ]
     },
     "execution_count": 31,
     "metadata": {},
     "output_type": "execute_result"
    }
   ],
   "source": [
    "sum(sample)"
   ]
  },
  {
   "cell_type": "code",
   "execution_count": 35,
   "metadata": {},
   "outputs": [
    {
     "data": {
      "text/plain": [
       "<AxesSubplot:ylabel='count'>"
      ]
     },
     "execution_count": 35,
     "metadata": {},
     "output_type": "execute_result"
    },
    {
     "data": {
      "image/png": "[encoded data removed]",
      "text/plain": [
       "<Figure size 1152x648 with 1 Axes>"
      ]
     },
     "metadata": {},
     "output_type": "display_data"
    }
   ],
   "source": [
    "sns.countplot(x=sample)"
   ]
  },
  {
   "cell_type": "markdown",
   "metadata": {
    "lang": "en"
   },
   "source": [
    "How do I define a Bernoulli distribution?\n",
    "- Possible outcomes (what the machine returns)\n",
    "- Probability of each"
   ]
  },
  {
   "cell_type": "markdown",
   "metadata": {
    "lang": "en"
   },
   "source": [
    "### Binomial Distribution"
   ]
  },
  {
   "cell_type": "markdown",
   "metadata": {
    "lang": "en"
   },
   "source": [
    "Questions: If I flip 10 tricked coins with $P(X=H)=p=0,8$\n",
    " * What is the probability of getting 10 heads?\n",
    " * What is the probability of getting 0 heads?\n",
    " * What is the probability of getting 1 head?"
   ]
  },
  {
   "cell_type": "markdown",
   "metadata": {
    "lang": "en"
   },
   "source": [
    "1. **Probability of getting 10 heads**"
   ]
  },
  {
   "cell_type": "code",
   "execution_count": 798,
   "metadata": {},
   "outputs": [
    {
     "data": {
      "text/plain": [
       "0.10737418240000006"
      ]
     },
     "execution_count": 798,
     "metadata": {},
     "output_type": "execute_result"
    }
   ],
   "source": [
    "0.8 ** 10 # 0.8 * 0.8 * 0.8 * 0.8 * 0.8 etc up to 10"
   ]
  },
  {
   "cell_type": "markdown",
   "metadata": {},
   "source": [
    "$P(10 heads) = 0.8 ^{10} \\sim 0.11$  "
   ]
  },
  {
   "cell_type": "markdown",
   "metadata": {
    "lang": "en"
   },
   "source": [
    "2. **Probability of getting zero heads**"
   ]
  },
  {
   "cell_type": "code",
   "execution_count": 799,
   "metadata": {},
   "outputs": [
    {
     "data": {
      "text/plain": [
       "1.0240000000000006e-07"
      ]
     },
     "execution_count": 799,
     "metadata": {},
     "output_type": "execute_result"
    }
   ],
   "source": [
    "0.2 ** 10 # 0.2 * 0.2 * 0.2 * 0.2 * 0.2 etc up to 10"
   ]
  },
  {
   "cell_type": "markdown",
   "metadata": {
    "lang": "en"
   },
   "source": [
    "practically 0\n",
    "\n",
    "$P(0 heads) = 0.2^{10} \\sim 0$"
   ]
  },
  {
   "cell_type": "markdown",
   "metadata": {
    "lang": "en"
   },
   "source": [
    "3. **Probability of getting a head**"
   ]
  },
  {
   "cell_type": "markdown",
   "metadata": {},
   "source": [
    "HTTTTTTTTT     \n",
    "THTTTTTTTT     \n",
    "TTHTTTTTTT     \n",
    "TTTHTTTTTT     \n",
    "TTTTHTTTTT     \n",
    "...     \n",
    "TTTTTTTTTH     "
   ]
  },
  {
   "cell_type": "markdown",
   "metadata": {
    "lang": "en"
   },
   "source": [
    "I don't care when I get a head, so I don't care if it's the first option, or the second... in this case, all these events have the same probability, therefore, the probability of getting a head will be the sum of all those events."
   ]
  },
  {
   "cell_type": "markdown",
   "metadata": {},
   "source": [
    "$P(1 head) = 10 * 0.8 * 0.2^9$"
   ]
  },
  {
   "cell_type": "markdown",
   "metadata": {
    "lang": "en"
   },
   "source": [
    "Ok, but... **and what is the probability of getting two heads?**\n",
    "- HTTTTTTHTT\n",
    "- HTTTHTTTTT\n",
    "- THTTTHTTTT\n",
    "- HHTTTTTTTT"
   ]
  },
  {
   "cell_type": "markdown",
   "metadata": {
    "lang": "en"
   },
   "source": [
    "I have many different combinations, what can I do? Do I write them all by hand being careful?\n",
    "Actually, this would be the same as giving two head positions that are two integers from 1 to 10.\n",
    "<div align=\"center\"> ....</div>"
   ]
  },
  {
   "cell_type": "markdown",
   "metadata": {},
   "source": [
    "![thinking](https://media.giphy.com/media/xT5P0z1uWDceDQFjWg/giphy.gif)"
   ]
  },
  {
   "cell_type": "markdown",
   "metadata": {
    "lang": "en"
   },
   "source": [
    "It's the sandwich problem!! They are pairs of numbers from 1 to 10 where the order does not matter... combinations of 10 elements taken 2 at a time."
   ]
  },
  {
   "cell_type": "markdown",
   "metadata": {},
   "source": [
    "$${N\\choose k} \\equiv \\frac{N!}{k!(N-k)!}$$"
   ]
  },
  {
   "cell_type": "markdown",
   "metadata": {
    "lang": "en"
   },
   "source": [
    "Our example in the formula...."
   ]
  },
  {
   "cell_type": "markdown",
   "metadata": {},
   "source": [
    "$${10\\choose 2} \\equiv \\frac{10!}{2!8!}$$"
   ]
  },
  {
   "cell_type": "markdown",
   "metadata": {
    "lang": "en"
   },
   "source": [
    "Therefore, the possible combinations"
   ]
  },
  {
   "cell_type": "markdown",
   "metadata": {},
   "source": [
    "$P(2 heads) = 45 * 0.8^2 * 0.2^8$"
   ]
  },
  {
   "cell_type": "markdown",
   "metadata": {
    "lang": "en"
   },
   "source": [
    "**And this is the binomial distribution**\n",
    "\n",
    "A binomial distribution is a discrete probability distribution that describes the number of successes in performing n independent experiments on a random variable.\n",
    "\n",
    "There is a great diversity of experiments or events that can be characterized under this probability distribution. Imagine a coin toss in which we define the event “getting heads” as success. If we flipped the coin 5 times and counted the successes (heads) we get, our probability distribution would fit a binomial distribution.\n",
    "\n",
    "Therefore, we can summarize it as the probability of having $k$ hits on $N$ total Bernoulli trials with probability $p$."
   ]
  },
  {
   "cell_type": "markdown",
   "metadata": {
    "lang": "en"
   },
   "source": [
    "* $p$ is the probability of success on each trial\n",
    "* $N$ is the number of trials.\n",
    "* $\\Omega = \\{0, 1, 2, 3, ..., N-1, N\\}$ (think about the number of heads in N tosses)"
   ]
  },
  {
   "cell_type": "markdown",
   "metadata": {
    "lang": "en"
   },
   "source": [
    "**We set the distribution**"
   ]
  },
  {
   "cell_type": "markdown",
   "metadata": {},
   "source": [
    "\n",
    "<div align=\"center\">$X \\sim Binomial(N, p)$</div> \n"
   ]
  },
  {
   "cell_type": "code",
   "execution_count": 36,
   "metadata": {},
   "outputs": [],
   "source": [
    "N = 10 # times I flip the coin"
   ]
  },
  {
   "cell_type": "code",
   "execution_count": 37,
   "metadata": {
    "colab": {},
    "colab_type": "code",
    "id": "Rm-AQZ_DGor6"
   },
   "outputs": [],
   "source": [
    "p = 0.8"
   ]
  },
  {
   "cell_type": "markdown",
   "metadata": {},
   "source": [
    "$P(X=0)=(1-p)^N$\n",
    "\n",
    "$P(X=N)=p^N$"
   ]
  },
  {
   "cell_type": "markdown",
   "metadata": {
    "lang": "en"
   },
   "source": [
    "What the Bernoulli machine did was give me back 0 or 1 on each toss depending on the probability of success that I would have given it.\n",
    "Now, before making the machine they ask me:\n",
    "- What is the probability of success? --> 0.8\n",
    "- How many coins do you want me to throw? --> 10\n",
    "\n",
    "What this machine returns to me every time I press the button is the number of heads after having thrown 10 coins with that probability of success.\n",
    "\n",
    "What about the odds of $X=1, 2, 3...$? (Let 1 head come up, let 2 heads come up, let 3 heads come up...)\n",
    "This is the formula, what happens inside the machine👇🏻🤔"
   ]
  },
  {
   "cell_type": "markdown",
   "metadata": {},
   "source": [
    "$$P(X=k)={N \\choose k} p^{k}(1-p)^{N-k}$$"
   ]
  },
  {
   "cell_type": "markdown",
   "metadata": {
    "lang": "en"
   },
   "source": [
    "**REMINDER**: ${N \\choose k} \\equiv \\frac{N!}{k!(N-k)!}$ (the combinations)"
   ]
  },
  {
   "cell_type": "markdown",
   "metadata": {
    "lang": "en"
   },
   "source": [
    "$P(X=1)=10*p^{1}*(1-p)^{9}$ (Probability of getting 1 head)"
   ]
  },
  {
   "cell_type": "markdown",
   "metadata": {
    "lang": "en"
   },
   "source": [
    "$P(X=2)=45*p^{2}*(1-p)^{8}$ (Probability of getting 2 heads)"
   ]
  },
  {
   "cell_type": "markdown",
   "metadata": {
    "lang": "en"
   },
   "source": [
    "Probability that 3 heads come up... is to multiply by all combinations"
   ]
  },
  {
   "cell_type": "markdown",
   "metadata": {
    "lang": "en"
   },
   "source": [
    "#### Let's Python"
   ]
  },
  {
   "cell_type": "code",
   "execution_count": 72,
   "metadata": {
    "colab": {},
    "colab_type": "code",
    "id": "h-_Ioss8NwNo"
   },
   "outputs": [],
   "source": [
    "from scipy.stats import binom"
   ]
  },
  {
   "cell_type": "markdown",
   "metadata": {
    "lang": "en"
   },
   "source": [
    "We generate random samples, how? like ants, with `.rvs` (random variates sample)"
   ]
  },
  {
   "cell_type": "code",
   "execution_count": 73,
   "metadata": {},
   "outputs": [],
   "source": [
    "N = 10"
   ]
  },
  {
   "cell_type": "code",
   "execution_count": 74,
   "metadata": {
    "colab": {},
    "colab_type": "code",
    "id": "Rm-AQZ_DGor6"
   },
   "outputs": [],
   "source": [
    "p = 0.8"
   ]
  },
  {
   "cell_type": "code",
   "execution_count": 75,
   "metadata": {
    "colab": {},
    "colab_type": "code",
    "id": "h-_Ioss8NwNo"
   },
   "outputs": [],
   "source": [
    "my_binomial = binom(N,p)"
   ]
  },
  {
   "cell_type": "code",
   "execution_count": 76,
   "metadata": {},
   "outputs": [
    {
     "data": {
      "text/plain": [
       "<scipy.stats._distn_infrastructure.rv_frozen at 0x7f9ba372e430>"
      ]
     },
     "execution_count": 76,
     "metadata": {},
     "output_type": "execute_result"
    }
   ],
   "source": [
    "my_binomial"
   ]
  },
  {
   "cell_type": "code",
   "execution_count": 77,
   "metadata": {
    "colab": {},
    "colab_type": "code",
    "id": "h-_Ioss8NwNo"
   },
   "outputs": [
    {
     "data": {
      "text/plain": [
       "array([ 9, 10, 10,  7,  8, 10,  8,  8])"
      ]
     },
     "execution_count": 77,
     "metadata": {},
     "output_type": "execute_result"
    }
   ],
   "source": [
    "my_binomial.rvs(size=8)"
   ]
  },
  {
   "cell_type": "code",
   "execution_count": 78,
   "metadata": {
    "colab": {},
    "colab_type": "code",
    "id": "h-_Ioss8NwNo"
   },
   "outputs": [
    {
     "data": {
      "text/plain": [
       "array([10,  9,  9,  6,  8,  8,  8,  8,  7,  8,  6,  9,  8,  7,  8,  6,  9,\n",
       "        9, 10,  8,  7,  6,  9,  8, 10,  8,  9,  8,  8,  8,  8,  8,  9,  9,\n",
       "        8,  9,  8,  8,  8,  7,  8,  8,  6,  9,  8,  9,  8,  7,  8,  9,  9,\n",
       "        9,  8,  8,  9,  8,  8,  8,  7,  9,  7,  9,  9,  8,  5,  7, 10,  7,\n",
       "        7,  9,  8,  6,  9,  8,  7,  6,  9,  7,  8, 10,  9,  9,  7,  9,  8,\n",
       "        6,  7,  9,  8,  6,  7,  8,  7,  7,  8,  9,  6,  9,  8, 10,  5,  7,\n",
       "       10,  6,  9,  7,  6,  7,  4,  9, 10,  9,  9,  7,  9,  9,  9,  9,  8,\n",
       "        8,  8,  9, 10,  8,  8,  7, 10,  6,  8, 10,  7,  9, 10,  7,  7,  8,\n",
       "        9,  9,  9,  8,  9,  8,  8,  9,  9,  7,  9,  9,  9,  7,  9,  8,  6,\n",
       "        9,  7,  9,  9,  7,  9,  7,  8,  7,  9,  8,  7, 10,  7,  9,  9,  7,\n",
       "        6,  6,  5,  9,  8,  9,  8,  7,  7,  9,  9, 10,  8,  8, 10,  5,  9,\n",
       "       10,  6,  6, 10,  8,  6, 10,  9,  7,  8, 10,  6,  6,  7,  7,  9,  9,\n",
       "        8,  8,  8,  7,  9,  8])"
      ]
     },
     "execution_count": 78,
     "metadata": {},
     "output_type": "execute_result"
    }
   ],
   "source": [
    "my_binomial.rvs(size=210)"
   ]
  },
  {
   "cell_type": "code",
   "execution_count": 79,
   "metadata": {},
   "outputs": [
    {
     "data": {
      "text/plain": [
       "array([ 8,  9,  8,  9, 10,  9,  9,  6,  7,  9,  7,  6,  8,  9,  8,  8,  7,\n",
       "        7,  9,  5,  7,  7,  8,  8, 10,  7,  9,  7,  5,  9,  8,  8,  6,  9,\n",
       "        6,  8,  8,  9,  6,  7, 10,  8,  8,  8, 10, 10, 10,  9,  7,  7,  9,\n",
       "        8,  8,  7, 10,  7,  7,  9, 10,  9,  9,  7, 10,  8,  8,  9,  8,  5,\n",
       "        7,  8,  9,  8,  7,  9,  8,  7,  6,  7,  8,  7,  9,  8,  8,  8,  9,\n",
       "        4,  7,  6,  9,  8,  9,  9,  9,  7, 10,  8,  9,  7,  9,  8])"
      ]
     },
     "execution_count": 79,
     "metadata": {},
     "output_type": "execute_result"
    }
   ],
   "source": [
    "sample = my_binomial.rvs(size=100)\n",
    "sample"
   ]
  },
  {
   "cell_type": "code",
   "execution_count": 80,
   "metadata": {
    "scrolled": true
   },
   "outputs": [
    {
     "data": {
      "text/plain": [
       "<AxesSubplot:ylabel='count'>"
      ]
     },
     "execution_count": 80,
     "metadata": {},
     "output_type": "execute_result"
    },
    {
     "data": {
      "image/png": "[encoded data removed]",
      "text/plain": [
       "<Figure size 1152x648 with 1 Axes>"
      ]
     },
     "metadata": {},
     "output_type": "display_data"
    }
   ],
   "source": [
    "sns.countplot(x=sample, palette=\"Blues\")"
   ]
  },
  {
   "cell_type": "code",
   "execution_count": null,
   "metadata": {},
   "outputs": [],
   "source": []
  },
  {
   "cell_type": "markdown",
   "metadata": {
    "lang": "en"
   },
   "source": [
    "**Probability mass function** The `.pmf` returns the theoretical probability of the distribution that we have seen experimentally previously.\n",
    "We see that the probability that 4 heads come up is low, we have seen it because we have experienced it, we also know it because before we have seen that we had to calculate all the combinations of 2 heads....if we apply it in the following formula, only we have to substitute the k for 4 and we obtain the theoretical probability."
   ]
  },
  {
   "cell_type": "markdown",
   "metadata": {},
   "source": [
    "$$P(X=k)={N \\choose k} p^{k}(1-p)^{N-k}$$"
   ]
  },
  {
   "cell_type": "markdown",
   "metadata": {},
   "source": [
    "**REMINDER**: ${N \\choose k} \\equiv \\frac{N!}{k!(N-k)!}$"
   ]
  },
  {
   "cell_type": "markdown",
   "metadata": {},
   "source": [
    "$$P(X=4)={10 \\choose 4} 0.8^{4}(1-0.8)^{10-4}=\\frac{10!}{4!6!}0.8^40.2^6=\\frac{10*9*8*7}{4*3*2*1}0.8^40.2^6=210* 0.8^40.2^6$$"
   ]
  },
  {
   "cell_type": "markdown",
   "metadata": {
    "lang": "en"
   },
   "source": [
    "The 210 possible combinations of 4 heads and 8 tails times the probability of each"
   ]
  },
  {
   "cell_type": "code",
   "execution_count": 811,
   "metadata": {},
   "outputs": [
    {
     "data": {
      "text/plain": [
       "0.005505024000000003"
      ]
     },
     "execution_count": 811,
     "metadata": {},
     "output_type": "execute_result"
    }
   ],
   "source": [
    "210 * (0.8 ** 4) * (0.2 ** 6) # Getting 4 H's"
   ]
  },
  {
   "cell_type": "markdown",
   "metadata": {
    "lang": "en"
   },
   "source": [
    "Python comes to help us because it has the function implemented, and it saves us from doing the calculations above, but we have to know what it means and understand what we're doing.\n",
    "\n",
    "**What is the probability that I get 4 heads?**"
   ]
  },
  {
   "cell_type": "code",
   "execution_count": 90,
   "metadata": {},
   "outputs": [
    {
     "data": {
      "text/plain": [
       "1.0239999999999978e-07"
      ]
     },
     "execution_count": 90,
     "metadata": {},
     "output_type": "execute_result"
    }
   ],
   "source": [
    "my_binomial.pmf(0) # close to 0"
   ]
  },
  {
   "cell_type": "code",
   "execution_count": 81,
   "metadata": {},
   "outputs": [
    {
     "data": {
      "text/plain": [
       "0.005505023999999991"
      ]
     },
     "execution_count": 81,
     "metadata": {},
     "output_type": "execute_result"
    }
   ],
   "source": [
    "my_binomial.pmf(4)"
   ]
  },
  {
   "cell_type": "code",
   "execution_count": 84,
   "metadata": {},
   "outputs": [
    {
     "data": {
      "text/plain": [
       "0.26843545599999996"
      ]
     },
     "execution_count": 84,
     "metadata": {},
     "output_type": "execute_result"
    }
   ],
   "source": [
    "my_binomial.pmf(9)"
   ]
  },
  {
   "cell_type": "code",
   "execution_count": 85,
   "metadata": {},
   "outputs": [
    {
     "data": {
      "text/plain": [
       "0.10737418240000006"
      ]
     },
     "execution_count": 85,
     "metadata": {},
     "output_type": "execute_result"
    }
   ],
   "source": [
    "my_binomial.pmf(10)"
   ]
  },
  {
   "cell_type": "code",
   "execution_count": 87,
   "metadata": {},
   "outputs": [
    {
     "data": {
      "text/plain": [
       "0.0"
      ]
     },
     "execution_count": 87,
     "metadata": {},
     "output_type": "execute_result"
    }
   ],
   "source": [
    "my_binomial.pmf(11)"
   ]
  },
  {
   "cell_type": "code",
   "execution_count": 88,
   "metadata": {},
   "outputs": [
    {
     "data": {
      "text/plain": [
       "{0: 0.0,\n",
       " 1: 0.0,\n",
       " 2: 0.0,\n",
       " 3: 0.001,\n",
       " 4: 0.006,\n",
       " 5: 0.026,\n",
       " 6: 0.088,\n",
       " 7: 0.201,\n",
       " 8: 0.302,\n",
       " 9: 0.268,\n",
       " 10: 0.107}"
      ]
     },
     "execution_count": 88,
     "metadata": {},
     "output_type": "execute_result"
    }
   ],
   "source": [
    "allofthem = {n: round(my_binomial.pmf(n),3) for n in range(0,11)}\n",
    "allofthem"
   ]
  },
  {
   "cell_type": "markdown",
   "metadata": {
    "lang": "en"
   },
   "source": [
    "How much do the values ​​have to add up to?"
   ]
  },
  {
   "cell_type": "code",
   "execution_count": 817,
   "metadata": {
    "lang": "en"
   },
   "outputs": [],
   "source": [
    "# All probabilities have to add up to 1, they don't add up to exactly 1 because they are rounded"
   ]
  },
  {
   "cell_type": "code",
   "execution_count": 89,
   "metadata": {},
   "outputs": [
    {
     "data": {
      "text/plain": [
       "0.999"
      ]
     },
     "execution_count": 89,
     "metadata": {},
     "output_type": "execute_result"
    }
   ],
   "source": [
    "sum(allofthem.values())"
   ]
  },
  {
   "cell_type": "markdown",
   "metadata": {
    "lang": "en"
   },
   "source": [
    "**Use case**:\n",
    "- N: A party with 100 people\n",
    "- p: Individual probability of having Covid is 0.02"
   ]
  },
  {
   "cell_type": "code",
   "execution_count": 92,
   "metadata": {},
   "outputs": [],
   "source": [
    "my_binomial_covid = binom(100, 0.02)"
   ]
  },
  {
   "cell_type": "code",
   "execution_count": 93,
   "metadata": {},
   "outputs": [
    {
     "data": {
      "text/plain": [
       "<scipy.stats._distn_infrastructure.rv_frozen at 0x7f9ba39a0eb0>"
      ]
     },
     "execution_count": 93,
     "metadata": {},
     "output_type": "execute_result"
    }
   ],
   "source": [
    "my_binomial_covid"
   ]
  },
  {
   "cell_type": "code",
   "execution_count": 113,
   "metadata": {},
   "outputs": [
    {
     "data": {
      "text/plain": [
       "array([4])"
      ]
     },
     "execution_count": 113,
     "metadata": {},
     "output_type": "execute_result"
    }
   ],
   "source": [
    " # Sample one party\n",
    "my_binomial_covid.rvs(1)"
   ]
  },
  {
   "cell_type": "code",
   "execution_count": 125,
   "metadata": {},
   "outputs": [
    {
     "data": {
      "text/plain": [
       "array([4, 1, 2, 0, 2, 1, 3, 4, 0, 2, 4, 2, 3, 4, 2, 3, 0, 2, 4, 1, 2, 2,\n",
       "       3, 1, 3, 3, 1, 2, 1, 2, 3])"
      ]
     },
     "execution_count": 125,
     "metadata": {},
     "output_type": "execute_result"
    }
   ],
   "source": [
    "# Sample 31 parties\n",
    "my_binomial_covid.rvs(31)"
   ]
  },
  {
   "cell_type": "code",
   "execution_count": 127,
   "metadata": {
    "lang": "en"
   },
   "outputs": [
    {
     "data": {
      "image/png": "[encoded data removed]",
      "text/plain": [
       "<Figure size 1152x648 with 1 Axes>"
      ]
     },
     "metadata": {},
     "output_type": "display_data"
    }
   ],
   "source": [
    "# We paint sample distribution: 1000\n",
    "sns.countplot(x=my_binomial_covid.rvs(31) , palette=\"magma\");\n",
    "\n",
    "\n",
    "# X: amount of people infected\n",
    "# Y: amount of parties with that amount of people infected (should amount to the total of rvs(n))"
   ]
  },
  {
   "cell_type": "markdown",
   "metadata": {
    "lang": "en"
   },
   "source": [
    "**Probability mass function**\n",
    "We recall that pmf tells me the theoretical probability."
   ]
  },
  {
   "cell_type": "code",
   "execution_count": 128,
   "metadata": {
    "lang": "en"
   },
   "outputs": [
    {
     "data": {
      "text/plain": [
       "0.18227594104651598"
      ]
     },
     "execution_count": 128,
     "metadata": {},
     "output_type": "execute_result"
    }
   ],
   "source": [
    "# What is the probability that there are 3 infected people?\n",
    "my_binomial_covid.pmf(3)"
   ]
  },
  {
   "cell_type": "code",
   "execution_count": 129,
   "metadata": {
    "lang": "en"
   },
   "outputs": [
    {
     "data": {
      "text/plain": [
       "0.2734139115697747"
      ]
     },
     "execution_count": 129,
     "metadata": {},
     "output_type": "execute_result"
    }
   ],
   "source": [
    "# And that there are two?\n",
    "my_binomial_covid.pmf(2)"
   ]
  },
  {
   "cell_type": "code",
   "execution_count": 130,
   "metadata": {
    "scrolled": true
   },
   "outputs": [
    {
     "data": {
      "text/plain": [
       "0.003130114101451259"
      ]
     },
     "execution_count": 130,
     "metadata": {},
     "output_type": "execute_result"
    }
   ],
   "source": [
    "my_binomial_covid.pmf(7)"
   ]
  },
  {
   "cell_type": "code",
   "execution_count": 132,
   "metadata": {
    "lang": "en"
   },
   "outputs": [
    {
     "data": {
      "text/plain": [
       "0.13261955589475294"
      ]
     },
     "execution_count": 132,
     "metadata": {},
     "output_type": "execute_result"
    }
   ],
   "source": [
    "# That there is none\n",
    "my_binomial_covid.pmf(0)"
   ]
  },
  {
   "cell_type": "markdown",
   "metadata": {
    "lang": "en"
   },
   "source": [
    "What is the probability that at a given party, at least one person will have covid?"
   ]
  },
  {
   "cell_type": "code",
   "execution_count": 133,
   "metadata": {},
   "outputs": [
    {
     "data": {
      "text/plain": [
       "0.8673804441052471"
      ]
     },
     "execution_count": 133,
     "metadata": {},
     "output_type": "execute_result"
    }
   ],
   "source": [
    "1 - my_binomial_covid.pmf(0)"
   ]
  },
  {
   "cell_type": "markdown",
   "metadata": {
    "lang": "en"
   },
   "source": [
    "### scipy.stats generates methods regardless of our distribution"
   ]
  },
  {
   "cell_type": "markdown",
   "metadata": {},
   "source": [
    "#### RVS"
   ]
  },
  {
   "cell_type": "markdown",
   "metadata": {
    "lang": "en"
   },
   "source": [
    "Remember, it generates random variables of a given type."
   ]
  },
  {
   "cell_type": "code",
   "execution_count": 134,
   "metadata": {
    "lang": "en"
   },
   "outputs": [
    {
     "data": {
      "text/plain": [
       "array([0, 1, 1, 1, 0, 0, 1, 1, 1, 0, 0, 0, 1, 1, 1, 1, 1, 1, 1, 1])"
      ]
     },
     "execution_count": 134,
     "metadata": {},
     "output_type": "execute_result"
    }
   ],
   "source": [
    "# Flip the coin 20 times\n",
    "my_bernoulli.rvs(size=20)"
   ]
  },
  {
   "cell_type": "markdown",
   "metadata": {
    "lang": "en"
   },
   "source": [
    "I'm going to a party. What is the number of sick people in it?"
   ]
  },
  {
   "cell_type": "code",
   "execution_count": 135,
   "metadata": {},
   "outputs": [
    {
     "data": {
      "text/plain": [
       "array([0])"
      ]
     },
     "execution_count": 135,
     "metadata": {},
     "output_type": "execute_result"
    }
   ],
   "source": [
    "my_binomial_covid.rvs(1)"
   ]
  },
  {
   "cell_type": "markdown",
   "metadata": {
    "lang": "en"
   },
   "source": [
    "I go to 20 parties. What is the number of patients in them?"
   ]
  },
  {
   "cell_type": "code",
   "execution_count": 136,
   "metadata": {},
   "outputs": [
    {
     "data": {
      "text/plain": [
       "array([0, 1, 2, 2, 1, 1, 2, 0, 0, 4, 3, 1, 2, 1, 1, 2, 1, 2, 3, 1])"
      ]
     },
     "execution_count": 136,
     "metadata": {},
     "output_type": "execute_result"
    }
   ],
   "source": [
    "my_binomial_covid.rvs(20)"
   ]
  },
  {
   "cell_type": "markdown",
   "metadata": {},
   "source": [
    "#### PMF"
   ]
  },
  {
   "cell_type": "markdown",
   "metadata": {
    "lang": "en"
   },
   "source": [
    "Returns the (probability mass function) at a given value, that is, the probability of that result"
   ]
  },
  {
   "cell_type": "markdown",
   "metadata": {},
   "source": [
    "$P(X=k)$"
   ]
  },
  {
   "cell_type": "code",
   "execution_count": 832,
   "metadata": {
    "lang": "en"
   },
   "outputs": [
    {
     "data": {
      "text/plain": [
       "0.8"
      ]
     },
     "execution_count": 832,
     "metadata": {},
     "output_type": "execute_result"
    }
   ],
   "source": [
    "# Probability of heads\n",
    "my_bernoulli.pmf(1)"
   ]
  },
  {
   "cell_type": "code",
   "execution_count": 139,
   "metadata": {
    "lang": "en"
   },
   "outputs": [
    {
     "data": {
      "text/plain": [
       "0.19999999999999996"
      ]
     },
     "execution_count": 139,
     "metadata": {},
     "output_type": "execute_result"
    }
   ],
   "source": [
    "# Probability of tails\n",
    "my_bernoulli.pmf(0)"
   ]
  },
  {
   "cell_type": "code",
   "execution_count": 141,
   "metadata": {
    "lang": "en"
   },
   "outputs": [
    {
     "data": {
      "text/plain": [
       "0.30198988799999993"
      ]
     },
     "execution_count": 141,
     "metadata": {},
     "output_type": "execute_result"
    }
   ],
   "source": [
    "# Probability of getting 8 heads\n",
    "my_binomial.pmf(8)"
   ]
  },
  {
   "cell_type": "code",
   "execution_count": 835,
   "metadata": {
    "lang": "en"
   },
   "outputs": [
    {
     "data": {
      "text/plain": [
       "0.26843545599999996"
      ]
     },
     "execution_count": 835,
     "metadata": {},
     "output_type": "execute_result"
    }
   ],
   "source": [
    "# Probability of getting 9 heads\n",
    "my_binomial.pmf(9)"
   ]
  },
  {
   "cell_type": "code",
   "execution_count": 836,
   "metadata": {},
   "outputs": [
    {
     "data": {
      "text/plain": [
       "0.0"
      ]
     },
     "execution_count": 836,
     "metadata": {},
     "output_type": "execute_result"
    }
   ],
   "source": [
    "# Probability of getting 11 heads\n",
    "my_binomial.pmf(11)"
   ]
  },
  {
   "cell_type": "code",
   "execution_count": 837,
   "metadata": {
    "lang": "en"
   },
   "outputs": [
    {
     "data": {
      "text/plain": [
       "0.13261955589475294"
      ]
     },
     "execution_count": 837,
     "metadata": {},
     "output_type": "execute_result"
    }
   ],
   "source": [
    "# Probability that there are 0 infected\n",
    "my_binomial_covid.pmf(0)"
   ]
  },
  {
   "cell_type": "code",
   "execution_count": 838,
   "metadata": {
    "lang": "en"
   },
   "outputs": [
    {
     "data": {
      "text/plain": [
       "0.2734139115697747"
      ]
     },
     "execution_count": 838,
     "metadata": {},
     "output_type": "execute_result"
    }
   ],
   "source": [
    "# Probability that there are 2 infected\n",
    "my_binomial_covid.pmf(2)"
   ]
  },
  {
   "cell_type": "code",
   "execution_count": 839,
   "metadata": {
    "lang": "en"
   },
   "outputs": [
    {
     "data": {
      "text/plain": [
       "1.4906219582374128e-09"
      ]
     },
     "execution_count": 839,
     "metadata": {},
     "output_type": "execute_result"
    }
   ],
   "source": [
    "# Probability that there are 15 infected\n",
    "my_binomial_covid.pmf(15)"
   ]
  },
  {
   "cell_type": "markdown",
   "metadata": {
    "lang": "en"
   },
   "source": [
    "#### CDF\n",
    "The cumulative distribution function.\n",
    "Calculates the cumulative probability of a given value of x. Use the cdf to determine the probability that a random observation drawn from the population is less than or equal to a certain value. You can also use this information to determine the probability that an observation is greater than a certain value or is between two values."
   ]
  },
  {
   "cell_type": "markdown",
   "metadata": {},
   "source": [
    "$P(X \\leq k)$"
   ]
  },
  {
   "cell_type": "code",
   "execution_count": 142,
   "metadata": {
    "colab": {},
    "colab_type": "code",
    "id": "h-_Ioss8NwNo"
   },
   "outputs": [
    {
     "data": {
      "text/plain": [
       "0.03279349759999997"
      ]
     },
     "execution_count": 142,
     "metadata": {},
     "output_type": "execute_result"
    }
   ],
   "source": [
    "my_binomial.cdf(5) # This was binomial n10 p0.8"
   ]
  },
  {
   "cell_type": "code",
   "execution_count": 841,
   "metadata": {
    "colab": {},
    "colab_type": "code",
    "id": "h-_Ioss8NwNo"
   },
   "outputs": [
    {
     "data": {
      "text/plain": [
       "0.6241903615999999"
      ]
     },
     "execution_count": 841,
     "metadata": {},
     "output_type": "execute_result"
    }
   ],
   "source": [
    "my_binomial.cdf(8) "
   ]
  },
  {
   "cell_type": "code",
   "execution_count": 842,
   "metadata": {
    "colab": {},
    "colab_type": "code",
    "id": "h-_Ioss8NwNo"
   },
   "outputs": [
    {
     "data": {
      "text/plain": [
       "1.0"
      ]
     },
     "execution_count": 842,
     "metadata": {},
     "output_type": "execute_result"
    }
   ],
   "source": [
    "my_binomial.cdf(10)"
   ]
  },
  {
   "cell_type": "markdown",
   "metadata": {
    "lang": "en"
   },
   "source": [
    "**Remark**"
   ]
  },
  {
   "cell_type": "code",
   "execution_count": 843,
   "metadata": {
    "lang": "en"
   },
   "outputs": [
    {
     "data": {
      "text/plain": [
       "7.792639999999988e-05"
      ]
     },
     "execution_count": 843,
     "metadata": {},
     "output_type": "execute_result"
    }
   ],
   "source": [
    "# cdf of 2 is the same as this\n",
    "my_binomial.pmf(0) + my_binomial.pmf(1) + my_binomial.pmf(2)"
   ]
  },
  {
   "cell_type": "code",
   "execution_count": 844,
   "metadata": {},
   "outputs": [
    {
     "data": {
      "text/plain": [
       "7.792639999999985e-05"
      ]
     },
     "execution_count": 844,
     "metadata": {},
     "output_type": "execute_result"
    }
   ],
   "source": [
    "my_binomial.cdf(2)"
   ]
  },
  {
   "cell_type": "markdown",
   "metadata": {
    "lang": "en"
   },
   "source": [
    "**Exercise**: Every day of the year 2023, if you get 7 heads or more, I invite you to breakfast. How many days do you expect me to invite you? 10 times you flip the coin and it is NOT bweighted"
   ]
  },
  {
   "cell_type": "code",
   "execution_count": 144,
   "metadata": {},
   "outputs": [],
   "source": [
    "binomial_de = binom(10, 0.5)"
   ]
  },
  {
   "cell_type": "code",
   "execution_count": 145,
   "metadata": {
    "lang": "en"
   },
   "outputs": [],
   "source": [
    "# probability of getting 7 or more heads\n",
    "p7 = binomial_de.pmf(7) + binomial_de.pmf(8) + binomial_de.pmf(9) + binomial_de.pmf(10)"
   ]
  },
  {
   "cell_type": "code",
   "execution_count": 146,
   "metadata": {},
   "outputs": [
    {
     "data": {
      "text/plain": [
       "0.17187499999999994"
      ]
     },
     "execution_count": 146,
     "metadata": {},
     "output_type": "execute_result"
    }
   ],
   "source": [
    "p7"
   ]
  },
  {
   "cell_type": "code",
   "execution_count": 147,
   "metadata": {},
   "outputs": [],
   "source": [
    "# equivalent\n",
    "pp = 1 - binomial_de.cdf(6)"
   ]
  },
  {
   "cell_type": "code",
   "execution_count": 148,
   "metadata": {},
   "outputs": [
    {
     "data": {
      "text/plain": [
       "0.171875"
      ]
     },
     "execution_count": 148,
     "metadata": {},
     "output_type": "execute_result"
    }
   ],
   "source": [
    "pp"
   ]
  },
  {
   "cell_type": "code",
   "execution_count": 149,
   "metadata": {},
   "outputs": [
    {
     "data": {
      "text/plain": [
       "62.734375"
      ]
     },
     "execution_count": 149,
     "metadata": {},
     "output_type": "execute_result"
    }
   ],
   "source": [
    "365 * pp"
   ]
  },
  {
   "cell_type": "code",
   "execution_count": 150,
   "metadata": {
    "lang": "en"
   },
   "outputs": [
    {
     "data": {
      "text/plain": [
       "72"
      ]
     },
     "execution_count": 150,
     "metadata": {},
     "output_type": "execute_result"
    }
   ],
   "source": [
    "# We simulated with the machine (rvs gave me the sample) how many days have I got 7 or more heads?\n",
    "(binomial_de.rvs(365) > 6).sum()"
   ]
  },
  {
   "cell_type": "markdown",
   "metadata": {
    "lang": "en"
   },
   "source": [
    "#### Mean, Variance, Standard Deviation"
   ]
  },
  {
   "cell_type": "markdown",
   "metadata": {
    "lang": "en"
   },
   "source": [
    "This was the rigged coin. The machine that threw 10 coins with a success probability of 0.8"
   ]
  },
  {
   "cell_type": "code",
   "execution_count": 151,
   "metadata": {},
   "outputs": [
    {
     "data": {
      "text/plain": [
       "<scipy.stats._distn_infrastructure.rv_frozen at 0x7f9ba372e430>"
      ]
     },
     "execution_count": 151,
     "metadata": {},
     "output_type": "execute_result"
    }
   ],
   "source": [
    "my_binomial"
   ]
  },
  {
   "cell_type": "code",
   "execution_count": 168,
   "metadata": {},
   "outputs": [
    {
     "data": {
      "text/plain": [
       "7.9829"
      ]
     },
     "execution_count": 168,
     "metadata": {},
     "output_type": "execute_result"
    }
   ],
   "source": [
    "# Experimental mean\n",
    "my_binomial.rvs(10000).mean()"
   ]
  },
  {
   "cell_type": "code",
   "execution_count": 169,
   "metadata": {
    "colab": {},
    "colab_type": "code",
    "id": "h-_Ioss8NwNo"
   },
   "outputs": [
    {
     "data": {
      "text/plain": [
       "8.0"
      ]
     },
     "execution_count": 169,
     "metadata": {},
     "output_type": "execute_result"
    }
   ],
   "source": [
    "# Theoretical mean\n",
    "my_binomial.mean()"
   ]
  },
  {
   "cell_type": "code",
   "execution_count": 184,
   "metadata": {
    "colab": {},
    "colab_type": "code",
    "id": "h-_Ioss8NwNo"
   },
   "outputs": [
    {
     "data": {
      "text/plain": [
       "1.2649110640673515"
      ]
     },
     "execution_count": 184,
     "metadata": {},
     "output_type": "execute_result"
    }
   ],
   "source": [
    "my_binomial.std()"
   ]
  },
  {
   "cell_type": "code",
   "execution_count": 178,
   "metadata": {
    "colab": {},
    "colab_type": "code",
    "id": "h-_Ioss8NwNo"
   },
   "outputs": [
    {
     "data": {
      "text/plain": [
       "1.2706463866867133"
      ]
     },
     "execution_count": 178,
     "metadata": {},
     "output_type": "execute_result"
    }
   ],
   "source": [
    "my_binomial.rvs(10000).std()"
   ]
  },
  {
   "cell_type": "markdown",
   "metadata": {
    "lang": "en"
   },
   "source": [
    "Let's plot the MPF of the binomial"
   ]
  },
  {
   "cell_type": "code",
   "execution_count": 186,
   "metadata": {},
   "outputs": [],
   "source": [
    "import numpy as np"
   ]
  },
  {
   "cell_type": "code",
   "execution_count": 187,
   "metadata": {
    "colab": {},
    "colab_type": "code",
    "id": "h-_Ioss8NwNo"
   },
   "outputs": [
    {
     "data": {
      "text/plain": [
       "<matplotlib.collections.LineCollection at 0x7f9ba3cc3a30>"
      ]
     },
     "execution_count": 187,
     "metadata": {},
     "output_type": "execute_result"
    },
    {
     "data": {
      "image/png": "[encoded data removed]",
      "text/plain": [
       "<Figure size 1152x648 with 1 Axes>"
      ]
     },
     "metadata": {},
     "output_type": "display_data"
    }
   ],
   "source": [
    "x = np.arange(0,21)\n",
    "plt.plot(x, my_binomial.pmf(x), \"bo\")\n",
    "plt.vlines(x, 0, my_binomial.pmf(x), colors='b', lw=5, alpha=0.5)"
   ]
  },
  {
   "cell_type": "code",
   "execution_count": 188,
   "metadata": {
    "colab": {},
    "colab_type": "code",
    "id": "h-_Ioss8NwNo"
   },
   "outputs": [
    {
     "data": {
      "image/png": "[encoded data removed]",
      "text/plain": [
       "<Figure size 1152x648 with 1 Axes>"
      ]
     },
     "metadata": {},
     "output_type": "display_data"
    }
   ],
   "source": [
    "x = np.arange(0,21)\n",
    "plt.plot(x, my_binomial_covid.pmf(x), \"o\")\n",
    "plt.vlines(x, 0, my_binomial_covid.pmf(x), colors='b', lw=5, alpha=0.5);"
   ]
  },
  {
   "cell_type": "markdown",
   "metadata": {
    "lang": "en"
   },
   "source": [
    "Let's plot an experiment! 🙃🌈"
   ]
  },
  {
   "cell_type": "code",
   "execution_count": 860,
   "metadata": {
    "colab": {},
    "colab_type": "code",
    "id": "9NNpanrLBygi"
   },
   "outputs": [
    {
     "data": {
      "image/png": "[encoded data removed]",
      "text/plain": [
       "<Figure size 1152x648 with 1 Axes>"
      ]
     },
     "metadata": {},
     "output_type": "display_data"
    }
   ],
   "source": [
    "sns.countplot(x=my_binomial.rvs(size=1000), palette=\"Blues\");"
   ]
  },
  {
   "cell_type": "markdown",
   "metadata": {
    "lang": "en"
   },
   "source": [
    "### Poisson distribution"
   ]
  },
  {
   "cell_type": "markdown",
   "metadata": {
    "lang": "en"
   },
   "source": [
    "The Poisson distribution is used to describe the number of times something **can happen in a given time**.\n",
    "The Poisson distribution is applied to various discrete phenomena of nature (that is, those phenomena that occur 0, 1, 2, 3, …, times during a defined period of time or in a given area) when the probability of occurrence of the phenomenon is constant in time or space. Examples of these events that can be modeled by the Poisson distribution include:\n",
    "\n",
    "- The number of cars that pass through a certain point on a route (sufficiently distant from traffic lights) during a defined period of time.\n",
    "- The number of misspellings that one commits when writing a single page.\n",
    "- The number of web servers accessed per minute.\n",
    "- The number of mutations of a given DNA strand after a certain amount of radiation.\n",
    "- The number of unstable atomic nuclei that have disintegrated in a given period.\n",
    "- The inventiveness of an inventor throughout his career.\n",
    "- The number of meteorites larger than 1 meter in diameter that hit the Earth in a year\n",
    "- The number of patients who arrive at an emergency room between 10 and 11 at night\n",
    "- The number of laser photons that hit a detector in a given time interval"
   ]
  },
  {
   "cell_type": "markdown",
   "metadata": {
    "lang": "en"
   },
   "source": [
    "$\\Omega = \\{0, 1, 2, 3, ...\\}$ (think of the number of patients from 10 to 11). It is not bounded."
   ]
  },
  {
   "cell_type": "markdown",
   "metadata": {
    "lang": "en"
   },
   "source": [
    "**We set the distribution**"
   ]
  },
  {
   "cell_type": "markdown",
   "metadata": {
    "lang": "en"
   },
   "source": [
    "$\\lambda$ is the theoretical mean number of occurrences.\n",
    "If we want to buy the machine from the Poisson distribution, it only receives one parameter. Average.\n",
    "The Poisson is a distribution that has no memory, they are independent events, it appears just because."
   ]
  },
  {
   "cell_type": "markdown",
   "metadata": {},
   "source": [
    "$X \\sim Po(\\lambda)$"
   ]
  },
  {
   "cell_type": "code",
   "execution_count": 861,
   "metadata": {},
   "outputs": [],
   "source": [
    "lambd = 6"
   ]
  },
  {
   "cell_type": "markdown",
   "metadata": {
    "lang": "en"
   },
   "source": [
    "The PMF that follows the Poisson distribution is as follows:"
   ]
  },
  {
   "cell_type": "markdown",
   "metadata": {},
   "source": [
    "$$P(X=k)=\\frac{\\lambda ^{k}e^{-\\lambda }}{k!}$$"
   ]
  },
  {
   "cell_type": "markdown",
   "metadata": {},
   "source": [
    "$$P(X=1)=\\lambda e^{-\\lambda }$$"
   ]
  },
  {
   "cell_type": "markdown",
   "metadata": {},
   "source": [
    "$$P(X=2)=\\frac{\\lambda ^{2}e^{-\\lambda }}{2}$$"
   ]
  },
  {
   "cell_type": "code",
   "execution_count": 189,
   "metadata": {
    "colab": {},
    "colab_type": "code",
    "id": "7vWUFVMDSoEK"
   },
   "outputs": [],
   "source": [
    "from scipy.stats import poisson"
   ]
  },
  {
   "cell_type": "code",
   "execution_count": 190,
   "metadata": {},
   "outputs": [],
   "source": [
    "my_poisson = poisson(mu=6)"
   ]
  },
  {
   "cell_type": "code",
   "execution_count": 191,
   "metadata": {
    "lang": "en"
   },
   "outputs": [],
   "source": [
    "# Rvs gives me the number of patients who will arrive today at the consultation from 10 to 11"
   ]
  },
  {
   "cell_type": "code",
   "execution_count": 204,
   "metadata": {},
   "outputs": [
    {
     "data": {
      "text/plain": [
       "array([8])"
      ]
     },
     "execution_count": 204,
     "metadata": {},
     "output_type": "execute_result"
    }
   ],
   "source": [
    "my_poisson.rvs(1)"
   ]
  },
  {
   "cell_type": "code",
   "execution_count": 205,
   "metadata": {},
   "outputs": [
    {
     "data": {
      "text/plain": [
       "array([ 3,  7,  9,  6,  6,  7,  6,  3,  9,  4,  8,  8,  9,  3,  4,  6,  5,\n",
       "        9, 10,  8,  2,  5,  3,  6,  6,  5,  6,  7,  7,  7])"
      ]
     },
     "execution_count": 205,
     "metadata": {},
     "output_type": "execute_result"
    }
   ],
   "source": [
    "sample = my_poisson.rvs(30)\n",
    "sample"
   ]
  },
  {
   "cell_type": "code",
   "execution_count": 207,
   "metadata": {},
   "outputs": [
    {
     "data": {
      "text/plain": [
       "array([13,  4,  2, 10,  5, 10,  3,  7,  5,  7,  8,  8,  7, 15,  3,  5,  8,\n",
       "        3,  9,  6,  8,  3,  2,  5,  4,  1,  7,  3,  4,  9,  6,  6, 11,  5,\n",
       "        1, 10,  9,  5,  5,  3,  8,  3,  4,  9, 10,  6,  7,  7,  4, 10,  4,\n",
       "       11,  6,  5,  1,  7,  8,  3,  5,  3,  2,  8,  5,  9,  4,  5,  9,  8,\n",
       "        8,  7,  7,  2,  5,  2,  7,  4,  6,  2,  4, 12,  4,  7,  6,  7, 11,\n",
       "        3,  4,  3,  9,  9,  7, 11,  9, 10,  4,  5,  8,  9,  2,  4,  6,  8,\n",
       "        3,  6,  5,  5,  6,  4,  7,  6,  5,  3,  2,  8,  8,  9,  4, 10,  7,\n",
       "        4,  5,  6,  9,  7,  9,  3,  9,  3,  4,  4,  7,  4,  7,  3,  9,  5,\n",
       "        5,  5,  7,  7,  3,  2,  5,  3,  5,  7,  5,  3,  4, 12,  6,  3,  4,\n",
       "        3,  4,  9,  7,  3,  5,  5,  4,  2, 11,  7,  7,  5,  7,  3,  3,  7,\n",
       "        2, 10,  6,  8,  7, 12,  4,  2,  9,  8,  3,  7,  5,  4,  7,  5,  9,\n",
       "        9,  4,  5,  6, 11,  5,  8,  7,  6,  6,  9,  5,  4,  8,  5,  3,  3,\n",
       "        7, 12,  9,  8,  3,  8,  7,  3,  2,  8, 11,  7,  5,  5,  3,  5,  3,\n",
       "        4,  4,  6,  3,  9,  8,  5,  8,  6,  1,  1,  7,  4,  5,  1, 10,  1,\n",
       "        7,  5,  7,  8,  3,  7,  6,  4,  5,  4,  6,  4,  5,  4,  5,  6,  7,\n",
       "       10,  2,  6,  5,  5,  5,  5,  9,  5,  6,  6,  7,  9,  8,  3,  4,  9,\n",
       "        6,  6,  2,  5,  6, 11,  7,  5,  4,  6,  5,  7,  4, 10,  4,  6,  2,\n",
       "       12,  5,  3,  8, 10,  5, 11, 11,  8,  6,  5,  6,  9,  3,  8,  7,  3,\n",
       "        5,  7,  9,  8,  9,  7,  7,  6,  5,  8,  6,  9,  0,  6,  6,  8,  9,\n",
       "        5,  7,  5,  7,  7,  8, 12,  5,  4,  8,  6,  6,  5,  6,  7,  5,  4,\n",
       "        8,  5, 11,  3,  4,  7,  6,  5,  6,  8,  6,  3,  4,  8,  7,  8,  6,\n",
       "        7,  3,  5,  4,  5,  6,  1,  9])"
      ]
     },
     "execution_count": 207,
     "metadata": {},
     "output_type": "execute_result"
    }
   ],
   "source": [
    "sample = my_poisson.rvs(365)\n",
    "sample"
   ]
  },
  {
   "cell_type": "code",
   "execution_count": 209,
   "metadata": {
    "colab": {},
    "colab_type": "code",
    "id": "h-_Ioss8NwNo"
   },
   "outputs": [
    {
     "data": {
      "text/plain": [
       "<AxesSubplot:ylabel='count'>"
      ]
     },
     "execution_count": 209,
     "metadata": {},
     "output_type": "execute_result"
    },
    {
     "data": {
      "image/png": "[encoded data removed]",
      "text/plain": [
       "<Figure size 1152x648 with 1 Axes>"
      ]
     },
     "metadata": {},
     "output_type": "display_data"
    }
   ],
   "source": [
    "sns.countplot(x=sample)"
   ]
  },
  {
   "cell_type": "code",
   "execution_count": 869,
   "metadata": {},
   "outputs": [
    {
     "data": {
      "text/plain": [
       "<matplotlib.collections.LineCollection at 0x7ff60aa9f520>"
      ]
     },
     "execution_count": 869,
     "metadata": {},
     "output_type": "execute_result"
    },
    {
     "data": {
      "image/png": "[encoded data removed]",
      "text/plain": [
       "<Figure size 1152x648 with 1 Axes>"
      ]
     },
     "metadata": {},
     "output_type": "display_data"
    }
   ],
   "source": [
    "x = np.arange(0, 20)\n",
    "plt.plot(x, my_poisson.pmf(x), 'bo')\n",
    "plt.vlines(x, 0, my_poisson.pmf(x), colors='b', lw=5, alpha=0.5)"
   ]
  },
  {
   "cell_type": "code",
   "execution_count": 870,
   "metadata": {},
   "outputs": [
    {
     "data": {
      "text/plain": [
       "0.04130309341233764"
      ]
     },
     "execution_count": 870,
     "metadata": {},
     "output_type": "execute_result"
    }
   ],
   "source": [
    "my_poisson.pmf(10)"
   ]
  },
  {
   "cell_type": "markdown",
   "metadata": {
    "lang": "en"
   },
   "source": [
    "What about the exact odds? I want to make sure that 99% of the time I will have a doctor available for each patient. We use `pmf`"
   ]
  },
  {
   "cell_type": "markdown",
   "metadata": {},
   "source": [
    "$$P(X=k)=\\frac{\\lambda ^{k}e^{-\\lambda }}{k!}$$"
   ]
  },
  {
   "cell_type": "code",
   "execution_count": 871,
   "metadata": {
    "lang": "en"
   },
   "outputs": [
    {
     "data": {
      "text/plain": [
       "0.08923507835998894"
      ]
     },
     "execution_count": 871,
     "metadata": {},
     "output_type": "execute_result"
    }
   ],
   "source": [
    "# Probability that 3 patients will arrive\n",
    "my_poisson.pmf(3)"
   ]
  },
  {
   "cell_type": "code",
   "execution_count": 210,
   "metadata": {
    "lang": "en"
   },
   "outputs": [
    {
     "data": {
      "text/plain": [
       "0.1606231410479801"
      ]
     },
     "execution_count": 210,
     "metadata": {},
     "output_type": "execute_result"
    }
   ],
   "source": [
    "# Probability that 6 patients will arrive\n",
    "my_poisson.pmf(6)"
   ]
  },
  {
   "cell_type": "code",
   "execution_count": 211,
   "metadata": {},
   "outputs": [
    {
     "data": {
      "text/plain": [
       "0.0008912555621443482"
      ]
     },
     "execution_count": 211,
     "metadata": {},
     "output_type": "execute_result"
    }
   ],
   "source": [
    "my_poisson.pmf(15)"
   ]
  },
  {
   "cell_type": "code",
   "execution_count": 212,
   "metadata": {},
   "outputs": [
    {
     "data": {
      "text/plain": [
       "3.7250619470429406e-06"
      ]
     },
     "execution_count": 212,
     "metadata": {},
     "output_type": "execute_result"
    }
   ],
   "source": [
    "my_poisson.pmf(20)"
   ]
  },
  {
   "cell_type": "code",
   "execution_count": 875,
   "metadata": {},
   "outputs": [
    {
     "data": {
      "text/plain": [
       "268451.911462527"
      ]
     },
     "execution_count": 875,
     "metadata": {},
     "output_type": "execute_result"
    }
   ],
   "source": [
    "1 / (my_poisson.pmf(20))"
   ]
  },
  {
   "cell_type": "markdown",
   "metadata": {
    "lang": "en"
   },
   "source": [
    "What did the cdf do? We calculated the probability that 6 or fewer patients will arrive"
   ]
  },
  {
   "cell_type": "code",
   "execution_count": 217,
   "metadata": {},
   "outputs": [
    {
     "data": {
      "text/plain": [
       "0.957379076417462"
      ]
     },
     "execution_count": 217,
     "metadata": {},
     "output_type": "execute_result"
    }
   ],
   "source": [
    "my_poisson.cdf(10)"
   ]
  },
  {
   "cell_type": "markdown",
   "metadata": {
    "lang": "en"
   },
   "source": [
    "What is the probability that more than 12 patients will arrive?"
   ]
  },
  {
   "cell_type": "code",
   "execution_count": 877,
   "metadata": {
    "lang": "en"
   },
   "outputs": [
    {
     "data": {
      "text/plain": [
       "0.9911725164821018"
      ]
     },
     "execution_count": 877,
     "metadata": {},
     "output_type": "execute_result"
    }
   ],
   "source": [
    "# Probability that 12 or less will arrive\n",
    "my_poisson.cdf(12)"
   ]
  },
  {
   "cell_type": "code",
   "execution_count": 878,
   "metadata": {
    "lang": "en"
   },
   "outputs": [
    {
     "data": {
      "text/plain": [
       "0.008827483517898194"
      ]
     },
     "execution_count": 878,
     "metadata": {},
     "output_type": "execute_result"
    }
   ],
   "source": [
    "# Probability that more than 12 will arrive\n",
    "1 - my_poisson.cdf(12)"
   ]
  },
  {
   "cell_type": "markdown",
   "metadata": {
    "lang": "en"
   },
   "source": [
    "**Mean, Variance**"
   ]
  },
  {
   "cell_type": "code",
   "execution_count": 218,
   "metadata": {},
   "outputs": [
    {
     "data": {
      "text/plain": [
       "6.0"
      ]
     },
     "execution_count": 218,
     "metadata": {},
     "output_type": "execute_result"
    }
   ],
   "source": [
    "my_poisson.mean()"
   ]
  },
  {
   "cell_type": "code",
   "execution_count": 219,
   "metadata": {},
   "outputs": [
    {
     "data": {
      "text/plain": [
       "6.0"
      ]
     },
     "execution_count": 219,
     "metadata": {},
     "output_type": "execute_result"
    }
   ],
   "source": [
    "my_poisson.var()"
   ]
  },
  {
   "cell_type": "code",
   "execution_count": 220,
   "metadata": {},
   "outputs": [
    {
     "data": {
      "text/plain": [
       "5.980821917808219"
      ]
     },
     "execution_count": 220,
     "metadata": {},
     "output_type": "execute_result"
    }
   ],
   "source": [
    "sample.mean()"
   ]
  },
  {
   "cell_type": "code",
   "execution_count": 221,
   "metadata": {},
   "outputs": [
    {
     "data": {
      "text/plain": [
       "6.506481516231939"
      ]
     },
     "execution_count": 221,
     "metadata": {},
     "output_type": "execute_result"
    }
   ],
   "source": [
    "sample.var()"
   ]
  },
  {
   "cell_type": "code",
   "execution_count": 881,
   "metadata": {},
   "outputs": [],
   "source": [
    "m = poisson(2)"
   ]
  },
  {
   "cell_type": "code",
   "execution_count": 882,
   "metadata": {},
   "outputs": [
    {
     "data": {
      "text/plain": [
       "2.0"
      ]
     },
     "execution_count": 882,
     "metadata": {},
     "output_type": "execute_result"
    }
   ],
   "source": [
    "m.var()\n",
    "m.mean()"
   ]
  },
  {
   "cell_type": "markdown",
   "metadata": {
    "lang": "en"
   },
   "source": [
    "**Exercise**\n",
    "My visits to the web: 30 people enter my web page on average every minute (instance the probability machine)"
   ]
  },
  {
   "cell_type": "code",
   "execution_count": 883,
   "metadata": {},
   "outputs": [],
   "source": [
    "my_web_poisson = poisson(30)"
   ]
  },
  {
   "cell_type": "code",
   "execution_count": 884,
   "metadata": {
    "lang": "en"
   },
   "outputs": [
    {
     "data": {
      "text/plain": [
       "0.07263452647159181"
      ]
     },
     "execution_count": 884,
     "metadata": {},
     "output_type": "execute_result"
    }
   ],
   "source": [
    "# Theoretical probability that exactly 30 users enter in one minute\n",
    "my_web_poisson.pmf(30)"
   ]
  },
  {
   "cell_type": "code",
   "execution_count": 885,
   "metadata": {},
   "outputs": [
    {
     "data": {
      "text/plain": [
       "0.07021337558920529"
      ]
     },
     "execution_count": 885,
     "metadata": {},
     "output_type": "execute_result"
    }
   ],
   "source": [
    "my_web_poisson.pmf(28)"
   ]
  },
  {
   "cell_type": "code",
   "execution_count": 886,
   "metadata": {},
   "outputs": [
    {
     "data": {
      "text/plain": [
       "0.06589825990366238"
      ]
     },
     "execution_count": 886,
     "metadata": {},
     "output_type": "execute_result"
    }
   ],
   "source": [
    "my_web_poisson.pmf(32)"
   ]
  },
  {
   "cell_type": "code",
   "execution_count": 887,
   "metadata": {},
   "outputs": [
    {
     "data": {
      "text/plain": [
       "0.00022087848072126846"
      ]
     },
     "execution_count": 887,
     "metadata": {},
     "output_type": "execute_result"
    }
   ],
   "source": [
    "my_web_poisson.pmf(50)"
   ]
  },
  {
   "cell_type": "code",
   "execution_count": 888,
   "metadata": {
    "lang": "en"
   },
   "outputs": [
    {
     "data": {
      "text/plain": [
       "0.9676904258341258"
      ]
     },
     "execution_count": 888,
     "metadata": {},
     "output_type": "execute_result"
    }
   ],
   "source": [
    "my_web_poisson.cdf(40) # Probability that 40 or fewer users will enter"
   ]
  },
  {
   "cell_type": "markdown",
   "metadata": {},
   "source": [
    "# Recap\n",
    "\n",
    "- Distritubtions: frequency & probability\n",
    "- PD describing discrete/continuos\n",
    "- We can create theoretical distributions & samples\n",
    "- We can describe them through statistics: mean, variance\n",
    "- We have functions that summarize how they behave: `pmf` & `cdf`\n",
    "- Different distributions: `Bernouilli`, `Binomial` and `Poisson`\n",
    "- Distributions will have parameters: B (sample space of two & prob), Binomial (number of events, p), Poisson (mean based on the time)\n",
    "- There's more PD for discrete variables\n",
    "\n",
    "- You can look at the probability of events happening. Theoretical and observed prob & statistics; and this will be helpful for hypothesis testing"
   ]
  },
  {
   "cell_type": "markdown",
   "metadata": {},
   "source": [
    "- What type of variable I'm working with: discrete or continuous\n",
    "- The paramaters that it'll need: mean, p, size, etc"
   ]
  },
  {
   "cell_type": "code",
   "execution_count": 222,
   "metadata": {},
   "outputs": [],
   "source": [
    "# Q: checking what distribution my data is following: we'll be checking for normalization mostly"
   ]
  }
 ],
 "metadata": {
  "colab": {
   "collapsed_sections": [],
   "name": "ProbabilityDistribution (1).ipynb",
   "provenance": []
  },
  "kernelspec": {
   "display_name": "ironhack",
   "language": "python",
   "name": "ironhack"
  },
  "language_info": {
   "codemirror_mode": {
    "name": "ipython",
    "version": 3
   },
   "file_extension": ".py",
   "mimetype": "text/x-python",
   "name": "python",
   "nbconvert_exporter": "python",
   "pygments_lexer": "ipython3",
   "version": "3.8.13"
  },
  "nbTranslate": {
   "displayLangs": [
    "en",
    "es"
   ],
   "hotkey": "alt-a",
   "langInMainMenu": true,
   "sourceLang": "es",
   "targetLang": "en",
   "useGoogleTranslate": true
  },
  "toc": {
   "base_numbering": 1,
   "nav_menu": {},
   "number_sections": true,
   "sideBar": true,
   "skip_h1_title": true,
   "title_cell": "Table of Contents",
   "title_sidebar": "Contents",
   "toc_cell": true,
   "toc_position": {
    "height": "calc(100% - 180px)",
    "left": "10px",
    "top": "150px",
    "width": "165px"
   },
   "toc_section_display": true,
   "toc_window_display": true
  },
  "varInspector": {
   "cols": {
    "lenName": 16,
    "lenType": 16,
    "lenVar": 40
   },
   "kernels_config": {
    "python": {
     "delete_cmd_postfix": "",
     "delete_cmd_prefix": "del ",
     "library": "var_list.py",
     "varRefreshCmd": "print(var_dic_list())"
    },
    "r": {
     "delete_cmd_postfix": ") ",
     "delete_cmd_prefix": "rm(",
     "library": "var_list.r",
     "varRefreshCmd": "cat(var_dic_list()) "
    }
   },
   "types_to_exclude": [
    "module",
    "function",
    "builtin_function_or_method",
    "instance",
    "_Feature"
   ],
   "window_display": false
  }
 },
 "nbformat": 4,
 "nbformat_minor": 1
}
