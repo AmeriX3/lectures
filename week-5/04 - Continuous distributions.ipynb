{
 "cells": [
  {
   "cell_type": "markdown",
   "metadata": {
    "lang": "en"
   },
   "source": [
    "# Continuous probability distributions"
   ]
  },
  {
   "cell_type": "markdown",
   "metadata": {},
   "source": [
    "![ungif](https://media.giphy.com/media/RhHHTsjhLvfWw/giphy.gif)"
   ]
  },
  {
   "cell_type": "markdown",
   "metadata": {
    "toc": true
   },
   "source": [
    "<h1>Table of Contents<span class=\"tocSkip\"></span></h1>\n",
    "<div class=\"toc\"><ul class=\"toc-item\"><li><span><a href=\"#Continuous-probability-distributions\" data-toc-modified-id=\"Continuous-probability-distributions-1\"><span class=\"toc-item-num\">1&nbsp;&nbsp;</span>Continuous probability distributions</a></span></li><li><span><a href=\"#Uniform-distribution\" data-toc-modified-id=\"Uniform-distribution-2\"><span class=\"toc-item-num\">2&nbsp;&nbsp;</span>Uniform distribution</a></span><ul class=\"toc-item\"><li><span><a href=\"#Uniform-distribution-on-the-interval-[0,-1]\" data-toc-modified-id=\"Uniform-distribution-on-the-interval-[0,-1]-2.1\"><span class=\"toc-item-num\">2.1&nbsp;&nbsp;</span>Uniform distribution on the interval [0, 1]</a></span></li><li><span><a href=\"#Cumulative-distribution-function\" data-toc-modified-id=\"Cumulative-distribution-function-2.2\"><span class=\"toc-item-num\">2.2&nbsp;&nbsp;</span>Cumulative distribution function</a></span></li><li><span><a href=\"#Uniform-distribution-on-the-interval-[a,-b]\" data-toc-modified-id=\"Uniform-distribution-on-the-interval-[a,-b]-2.3\"><span class=\"toc-item-num\">2.3&nbsp;&nbsp;</span>Uniform distribution on the interval [a, b]</a></span></li><li><span><a href=\"#Plot-the-CDF\" data-toc-modified-id=\"Plot-the-CDF-2.4\"><span class=\"toc-item-num\">2.4&nbsp;&nbsp;</span>Plot the CDF</a></span></li></ul></li><li><span><a href=\"#Exponential-distribution\" data-toc-modified-id=\"Exponential-distribution-3\"><span class=\"toc-item-num\">3&nbsp;&nbsp;</span>Exponential distribution</a></span><ul class=\"toc-item\"><li><span><a href=\"#Not-to-be-confused-with-Poisson...-Be-careful!\" data-toc-modified-id=\"Not-to-be-confused-with-Poisson...-Be-careful!-3.1\"><span class=\"toc-item-num\">3.1&nbsp;&nbsp;</span>Not to be confused with Poisson... Be careful!</a></span></li><li><span><a href=\"#Probability-Distribution-Function-(PDF)\" data-toc-modified-id=\"Probability-Distribution-Function-(PDF)-3.2\"><span class=\"toc-item-num\">3.2&nbsp;&nbsp;</span>Probability Distribution Function (PDF)</a></span></li></ul></li><li><span><a href=\"#Normal-distribution\" data-toc-modified-id=\"Normal-distribution-4\"><span class=\"toc-item-num\">4&nbsp;&nbsp;</span>Normal distribution</a></span><ul class=\"toc-item\"><li><ul class=\"toc-item\"><li><span><a href=\"#Intro\" data-toc-modified-id=\"Intro-4.0.1\"><span class=\"toc-item-num\">4.0.1&nbsp;&nbsp;</span>Intro</a></span></li><li><span><a href=\"#scipy's-norm\" data-toc-modified-id=\"scipy's-norm-4.0.2\"><span class=\"toc-item-num\">4.0.2&nbsp;&nbsp;</span>scipy's <code>norm</code></a></span></li><li><span><a href=\"#We-sample-with-normal\" data-toc-modified-id=\"We-sample-with-normal-4.0.3\"><span class=\"toc-item-num\">4.0.3&nbsp;&nbsp;</span>We sample with normal</a></span></li><li><span><a href=\"#Probability-density-function\" data-toc-modified-id=\"Probability-density-function-4.0.4\"><span class=\"toc-item-num\">4.0.4&nbsp;&nbsp;</span>Probability density function</a></span></li><li><span><a href=\"#Percent-point-function-(PPF)\" data-toc-modified-id=\"Percent-point-function-(PPF)-4.0.5\"><span class=\"toc-item-num\">4.0.5&nbsp;&nbsp;</span>Percent point function (PPF)</a></span></li></ul></li><li><span><a href=\"#Other-continuous-probability-distributions\" data-toc-modified-id=\"Other-continuous-probability-distributions-4.1\"><span class=\"toc-item-num\">4.1&nbsp;&nbsp;</span>Other continuous probability distributions</a></span></li></ul></li><li><span><a href=\"#Summary\" data-toc-modified-id=\"Summary-5\"><span class=\"toc-item-num\">5&nbsp;&nbsp;</span>Summary</a></span></li></ul></div>"
   ]
  },
  {
   "cell_type": "code",
   "execution_count": 1,
   "metadata": {},
   "outputs": [],
   "source": [
    "# Viz mantra\n",
    "from matplotlib import pyplot as plt\n",
    "%matplotlib inline\n",
    "%config Inlinebackend.figure_format = 'retina'\n",
    "\n",
    "import seaborn as sns\n",
    "sns.set_context('poster')\n",
    "sns.set(rc={'figure.figsize': (16., 9.)})\n",
    "sns.set_style('whitegrid')\n",
    "\n",
    "import pylab as p\n",
    "import numpy as np\n",
    "import pandas as pd"
   ]
  },
  {
   "cell_type": "markdown",
   "metadata": {
    "lang": "en"
   },
   "source": [
    "## Continuous probability distributions"
   ]
  },
  {
   "cell_type": "markdown",
   "metadata": {
    "lang": "en"
   },
   "source": [
    "**Continuous probability distributions** are those that can take any value in a given range. In particular, they can take infinitely many different values.\n",
    "\n",
    "X is a continuous random variable.\n",
    "\n",
    "X follows a continuous probability distribution."
   ]
  },
  {
   "cell_type": "markdown",
   "metadata": {
    "lang": "en"
   },
   "source": [
    "## Uniform distribution"
   ]
  },
  {
   "cell_type": "markdown",
   "metadata": {
    "lang": "en"
   },
   "source": [
    "### Uniform distribution on the interval [0, 1]\n",
    "All numbers in the integer [0, 1] are equally likely\n",
    "In a continuous probability distribution, it only makes sense to talk about the probability of an interval, not a particular number."
   ]
  },
  {
   "cell_type": "markdown",
   "metadata": {},
   "source": [
    "<img src=\"https://upload.wikimedia.org/wikipedia/commons/thumb/2/28/Unit-interval.svg/1200px-Unit-interval.svg.png\" width=500>"
   ]
  },
  {
   "cell_type": "markdown",
   "metadata": {},
   "source": [
    "$P(x \\leq 0.4)=0.4$"
   ]
  },
  {
   "cell_type": "markdown",
   "metadata": {},
   "source": [
    "$P(x \\geq 0.7)=0.3$"
   ]
  },
  {
   "cell_type": "markdown",
   "metadata": {},
   "source": [
    "$P(x \\leq 1)= 1$"
   ]
  },
  {
   "cell_type": "markdown",
   "metadata": {},
   "source": [
    "$P(x \\geq 0)=1$"
   ]
  },
  {
   "cell_type": "markdown",
   "metadata": {},
   "source": [
    "$P(0.1 \\leq x \\leq 0.4)=0.4 - 0.1=0.3$"
   ]
  },
  {
   "cell_type": "markdown",
   "metadata": {
    "lang": "en"
   },
   "source": [
    "For every number $c, d \\in [0, 1]$ we have"
   ]
  },
  {
   "cell_type": "markdown",
   "metadata": {
    "colab_type": "text",
    "id": "5dn6JLn8GhnC"
   },
   "source": [
    "$$P(c < x <= d) = d-c$$"
   ]
  },
  {
   "cell_type": "markdown",
   "metadata": {
    "lang": "en"
   },
   "source": [
    "Let's use distribution instantiation in Python to generate samples from a $U(0, 1)$ distribution."
   ]
  },
  {
   "cell_type": "code",
   "execution_count": 35,
   "metadata": {},
   "outputs": [],
   "source": [
    "from scipy.stats import uniform"
   ]
  },
  {
   "cell_type": "code",
   "execution_count": 36,
   "metadata": {},
   "outputs": [],
   "source": [
    "my_uniform = uniform(0,1)"
   ]
  },
  {
   "cell_type": "code",
   "execution_count": 37,
   "metadata": {},
   "outputs": [
    {
     "data": {
      "text/plain": [
       "array([0.32240756])"
      ]
     },
     "execution_count": 37,
     "metadata": {},
     "output_type": "execute_result"
    }
   ],
   "source": [
    "my_uniform.rvs(1)"
   ]
  },
  {
   "cell_type": "code",
   "execution_count": 38,
   "metadata": {},
   "outputs": [
    {
     "data": {
      "text/plain": [
       "array([0.46799609, 0.19972411, 0.73302009, 0.30979297, 0.66088595,\n",
       "       0.86937712, 0.66865445, 0.50775009, 0.09639762, 0.22480993,\n",
       "       0.67433758, 0.60189201, 0.71559815, 0.43414783, 0.16901787,\n",
       "       0.3932126 , 0.28629322, 0.41793984, 0.52405725, 0.97066529,\n",
       "       0.7288531 , 0.78153369, 0.95295178, 0.56390119, 0.4542084 ,\n",
       "       0.36822047, 0.16744881, 0.80817215, 0.44319518, 0.47149248,\n",
       "       0.16201381, 0.68465617, 0.62042173, 0.51612228, 0.91726774,\n",
       "       0.9792022 , 0.32004335, 0.26148858, 0.13603241, 0.29125383,\n",
       "       0.23328544, 0.19135318, 0.61449158, 0.25010553, 0.06339942,\n",
       "       0.72472712, 0.82650636, 0.74005992, 0.63722125, 0.77448917,\n",
       "       0.54811911, 0.45703591, 0.23153933, 0.22214455, 0.65319156,\n",
       "       0.00183192, 0.180344  , 0.59327202, 0.01799786, 0.34711182,\n",
       "       0.46504413, 0.09823173, 0.24076691, 0.28747845, 0.7838655 ,\n",
       "       0.9117049 , 0.04670625, 0.94286734, 0.47029845, 0.41193603,\n",
       "       0.28710879, 0.15350983, 0.20746398, 0.04379756, 0.90046686,\n",
       "       0.21106522, 0.9426928 , 0.55929975, 0.13677744, 0.88121578,\n",
       "       0.84849836, 0.44278834, 0.08103579, 0.31540347, 0.18693803,\n",
       "       0.62469408, 0.32877858, 0.79254844, 0.12829737, 0.94500152,\n",
       "       0.13989148, 0.92020265, 0.45207943, 0.7472452 , 0.51983519,\n",
       "       0.47318084, 0.44695479, 0.34496092, 0.6455397 , 0.75435914])"
      ]
     },
     "execution_count": 38,
     "metadata": {},
     "output_type": "execute_result"
    }
   ],
   "source": [
    "sample = my_uniform.rvs(100)\n",
    "sample"
   ]
  },
  {
   "cell_type": "code",
   "execution_count": 39,
   "metadata": {},
   "outputs": [
    {
     "data": {
      "image/png": "[encoded data removed]",
      "text/plain": [
       "<Figure size 1152x648 with 1 Axes>"
      ]
     },
     "metadata": {},
     "output_type": "display_data"
    }
   ],
   "source": [
    "sns.histplot(sample);"
   ]
  },
  {
   "cell_type": "code",
   "execution_count": 40,
   "metadata": {},
   "outputs": [],
   "source": [
    "sample = my_uniform.rvs(size=100)"
   ]
  },
  {
   "cell_type": "code",
   "execution_count": 41,
   "metadata": {},
   "outputs": [
    {
     "data": {
      "image/png": "[encoded data removed]",
      "text/plain": [
       "<Figure size 1152x648 with 1 Axes>"
      ]
     },
     "metadata": {},
     "output_type": "display_data"
    }
   ],
   "source": [
    "sns.histplot(sample);"
   ]
  },
  {
   "cell_type": "code",
   "execution_count": 42,
   "metadata": {},
   "outputs": [
    {
     "data": {
      "image/png": "[encoded data removed]",
      "text/plain": [
       "<Figure size 1152x648 with 1 Axes>"
      ]
     },
     "metadata": {},
     "output_type": "display_data"
    }
   ],
   "source": [
    "sample = my_uniform.rvs(size=1000)\n",
    "sns.histplot(sample, stat=\"percent\");"
   ]
  },
  {
   "cell_type": "code",
   "execution_count": 43,
   "metadata": {},
   "outputs": [
    {
     "data": {
      "text/plain": [
       "0.5028407412722928"
      ]
     },
     "execution_count": 43,
     "metadata": {},
     "output_type": "execute_result"
    }
   ],
   "source": [
    "sample.mean()"
   ]
  },
  {
   "cell_type": "code",
   "execution_count": 44,
   "metadata": {},
   "outputs": [
    {
     "data": {
      "text/plain": [
       "0.29083732565006504"
      ]
     },
     "execution_count": 44,
     "metadata": {},
     "output_type": "execute_result"
    }
   ],
   "source": [
    "sample.std()"
   ]
  },
  {
   "cell_type": "code",
   "execution_count": 45,
   "metadata": {},
   "outputs": [
    {
     "data": {
      "text/plain": [
       "0.5"
      ]
     },
     "execution_count": 45,
     "metadata": {},
     "output_type": "execute_result"
    }
   ],
   "source": [
    "my_uniform.mean()"
   ]
  },
  {
   "cell_type": "code",
   "execution_count": 46,
   "metadata": {},
   "outputs": [
    {
     "data": {
      "text/plain": [
       "0.28867513459481287"
      ]
     },
     "execution_count": 46,
     "metadata": {},
     "output_type": "execute_result"
    }
   ],
   "source": [
    "my_uniform.std()"
   ]
  },
  {
   "cell_type": "markdown",
   "metadata": {
    "lang": "en"
   },
   "source": [
    "### Cumulative distribution function"
   ]
  },
  {
   "cell_type": "markdown",
   "metadata": {
    "lang": "en"
   },
   "source": [
    "The PMF is a way to describe the distribution of a discrete random variable... but the PMF cannot be defined for continuous random variables. The cumulative distribution function (CDF) of a random variable is another method of describing the distribution of random variables. The advantage of the CDF is that it can be defined for any type of random variable (as we have already seen in the case of discrete variables)."
   ]
  },
  {
   "cell_type": "markdown",
   "metadata": {
    "lang": "en"
   },
   "source": [
    "`.cdf(x)` tells us the probability of $X<x$"
   ]
  },
  {
   "cell_type": "markdown",
   "metadata": {
    "lang": "en"
   },
   "source": [
    "So, **what is the probability that a number less than 1 will come up?**"
   ]
  },
  {
   "cell_type": "code",
   "execution_count": 50,
   "metadata": {},
   "outputs": [
    {
     "data": {
      "text/plain": [
       "1.0"
      ]
     },
     "execution_count": 50,
     "metadata": {},
     "output_type": "execute_result"
    }
   ],
   "source": [
    "my_uniform.cdf(1)"
   ]
  },
  {
   "cell_type": "markdown",
   "metadata": {
    "lang": "en"
   },
   "source": [
    "What if a number less than 0 comes out?"
   ]
  },
  {
   "cell_type": "code",
   "execution_count": 96,
   "metadata": {},
   "outputs": [
    {
     "data": {
      "text/plain": [
       "0.0"
      ]
     },
     "execution_count": 96,
     "metadata": {},
     "output_type": "execute_result"
    }
   ],
   "source": [
    "my_uniform.cdf(0)"
   ]
  },
  {
   "cell_type": "code",
   "execution_count": 111,
   "metadata": {
    "lang": "en"
   },
   "outputs": [
    {
     "data": {
      "text/plain": [
       "0.5"
      ]
     },
     "execution_count": 111,
     "metadata": {},
     "output_type": "execute_result"
    }
   ],
   "source": [
    "# Probability of rolling a number less than 0.5\n",
    "my_uniform.cdf(0.5)"
   ]
  },
  {
   "cell_type": "code",
   "execution_count": 115,
   "metadata": {},
   "outputs": [
    {
     "data": {
      "text/plain": [
       "0.4"
      ]
     },
     "execution_count": 115,
     "metadata": {},
     "output_type": "execute_result"
    }
   ],
   "source": [
    "my_uniform.cdf(0.4)"
   ]
  },
  {
   "cell_type": "markdown",
   "metadata": {
    "lang": "en"
   },
   "source": [
    "It happens that... What is the probability that I get a number between 0.2 and 0.7? Well, then the probability is that I get a number less than 0.7 and subtract the probability that I get a number less than 0.2....\n",
    "$P(0.2 < X < 0.7) = P(X < 0.7) - P(X < 0.2)$"
   ]
  },
  {
   "cell_type": "markdown",
   "metadata": {
    "lang": "en"
   },
   "source": [
    "Then\n",
    "$P(X < 0.2) + P(0.2 < X < 0.7) = P(X < 0.7)$"
   ]
  },
  {
   "cell_type": "code",
   "execution_count": 116,
   "metadata": {},
   "outputs": [
    {
     "data": {
      "text/plain": [
       "0.49999999999999994"
      ]
     },
     "execution_count": 116,
     "metadata": {},
     "output_type": "execute_result"
    }
   ],
   "source": [
    "my_uniform.cdf(0.7) - my_uniform.cdf(0.2)"
   ]
  },
  {
   "cell_type": "markdown",
   "metadata": {
    "lang": "en"
   },
   "source": [
    "### Uniform distribution on the interval [a, b]"
   ]
  },
  {
   "cell_type": "markdown",
   "metadata": {
    "lang": "en"
   },
   "source": [
    "All numbers in the interval [a, b] are equiprobable"
   ]
  },
  {
   "cell_type": "markdown",
   "metadata": {},
   "source": [
    "$X \\sim U(a, b)$"
   ]
  },
  {
   "cell_type": "markdown",
   "metadata": {},
   "source": [
    "$P(x \\leq b)=1$"
   ]
  },
  {
   "cell_type": "markdown",
   "metadata": {},
   "source": [
    "$P(x \\geq a)=1$"
   ]
  },
  {
   "cell_type": "markdown",
   "metadata": {
    "lang": "en"
   },
   "source": [
    "$\\frac{a+b}{2}$ is the mean between $a$ and $b$"
   ]
  },
  {
   "cell_type": "markdown",
   "metadata": {},
   "source": [
    "$P(x \\leq \\frac{a+b}{2})=0.5$"
   ]
  },
  {
   "cell_type": "markdown",
   "metadata": {
    "lang": "en"
   },
   "source": [
    "Let's use distribution instantiation in Python to generate samples from a $U(a, b)$ distribution."
   ]
  },
  {
   "cell_type": "code",
   "execution_count": 58,
   "metadata": {},
   "outputs": [],
   "source": [
    "from scipy.stats import uniform"
   ]
  },
  {
   "cell_type": "code",
   "execution_count": 59,
   "metadata": {},
   "outputs": [],
   "source": [
    "a,b = 4,10"
   ]
  },
  {
   "cell_type": "markdown",
   "metadata": {},
   "source": [
    "`uniform` receives `a` y `h`"
   ]
  },
  {
   "cell_type": "code",
   "execution_count": 60,
   "metadata": {
    "lang": "en"
   },
   "outputs": [
    {
     "data": {
      "text/plain": [
       "6"
      ]
     },
     "execution_count": 60,
     "metadata": {},
     "output_type": "execute_result"
    }
   ],
   "source": [
    "# A, is is the start and H is the length of the interval, so I have to calculate it for myself\n",
    "h = b - a\n",
    "h"
   ]
  },
  {
   "cell_type": "code",
   "execution_count": 61,
   "metadata": {
    "lang": "en"
   },
   "outputs": [],
   "source": [
    "# instantiate my uniform distribution\n",
    "my_uniform = uniform(loc=a, scale=h) # The arguments are called loc and scale but do not need to be named"
   ]
  },
  {
   "cell_type": "markdown",
   "metadata": {},
   "source": [
    "`.rvs` generates a sample drawn from the distribution"
   ]
  },
  {
   "cell_type": "code",
   "execution_count": 70,
   "metadata": {
    "lang": "en"
   },
   "outputs": [
    {
     "data": {
      "text/plain": [
       "array([9.40403336])"
      ]
     },
     "execution_count": 70,
     "metadata": {},
     "output_type": "execute_result"
    }
   ],
   "source": [
    "# Generate random samples...\n",
    "my_uniform.rvs(1)"
   ]
  },
  {
   "cell_type": "code",
   "execution_count": 75,
   "metadata": {
    "lang": "en"
   },
   "outputs": [
    {
     "data": {
      "text/plain": [
       "array([6.93765704, 6.15020414, 7.56215694, 7.86550305, 4.71255993,\n",
       "       5.25949978, 4.70862171, 7.49524597, 4.0709642 , 7.21943893,\n",
       "       6.00085513, 5.08629161, 8.63479664, 5.50210907, 6.6707076 ,\n",
       "       5.53479691, 5.02333635, 5.196668  , 9.39190501, 6.65010106,\n",
       "       7.62305147, 8.69416266, 8.48696194, 8.20534607, 7.14919834,\n",
       "       6.20391295, 8.67634081, 8.49746191, 8.76398639, 6.16265564,\n",
       "       9.37721467, 8.60826613, 4.32538517, 7.46719117, 7.73852219,\n",
       "       8.45091694, 9.34260729, 9.39097744, 8.16149785, 7.7616214 ,\n",
       "       7.62725094, 8.40676099, 8.73155212, 6.57232017, 7.73566386,\n",
       "       4.38035859, 7.06151534, 8.30952541, 6.64599824, 4.94548792,\n",
       "       8.9934717 , 7.22326948, 4.10122472, 5.63581087, 7.32284073,\n",
       "       4.04557105, 8.08211508, 7.1287505 , 8.13294528, 6.7353234 ,\n",
       "       6.79910032, 9.15228656, 8.74424677, 9.58935438, 8.23285381,\n",
       "       7.26425326, 4.83576295, 5.1984033 , 4.67610987, 7.96585802,\n",
       "       8.80475176, 8.52936661, 6.34185774, 6.61711852, 6.94130375,\n",
       "       6.21579154, 4.32628143, 9.09842851, 8.23011254, 7.34213955,\n",
       "       5.02976362, 9.92798078, 6.56976921, 8.9643469 , 5.54876806,\n",
       "       6.2736039 , 4.16237656, 5.29403741, 5.03394323, 4.8713824 ,\n",
       "       5.75243412, 7.16430305, 6.19361748, 6.31049114, 8.88086785,\n",
       "       7.58652073, 4.7668014 , 5.00111533, 8.85488963, 5.81473367,\n",
       "       6.48428242, 4.67177718, 6.20320422, 7.1681486 , 6.97022335,\n",
       "       7.43270828, 9.17891048, 7.29924746, 5.4614415 , 5.18774884,\n",
       "       7.07489224, 4.08553276, 8.63345085, 4.3091918 , 5.85650684,\n",
       "       8.90918524, 6.09789047, 6.93516369, 9.93769947, 4.05803027,\n",
       "       7.40880066, 6.47181653, 9.18604419, 7.74917138, 6.89490498,\n",
       "       4.77489473, 6.25530482, 9.2539538 , 8.05259472, 6.79774414,\n",
       "       8.2136893 , 9.88053776, 5.90717009, 9.69921593, 4.79866714,\n",
       "       9.02116393, 9.15764316, 9.05612236, 6.60487769, 4.98560644,\n",
       "       9.18038075, 6.87486687, 6.36678815, 7.33058276, 4.61286385,\n",
       "       7.57049024, 4.76600437, 8.03458888, 7.62282656, 8.03317314,\n",
       "       9.65356978, 7.31864738, 6.3642381 , 7.95692399, 9.90224618,\n",
       "       6.05670057, 4.38651413, 7.95772167, 8.21058382, 7.95122254,\n",
       "       9.41563538, 5.85319478, 9.69308846, 5.60706926, 9.89648365,\n",
       "       6.34371517, 6.14161503, 6.62850586, 7.63059309, 9.20633188,\n",
       "       7.95216498, 7.78756848, 6.7551075 , 4.35073769, 5.05033396,\n",
       "       9.37286705, 5.1718035 , 6.5178618 , 6.40534153, 5.99103655,\n",
       "       9.29855057, 4.81076335, 4.91974634, 6.90643549, 8.16370164,\n",
       "       6.7162972 , 4.8579884 , 4.50659735, 7.81054905, 7.93449839,\n",
       "       9.58411841, 4.03394261, 4.02689538, 8.58416452, 6.46347998,\n",
       "       5.03679951, 6.5949497 , 5.62435446, 7.36852617, 6.12788505,\n",
       "       4.94752437, 9.46671685, 8.5410568 , 8.43416983, 9.61856582,\n",
       "       7.98179948, 7.44925714, 6.88543133, 9.3246099 , 6.31396577,\n",
       "       7.51443992, 7.29725853, 9.55740983, 9.21647029, 9.78235723,\n",
       "       5.18029717, 4.32393669, 9.5840266 , 7.7736143 , 4.37915321,\n",
       "       7.55597363, 9.59125558, 9.75065361, 5.19534334, 6.36119815,\n",
       "       8.76333006, 4.52608418, 8.90546976, 9.75148439, 6.26781399,\n",
       "       5.97825817, 9.61469375, 7.37921327, 9.04081442, 9.32963302,\n",
       "       7.36116543, 8.32276513, 4.95454138, 8.65682833, 4.67673258,\n",
       "       4.52341126, 6.4555674 , 4.33623835, 4.99406744, 9.62536398,\n",
       "       9.35834463, 7.34308079, 8.28660054, 7.61161141, 7.96677215,\n",
       "       4.91120457, 7.5948763 , 6.61315818, 5.91455623, 6.40467387,\n",
       "       8.35021489, 5.93332134, 5.18824939, 8.36158973, 5.51103011,\n",
       "       6.78134761, 4.81058289, 8.84455766, 4.22584899, 9.69807489,\n",
       "       9.358811  , 5.00335116, 9.26280604, 6.86811995, 8.45619151,\n",
       "       4.80437128, 9.45347357, 8.67179394, 8.66216464, 4.65558694,\n",
       "       6.90697563, 7.13960502, 5.41620931, 9.6054226 , 6.92290155,\n",
       "       9.44979086, 5.10655569, 9.22221623, 9.35638905, 6.31390746,\n",
       "       8.63587294, 9.74157729, 8.8764808 , 9.35643892, 6.4988909 ,\n",
       "       9.61623117, 6.39242933, 9.58450699, 5.92252445, 4.56800316,\n",
       "       6.32630604, 4.62236314, 8.19755878, 8.12245965, 4.98899218,\n",
       "       4.91977126, 4.67597198, 5.32183426, 6.07579855, 8.61429554,\n",
       "       8.03497065, 8.97676861, 6.25705822, 9.8598867 , 8.94276064,\n",
       "       4.99002788, 4.91728731, 8.1335956 , 7.03927835, 7.14345632,\n",
       "       8.45794727, 5.71868121, 5.76419645, 7.47728227, 8.67355049,\n",
       "       7.07558719, 5.43229634, 9.12021767, 9.24595978, 8.60353442,\n",
       "       7.82464526, 7.76320247, 5.47982596, 9.82776728, 4.58166177,\n",
       "       4.55811427, 4.35995168, 9.91130098, 7.94038674, 6.59022394,\n",
       "       4.8948357 , 4.0975138 , 7.30440426, 4.47411857, 9.45534364,\n",
       "       9.70163338, 4.19108154, 4.14149706, 4.2423632 , 7.35150679,\n",
       "       7.72452379, 9.80606684, 4.35293603, 6.07769162, 9.89440979,\n",
       "       7.61126083, 7.14459543, 9.76503668, 4.24970701, 6.76194085,\n",
       "       5.1192114 , 5.52727417, 5.29017303, 8.71030571, 4.02548398,\n",
       "       7.9061607 , 5.02158315, 4.2866101 , 6.72843931, 7.58977502,\n",
       "       9.45115448, 5.80935504, 7.36590778, 5.99391956, 8.00597645,\n",
       "       8.17892095, 7.29900592, 5.94618322, 9.13623673, 9.7760348 ,\n",
       "       8.7433121 , 9.09915542, 6.66551613, 9.14398299, 4.08870846,\n",
       "       7.74793488, 8.49566183, 9.1766635 , 6.76612682, 7.03945484,\n",
       "       9.63283318, 6.09216241, 7.80663291, 7.91451184, 5.76208625,\n",
       "       7.37055776, 8.69968112, 4.89781932, 4.68378698, 8.56977805,\n",
       "       9.27470396, 5.41574709, 4.2033001 , 9.92900529, 8.11267369,\n",
       "       8.44039323, 5.49197666, 6.9985231 , 7.17887881, 4.57560165,\n",
       "       6.358005  , 4.22676051, 4.64864249, 4.66082648, 9.03010443,\n",
       "       8.98368966, 7.53716113, 7.46727763, 5.75330283, 5.51077597,\n",
       "       4.93546812, 7.37886911, 8.57144935, 8.80779512, 6.58588807,\n",
       "       5.7685195 , 6.3507061 , 4.79146105, 8.46858362, 6.53059724,\n",
       "       7.36255624, 7.66299871, 6.98459976, 8.57504841, 8.90696159,\n",
       "       8.12370045, 7.88053783, 5.48445072, 5.88003815, 7.15936607,\n",
       "       4.21000882, 8.83304727, 6.98224943, 4.44460602, 7.70142329,\n",
       "       6.42246541, 5.496957  , 9.4309984 , 5.56539095, 7.28659957,\n",
       "       4.34091471, 8.77992868, 9.01897517, 9.06337032, 6.81265007,\n",
       "       4.5797521 , 7.94074591, 7.47184515, 9.26984777, 6.46744097,\n",
       "       7.60630815, 8.70605742, 4.89123547, 6.58825236, 4.06000901,\n",
       "       5.41353169, 7.00624029, 7.69573947, 8.46204276, 8.03044763,\n",
       "       4.4177734 , 4.94289685, 4.28650508, 6.09685009, 8.96718423,\n",
       "       4.3895071 , 4.64662244, 8.80378591, 7.77568733, 5.30536898,\n",
       "       4.53623057, 9.81925042, 6.91457073, 4.38109049, 8.87860896,\n",
       "       6.15437516, 6.18617405, 7.80282245, 7.56975914, 8.23219709,\n",
       "       9.44448125, 8.66990105, 5.2677204 , 6.43150037, 7.85699929,\n",
       "       6.72000992, 4.49652385, 7.48120312, 9.60159669, 8.42888504,\n",
       "       8.47095602, 5.3756813 , 6.02107822, 5.72868826, 9.62624184,\n",
       "       7.26047859, 6.91151447, 8.631856  , 8.60577865, 9.4313561 ,\n",
       "       8.22690335, 4.18140282, 4.2490931 , 8.65740005, 8.91033401,\n",
       "       7.55355746, 7.30908801, 6.77321523, 6.23404018, 7.37512353,\n",
       "       7.45327024, 7.15696924, 4.33946585, 7.58678913, 6.91192411,\n",
       "       5.60321278, 7.79084203, 7.51215597, 8.78275544, 4.75098361,\n",
       "       7.60921414, 4.99259397, 9.10785412, 7.5416801 , 4.36731696,\n",
       "       5.74687463, 5.05632381, 9.76732762, 8.67902324, 9.55543018,\n",
       "       8.92407847, 6.50188876, 4.64985132, 8.88856381, 8.30960234,\n",
       "       6.13168792, 4.04509744, 5.66715894, 9.98592715, 6.5603931 ,\n",
       "       8.62803225, 5.02574325, 8.95551027, 4.86066468, 4.28823456,\n",
       "       8.1135856 , 5.74555268, 6.72393648, 9.81206375, 6.00872678,\n",
       "       6.33076566, 8.25091136, 5.61045755, 4.02484528, 4.55164349,\n",
       "       8.17872973, 7.55987087, 4.64509698, 7.91665391, 4.8998369 ,\n",
       "       6.31435464, 9.51690406, 4.83121965, 7.31844921, 7.8620368 ,\n",
       "       4.4743839 , 7.80506313, 8.81691658, 5.70613094, 8.07848227,\n",
       "       9.11448019, 4.69178334, 8.64886072, 6.12873481, 4.27744758,\n",
       "       5.45807257, 9.98831669, 5.74562323, 7.15370716, 4.97716468,\n",
       "       8.39225704, 8.13517249, 6.04343302, 7.76416674, 8.41493942,\n",
       "       5.05509533, 7.00104876, 4.27460187, 8.96073182, 8.90627624,\n",
       "       9.44709124, 8.24753893, 5.81043831, 5.9169088 , 6.86876031,\n",
       "       7.17945723, 7.04916808, 4.18626228, 8.15416483, 4.00465001,\n",
       "       6.17323143, 8.94573254, 5.58815087, 9.44334412, 5.93501971,\n",
       "       5.89408264, 8.10442625, 9.94774305, 7.69321964, 9.17908552,\n",
       "       5.43912393, 9.1243577 , 6.18369586, 9.21837724, 9.61228453,\n",
       "       7.45736304, 6.46115764, 9.36153974, 6.16145893, 4.15441632,\n",
       "       8.7333268 , 9.91235267, 8.17917032, 8.40853655, 5.38622816,\n",
       "       5.72421054, 9.76437947, 9.22738004, 9.78822566, 6.79615245,\n",
       "       5.30104564, 4.41162783, 9.63941811, 4.60613435, 8.93062314,\n",
       "       5.5305422 , 9.22873181, 7.00752211, 9.69960271, 7.20371622,\n",
       "       7.42910931, 4.5114985 , 8.49885306, 5.16331534, 4.33344098,\n",
       "       6.17265823, 7.960409  , 7.72223582, 8.7216569 , 7.66774243,\n",
       "       8.47147454, 7.75569158, 7.22438615, 5.88722539, 8.06117756,\n",
       "       8.25103313, 4.00450758, 5.58424929, 6.5064991 , 9.91028543,\n",
       "       6.74477877, 5.9457131 , 6.28687352, 8.22250439, 7.06421048,\n",
       "       7.80421146, 5.42756297, 6.45974014, 4.60927434, 4.15315154,\n",
       "       9.15040533, 8.7873424 , 9.05468134, 4.65445986, 7.15154242,\n",
       "       9.90408418, 7.94318197, 5.08724969, 8.17908942, 7.06517525,\n",
       "       9.82197671, 7.08397212, 6.31745924, 8.52654487, 7.36007364,\n",
       "       9.4056495 , 9.68694149, 7.75101878, 7.67032088, 8.93672657,\n",
       "       7.83102739, 8.0611295 , 7.39570828, 9.26582792, 4.64667308,\n",
       "       6.80301862, 7.67359755, 7.09104673, 5.09258092, 9.67727769,\n",
       "       9.06369723, 8.49057293, 8.49184016, 9.15485632, 6.60064539,\n",
       "       9.32436485, 7.73449584, 7.05678346, 8.28471466, 7.44761955,\n",
       "       6.33705557, 6.15839774, 6.59427046, 7.62611897, 7.73866123,\n",
       "       7.10256164, 5.65282493, 8.76440173, 8.37473378, 7.3545229 ,\n",
       "       4.50624667, 4.76211013, 8.13554424, 8.36486108, 9.08500569,\n",
       "       4.30960328, 4.57016522, 8.63197987, 7.48292121, 9.21623756,\n",
       "       7.56875548, 5.30424139, 5.98597697, 8.52683425, 8.1831949 ,\n",
       "       5.98015462, 6.60758359, 7.78447564, 6.32248375, 9.55311724,\n",
       "       4.87523355, 7.05108566, 7.9472244 , 4.3868605 , 7.99228769,\n",
       "       6.57073458, 7.57496163, 6.23339743, 7.44119788, 4.8068543 ,\n",
       "       9.69458178, 5.57047053, 7.98090553, 9.89436052, 8.07011957,\n",
       "       4.26621718, 7.44545394, 9.98112115, 4.66422734, 6.43041485,\n",
       "       5.57678283, 6.28646292, 8.04812622, 9.70736509, 6.14216398,\n",
       "       6.26235793, 9.62198369, 7.2277801 , 9.83295071, 9.87690666,\n",
       "       6.52117038, 7.96567261, 9.18545725, 5.71587845, 6.04721232,\n",
       "       6.61536355, 8.28939808, 7.72321054, 7.98083771, 5.57492225,\n",
       "       6.56079936, 8.24819353, 7.67772901, 4.09888237, 4.40669814,\n",
       "       9.65808276, 7.87712266, 5.32151146, 5.08928945, 5.82671897,\n",
       "       8.40741908, 8.70196668, 9.84732885, 6.39740169, 6.988274  ,\n",
       "       6.35025839, 4.41319348, 7.82677232, 4.63723084, 9.71610387,\n",
       "       4.69141844, 8.79660801, 6.7271672 , 5.65069767, 6.88935806,\n",
       "       4.29265895, 6.58443688, 8.67611545, 5.27889638, 4.31590478,\n",
       "       4.83132017, 6.08455108, 7.25089056, 9.63239828, 8.51908142,\n",
       "       6.12047843, 9.28142945, 8.0411411 , 7.31267146, 9.6234618 ,\n",
       "       8.68994506, 9.00738926, 8.25340458, 8.48770549, 6.81192002,\n",
       "       9.94703564, 9.38810842, 7.00818697, 8.64481828, 6.27704317,\n",
       "       7.33493516, 5.60051551, 9.11747232, 6.7268607 , 5.59276799,\n",
       "       8.194863  , 5.59599093, 8.04324162, 5.95098459, 5.78338609,\n",
       "       4.39903111, 9.59996324, 5.0109582 , 9.62709403, 4.33376725,\n",
       "       6.43954526, 9.02837127, 8.38363643, 9.53162676, 4.92519312,\n",
       "       5.05941094, 4.56365407, 4.86968422, 5.11150803, 8.89623636,\n",
       "       4.86235218, 4.88191209, 4.04125274, 4.8817969 , 9.45074977,\n",
       "       8.83645822, 8.94358903, 9.61935431, 5.66665658, 4.63325333,\n",
       "       7.58427788, 5.11858358, 6.15961716, 6.90618423, 7.31499208,\n",
       "       7.99992678, 7.80419385, 6.96032959, 9.24481558, 4.45458655,\n",
       "       5.73462814, 5.83829927, 7.6280442 , 4.0832122 , 7.36390252,\n",
       "       7.6935954 , 7.54490028, 7.59851335, 9.62375449, 5.94575899,\n",
       "       4.1883946 , 8.65934167, 6.01327834, 6.90662291, 9.2623736 ,\n",
       "       9.86973038, 7.58303838, 4.85699301, 8.93996182, 5.74527231,\n",
       "       6.8925933 , 6.90957571, 9.08507773, 8.51469617, 6.48852582,\n",
       "       9.4496931 , 8.83977351, 9.39064872, 4.37371577, 7.76238574,\n",
       "       7.53634431, 5.5701182 , 4.93220117, 5.5586248 , 6.998394  ,\n",
       "       8.9128117 , 6.51022078, 8.51470313, 6.1107686 , 6.97618555,\n",
       "       7.88678857, 7.3548934 , 5.22759719, 6.69828704, 8.91079552,\n",
       "       7.28448124, 9.50188998, 5.0409909 , 5.99186606, 8.60073154,\n",
       "       7.88332976, 6.31168384, 7.5751684 , 4.1725608 , 9.87393301,\n",
       "       8.41837758, 9.96075211, 7.88242896, 6.11360633, 8.57707029,\n",
       "       9.42737854, 9.61942904, 8.03813777, 6.71362987, 4.88468371,\n",
       "       6.62493555, 5.9565899 , 5.81505255, 7.42461395, 6.10530216,\n",
       "       5.03565261, 5.16927638, 8.69767931, 5.89299381, 5.0343852 ,\n",
       "       5.97979253, 8.34314572, 5.84405216, 9.88099664, 6.59480316,\n",
       "       8.28267539, 6.13886813, 6.74837313, 4.48862605, 9.87775661,\n",
       "       6.81002815, 9.28997972, 5.85816139, 9.68222365, 8.45476667,\n",
       "       4.34903388, 4.46807292, 6.01663688, 5.91653653, 9.61725709,\n",
       "       8.45359095, 9.12950571, 5.11204362, 4.86819897, 9.22438617,\n",
       "       9.57140404, 8.61848262, 5.97640718, 8.37772854, 6.22071776,\n",
       "       6.90782248, 5.81023782, 9.85020629, 6.48263482, 5.40013988,\n",
       "       7.04217205, 6.25571174, 6.53473304, 7.03966916, 9.10284363,\n",
       "       8.04524387, 8.06132941, 6.33066662, 9.59141768, 7.41662895])"
      ]
     },
     "execution_count": 75,
     "metadata": {},
     "output_type": "execute_result"
    }
   ],
   "source": [
    "# Generate 100 samples\n",
    "sample = my_uniform.rvs(1000)\n",
    "sample"
   ]
  },
  {
   "cell_type": "markdown",
   "metadata": {
    "lang": "en"
   },
   "source": [
    "What will the mean be?"
   ]
  },
  {
   "cell_type": "code",
   "execution_count": 76,
   "metadata": {
    "lang": "en"
   },
   "outputs": [
    {
     "data": {
      "text/plain": [
       "7.09969335187179"
      ]
     },
     "execution_count": 76,
     "metadata": {},
     "output_type": "execute_result"
    }
   ],
   "source": [
    "sample.mean() # Here I apply the mean to an experiment, mean of np (rvs returns an array)"
   ]
  },
  {
   "cell_type": "code",
   "execution_count": 77,
   "metadata": {
    "lang": "en"
   },
   "outputs": [
    {
     "data": {
      "text/plain": [
       "7.0"
      ]
     },
     "execution_count": 77,
     "metadata": {},
     "output_type": "execute_result"
    }
   ],
   "source": [
    "my_uniform.mean() # Theoretical mean / uniform object method"
   ]
  },
  {
   "cell_type": "code",
   "execution_count": 78,
   "metadata": {},
   "outputs": [
    {
     "data": {
      "image/png": "[encoded data removed]",
      "text/plain": [
       "<Figure size 1152x648 with 1 Axes>"
      ]
     },
     "metadata": {},
     "output_type": "display_data"
    }
   ],
   "source": [
    "sns.histplot(sample);"
   ]
  },
  {
   "cell_type": "markdown",
   "metadata": {
    "lang": "en"
   },
   "source": [
    "`.cdf` Come on, cdf is easy!\n",
    "`.cdf(x)` Remember, it gives us the probability that a number is $X<x$"
   ]
  },
  {
   "cell_type": "code",
   "execution_count": 80,
   "metadata": {
    "lang": "en"
   },
   "outputs": [
    {
     "data": {
      "text/plain": [
       "1.0"
      ]
     },
     "execution_count": 80,
     "metadata": {},
     "output_type": "execute_result"
    }
   ],
   "source": [
    "# Probability of rolling a number less than 11\n",
    "my_uniform.cdf(11)"
   ]
  },
  {
   "cell_type": "code",
   "execution_count": 81,
   "metadata": {
    "lang": "en"
   },
   "outputs": [],
   "source": [
    "# Less than 10"
   ]
  },
  {
   "cell_type": "code",
   "execution_count": 82,
   "metadata": {},
   "outputs": [
    {
     "data": {
      "text/plain": [
       "1.0"
      ]
     },
     "execution_count": 82,
     "metadata": {},
     "output_type": "execute_result"
    }
   ],
   "source": [
    "my_uniform.cdf(10)"
   ]
  },
  {
   "cell_type": "code",
   "execution_count": 83,
   "metadata": {},
   "outputs": [
    {
     "data": {
      "text/plain": [
       "0.9833333333333334"
      ]
     },
     "execution_count": 83,
     "metadata": {},
     "output_type": "execute_result"
    }
   ],
   "source": [
    "my_uniform.cdf(9.9)"
   ]
  },
  {
   "cell_type": "code",
   "execution_count": 84,
   "metadata": {},
   "outputs": [
    {
     "data": {
      "text/plain": [
       "0.0"
      ]
     },
     "execution_count": 84,
     "metadata": {},
     "output_type": "execute_result"
    }
   ],
   "source": [
    "my_uniform.cdf(4)"
   ]
  },
  {
   "cell_type": "code",
   "execution_count": 87,
   "metadata": {},
   "outputs": [
    {
     "data": {
      "text/plain": [
       "1.7320508075688772"
      ]
     },
     "execution_count": 87,
     "metadata": {},
     "output_type": "execute_result"
    }
   ],
   "source": [
    "my_uniform.std() #theoretical"
   ]
  },
  {
   "cell_type": "code",
   "execution_count": 88,
   "metadata": {},
   "outputs": [
    {
     "data": {
      "text/plain": [
       "1.7043650124576823"
      ]
     },
     "execution_count": 88,
     "metadata": {},
     "output_type": "execute_result"
    }
   ],
   "source": [
    "sample.std() #sample"
   ]
  },
  {
   "cell_type": "markdown",
   "metadata": {
    "lang": "en"
   },
   "source": [
    "### Plot the CDF\n",
    "X --> I choose a series of points\n",
    "\n",
    "Y --> I get the cdf of those points taking into account my uniform distribution that we remember that we have initialized between 4 and 10"
   ]
  },
  {
   "cell_type": "code",
   "execution_count": 133,
   "metadata": {},
   "outputs": [
    {
     "data": {
      "image/png": "[encoded data removed]",
      "text/plain": [
       "<Figure size 1152x648 with 1 Axes>"
      ]
     },
     "metadata": {},
     "output_type": "display_data"
    }
   ],
   "source": [
    "x = np.linspace(0, 15, 1000)\n",
    "y = my_uniform.cdf(x)\n",
    "plt.plot(x,y);"
   ]
  },
  {
   "cell_type": "markdown",
   "metadata": {
    "lang": "en"
   },
   "source": [
    "- One thing that we observe in this simple function but that is common to all of them is that the distribution is always increasing.\n",
    "- Takes the value 1 on the right (tends to 1)\n",
    "- The CDF takes the value 0 on the left (and accumulates probability up to 1)"
   ]
  },
  {
   "cell_type": "code",
   "execution_count": 89,
   "metadata": {},
   "outputs": [
    {
     "data": {
      "text/plain": [
       "7.0"
      ]
     },
     "execution_count": 89,
     "metadata": {},
     "output_type": "execute_result"
    }
   ],
   "source": [
    "my_uniform.mean()"
   ]
  },
  {
   "cell_type": "code",
   "execution_count": 90,
   "metadata": {},
   "outputs": [
    {
     "data": {
      "text/plain": [
       "7.09969335187179"
      ]
     },
     "execution_count": 90,
     "metadata": {},
     "output_type": "execute_result"
    }
   ],
   "source": [
    "sample.mean()"
   ]
  },
  {
   "cell_type": "markdown",
   "metadata": {
    "lang": "en"
   },
   "source": [
    "## Exponential distribution"
   ]
  },
  {
   "cell_type": "markdown",
   "metadata": {
    "lang": "en"
   },
   "source": [
    "Model the time it takes for a random event to occur:\n",
    " * Time for the next person to appear in a queue\n",
    " * Time for the next call to occur in the call center\n",
    " * Time for the next radioactive particle to decay\n",
    " * Time for the next DNA element to mutate"
   ]
  },
  {
   "cell_type": "markdown",
   "metadata": {
    "lang": "en"
   },
   "source": [
    "\"The average time of appearance of a new patient is 5 minutes\"\n",
    "\n",
    "\"The time of appearance of a new patient follows an exponential distribution with mean 5\""
   ]
  },
  {
   "cell_type": "markdown",
   "metadata": {
    "lang": "en"
   },
   "source": [
    "### Not to be confused with Poisson... Be careful!\n",
    "The Poisson gave us the number of occurrences in a period of time. I fix the time and the events happen once, or twice, or 7.....\n",
    "The exponential isn't like that though...it's more like I close my eyes, then open them and count the time until the next occurrence happens.\n",
    "The Poisson is a distribution of DISCRETE variables and the exponential is CONTINUOUS."
   ]
  },
  {
   "cell_type": "markdown",
   "metadata": {
    "lang": "en"
   },
   "source": [
    "The exponential is the reciprocal distribution of the Poisson distribution"
   ]
  },
  {
   "cell_type": "markdown",
   "metadata": {
    "lang": "en"
   },
   "source": [
    "⚠️ Curiosity: he exponential distribution has the characteristic of being without memory... I'll let you investigate it on google...."
   ]
  },
  {
   "cell_type": "code",
   "execution_count": 149,
   "metadata": {},
   "outputs": [],
   "source": [
    "from scipy.stats import expon"
   ]
  },
  {
   "cell_type": "markdown",
   "metadata": {
    "lang": "en"
   },
   "source": [
    "The exponential, like the Poisson, is a 1-parameter distribution function.\n",
    "Monoparametric: the time it takes for people to arrive"
   ]
  },
  {
   "cell_type": "markdown",
   "metadata": {},
   "source": [
    "$X \\sim Exp(\\mu)$"
   ]
  },
  {
   "cell_type": "markdown",
   "metadata": {
    "lang": "en"
   },
   "source": [
    "This parameter is the mean, called `mu`, $\\mu$\n",
    "The `scipy` library calls it `scale`"
   ]
  },
  {
   "cell_type": "markdown",
   "metadata": {
    "lang": "en"
   },
   "source": [
    "**EXAMPLE**\n",
    "Let's model the customers who arrive every 30 seconds on average at the supermarket queue"
   ]
  },
  {
   "cell_type": "code",
   "execution_count": 150,
   "metadata": {},
   "outputs": [],
   "source": [
    "my_e = expon(scale=30)"
   ]
  },
  {
   "cell_type": "code",
   "execution_count": 151,
   "metadata": {},
   "outputs": [
    {
     "data": {
      "text/plain": [
       "30.0"
      ]
     },
     "execution_count": 151,
     "metadata": {},
     "output_type": "execute_result"
    }
   ],
   "source": [
    "my_e.mean()"
   ]
  },
  {
   "cell_type": "markdown",
   "metadata": {
    "lang": "en"
   },
   "source": [
    "Let's generate a random sample `.rvs` ... what will we get?"
   ]
  },
  {
   "cell_type": "code",
   "execution_count": 158,
   "metadata": {
    "lang": "en"
   },
   "outputs": [],
   "source": [
    "sample = my_e.rvs(1000) #in here I have SECONDS"
   ]
  },
  {
   "cell_type": "code",
   "execution_count": 159,
   "metadata": {},
   "outputs": [
    {
     "data": {
      "text/plain": [
       "array([ 36.,  16.,  36.,  20.,  17.,  72.,  56.,  49.,  36.,  67.,   4.,\n",
       "         2.,  25.,  26.,  24.,  91.,  36.,  39.,   9., 110.,   8.,  27.,\n",
       "        10.,  57.,   4.,  66.,  18.,   5.,  42.,  91.,   0.,  12.,  23.,\n",
       "         8.,   1.,  25.,  17.,   4.,   8.,  17.,   9.,  11.,  28.,   9.,\n",
       "         2.,  13.,  12.,   2.,  18.,  76.,  95.,  16.,   1.,   9.,  11.,\n",
       "        54.,  67.,  50.,  34.,   9.,  14.,  22.,  23.,  20.,  84.,  10.,\n",
       "         1.,  51.,  37.,  78.,   9.,   6.,  38.,   2.,   4., 100.,   5.,\n",
       "        27.,  65.,   7.,  37.,   6.,  31.,  36.,  12.,   2.,   8.,  15.,\n",
       "        29.,   3.,  66.,  54., 146.,  14.,   5.,  67.,  17.,  31.,  69.,\n",
       "        62.,  96.,  10.,  23.,   4.,  14.,  45.,   5.,  68.,  24.,  52.,\n",
       "         6.,  22.,  26.,   6.,  21.,  22.,   9.,   0.,  36.,  23.,  26.,\n",
       "        18.,  10.,  42.,  32.,  20.,   1.,   2., 112.,  20.,  12.,  58.,\n",
       "         8.,   4.,  26.,   3.,   0.,   9.,  17.,  23.,  75.,  45.,   7.,\n",
       "        33.,  23.,  48.,  16.,  13.,  46.,  13.,  38.,  47.,   5.,  35.,\n",
       "        45.,   2.,  51.,  51.,   1.,  57.,  40.,   0.,  53.,   5.,  27.,\n",
       "        28.,  43.,  14.,  36.,  47.,  10.,   3.,  32.,  30.,   1.,   5.,\n",
       "         0.,  46.,  20., 117.,   7., 186.,   5.,  95.,  18.,  35., 109.,\n",
       "        14.,  81.,  25.,   4.,  12.,  39.,  25.,   4.,   5.,  50.,   2.,\n",
       "         3.,  28.,  13.,  18.,   3.,   3.,   1.,  10.,  11.,  29.,  67.,\n",
       "         4.,  41.,  41.,  15.,  85.,   5.,  27.,  42.,  14.,  56.,  42.,\n",
       "        38.,  81.,  13.,  33.,   7.,   4.,  43.,  18.,  28.,   7.,  11.,\n",
       "        98.,   7.,  25.,  13.,  48.,   2.,   2.,  13.,   4.,  41.,  15.,\n",
       "        19.,  34.,   1.,  94.,  48.,  24.,  39.,  71.,   1.,  46.,   5.,\n",
       "       109.,  18.,  26.,   5.,  29.,  23.,  25.,  13.,  13.,  27.,  27.,\n",
       "        37.,   7.,  17.,  87.,  35.,   6.,  19.,  31.,  21.,  22.,  33.,\n",
       "        11.,  18.,   1.,  69.,  18., 105.,  18.,  69.,  48.,  14.,   7.,\n",
       "        87.,  44.,  89.,  13.,  16.,  11.,  27.,   4.,  25.,  43., 112.,\n",
       "        19.,  38.,  49.,  32.,  39., 145.,  21.,   2.,  20.,  42.,   2.,\n",
       "        10.,  39.,  90.,  16.,  62.,   9.,  89.,  19.,  21.,   4.,   0.,\n",
       "        51.,  37.,   3.,   5.,  37.,  27.,  65.,   7., 150.,  27.,  13.,\n",
       "        69.,   9., 123.,   4.,  51.,  14.,   9.,  16.,   1.,   4.,   5.,\n",
       "       133.,  57.,  88.,  40.,  48.,   2., 212.,   8.,  48.,   7.,   4.,\n",
       "        33.,  27.,  16.,  29.,  17.,  20.,  11.,  67.,  14.,  19.,   7.,\n",
       "        16.,  36.,  30.,   2.,  45.,   4.,  15.,  17.,  31.,  37.,  26.,\n",
       "        34.,   7.,  78., 153.,  53.,  30.,  30.,  27.,   8.,   1.,  53.,\n",
       "        20.,  18.,  48.,   4.,  24.,   0.,  26.,   5., 138.,  23.,  18.,\n",
       "        29.,   4.,   0.,   2.,  54.,  26., 140.,   9.,  55.,  62.,  93.,\n",
       "         7.,  29.,   6.,  12.,   7.,   6.,   3.,   5.,  47.,  14.,  31.,\n",
       "         1., 135.,   1.,  32.,  22.,   8.,  35.,   7.,  43.,  88.,   0.,\n",
       "        28., 114.,   3.,  33.,  34.,  18.,  30.,  73.,   7.,   5.,  22.,\n",
       "         4.,   4.,  13.,  26.,  40.,  42.,  39.,  31.,  30.,  33.,  16.,\n",
       "       109.,   5.,   2.,  46.,  29.,   8.,  62.,  14.,   9.,  40.,  28.,\n",
       "        46.,  12.,   2.,  40.,  18.,  60.,  36.,  38.,  60., 106.,  16.,\n",
       "        24.,  19.,  22.,  39.,  16.,  18.,  66.,   6.,  78.,   1.,  12.,\n",
       "        27.,  12.,  32.,   2.,  91.,  90.,  55.,  14.,  41.,   0.,   7.,\n",
       "        21.,  54.,  42.,   5.,  23.,  11.,  36.,  55.,  13.,  39.,  62.,\n",
       "         5.,   1.,  47.,  83.,  48.,  29.,  25.,  53.,   9.,  36.,  35.,\n",
       "        17.,   0.,   9., 130.,   7.,   4.,  16.,  42.,  34.,  18.,  18.,\n",
       "        36.,   5.,   1., 148.,   0.,   8.,  13.,  23.,   8.,  74.,   3.,\n",
       "       109.,   8.,  70.,   0.,  91.,  24.,  26., 104.,   7.,  22.,  11.,\n",
       "        31.,   5.,  26.,   7.,  47.,  20.,  40.,  34.,   5.,  16.,  11.,\n",
       "        22.,  61.,   1.,   4.,  26.,  70.,  30.,  27.,  20.,  79.,  20.,\n",
       "        32.,  31.,  13.,  40.,  13.,  45.,   8.,  97.,  14.,  42.,  50.,\n",
       "        11.,  58.,  29.,  76.,   9.,   2.,  38.,   6.,  11.,  18.,   1.,\n",
       "         7.,  22.,   1.,  35.,   1.,   3.,  38.,  18.,  61.,  71.,  21.,\n",
       "         5.,   1.,  18.,  12.,   4.,  12.,  43.,  11.,   4.,  17.,  30.,\n",
       "         3.,  51.,  13.,   3.,  27.,  38.,  10.,  29.,   5.,   5.,  14.,\n",
       "        15.,   4.,   0.,  32.,  13.,   4.,  14.,  31.,  26.,   5.,  26.,\n",
       "        71.,  36.,   6.,  11., 138.,  29.,  18.,  13.,  11.,  76.,  14.,\n",
       "         2.,  15.,   6.,   4.,  57.,  18.,  21.,  23.,  26.,  36.,   9.,\n",
       "        22.,  39.,  19.,  26.,  21.,  17.,  11.,  53.,  26.,  30.,  45.,\n",
       "         0.,  19.,  29.,  10.,   3.,   7.,  40.,   1.,  14.,  28.,  17.,\n",
       "        82.,   6.,   8.,  31.,   5.,   2.,  58.,  26.,  32.,  25.,  12.,\n",
       "         5.,  18.,   0.,   2., 135.,   5.,  88., 111.,  10.,   2.,   7.,\n",
       "         9.,  54.,   7.,   2.,   4.,  13.,  24.,  60.,  14.,  23.,   5.,\n",
       "        90.,  24.,  53.,  28.,  15.,  37.,  24.,  51.,  28.,  33.,  18.,\n",
       "        10.,  25.,  22.,  20.,   4.,   4.,  34.,  32.,  24.,   7.,   5.,\n",
       "        41.,  17.,   2.,   6.,  29.,   2.,  18.,  36.,  24.,  25.,  20.,\n",
       "        61.,  10., 115.,   3.,  15.,   6.,  76.,  18.,  13.,   0.,  10.,\n",
       "        45., 105.,  12., 113.,  19.,  11.,  21.,  51.,   3.,   5.,   4.,\n",
       "        24.,  21.,   5.,  45.,  29.,   3.,  17.,  42.,  12.,  12.,  53.,\n",
       "        18.,  16.,  55.,  77.,  24.,  29.,  16.,  22.,   0.,  12.,   9.,\n",
       "         2.,  21.,  20.,  11.,  27.,  56.,  19.,  40.,  48.,  32.,  50.,\n",
       "        63.,  19.,  31.,  21.,  10.,  32.,  13.,   0.,  43., 153.,  14.,\n",
       "         6.,  11.,  15.,  82.,   7.,  93.,  49.,  10.,   2.,   5.,  20.,\n",
       "        17.,  28.,  87., 103.,   5.,  12.,  41.,   7.,   2.,  46.,  29.,\n",
       "         2.,  29.,  15.,  15.,   6.,  11.,  18.,   6.,  21.,  24.,  50.,\n",
       "        21.,   8.,  11.,  28.,  18.,  13.,  13.,  91.,  38.,  32.,  25.,\n",
       "        61.,  50.,  54.,   6.,  79.,   9.,  69.,  12.,   5.,   8.,  21.,\n",
       "         7.,  67.,  52., 111.,  13.,  60.,   6.,   0.,  17.,   7.,  70.,\n",
       "        11.,  41.,  99.,  92.,  69.,  77.,   4.,  48.,  13.,  35.,  51.,\n",
       "       140.,   1.,  45.,  28.,   8.,  75.,  28.,  73.,  13.,  14.,   0.,\n",
       "        24.,  48.,   6.,  16.,  46.,  12.,  29.,  46.,  50.,  12.,  49.,\n",
       "        93.,  17.,  49.,  32.,  40.,  55.,  19.,  43.,   0.,  16.,  11.,\n",
       "        10.,   7.,   3.,  10., 118.,  47.,  14.,  10.,  14.,  45.,  46.,\n",
       "         9.,   4.,   2.,   9.,  44.,  21.,  43.,   5.,   3.,   4.,   2.,\n",
       "        11.,  73.,   8.,  31.,  66.,  10.,   2.,   1.,  47.,  12.,   8.,\n",
       "        20., 124.,   1.,  13.,  27.,  27.,  19.,  29.,  32.,  44.,   1.,\n",
       "        24.,  20.,   4.,  27.,  49.,   6.,  31.,  26.,  22.,  22.,  13.,\n",
       "        20.,  12., 118.,   0.,  10.,  22.,  13.,   8.,   8.,   3.,  26.,\n",
       "         0.,  17.,  62.,   5.,  48.,  33.,  37.,  26.,   7.,  33.])"
      ]
     },
     "execution_count": 159,
     "metadata": {},
     "output_type": "execute_result"
    }
   ],
   "source": [
    "sample.round()"
   ]
  },
  {
   "cell_type": "code",
   "execution_count": 160,
   "metadata": {},
   "outputs": [
    {
     "data": {
      "text/plain": [
       "211.92850125134322"
      ]
     },
     "execution_count": 160,
     "metadata": {},
     "output_type": "execute_result"
    }
   ],
   "source": [
    "sample.max()"
   ]
  },
  {
   "cell_type": "code",
   "execution_count": 161,
   "metadata": {},
   "outputs": [
    {
     "data": {
      "text/plain": [
       "<matplotlib.legend.Legend at 0x7f9bf8f66820>"
      ]
     },
     "execution_count": 161,
     "metadata": {},
     "output_type": "execute_result"
    },
    {
     "data": {
      "image/png": "[encoded data removed]",
      "text/plain": [
       "<Figure size 1152x648 with 1 Axes>"
      ]
     },
     "metadata": {},
     "output_type": "display_data"
    }
   ],
   "source": [
    "fig = sns.histplot(sample)\n",
    "fig.axvline(x=sample.mean(), color=\"red\", label=\"mean\")\n",
    "fig.legend()"
   ]
  },
  {
   "cell_type": "code",
   "execution_count": 162,
   "metadata": {},
   "outputs": [],
   "source": [
    "sample = my_e.rvs(size=10000)"
   ]
  },
  {
   "cell_type": "code",
   "execution_count": 164,
   "metadata": {},
   "outputs": [
    {
     "data": {
      "text/plain": [
       "<AxesSubplot:ylabel='Count'>"
      ]
     },
     "execution_count": 164,
     "metadata": {},
     "output_type": "execute_result"
    },
    {
     "data": {
      "image/png": "[encoded data removed]",
      "text/plain": [
       "<Figure size 1152x648 with 1 Axes>"
      ]
     },
     "metadata": {},
     "output_type": "display_data"
    }
   ],
   "source": [
    "sns.histplot(sample) # How many times I will be waiting that long (x axis) to \n",
    "# have a customer show up"
   ]
  },
  {
   "cell_type": "markdown",
   "metadata": {
    "lang": "en"
   },
   "source": [
    "What did the CDF do? returns the probability that the next one takes LESS than 30 seconds"
   ]
  },
  {
   "cell_type": "code",
   "execution_count": 169,
   "metadata": {},
   "outputs": [
    {
     "data": {
      "text/plain": [
       "0.28346868942621073"
      ]
     },
     "execution_count": 169,
     "metadata": {},
     "output_type": "execute_result"
    }
   ],
   "source": [
    "my_e.cdf(10)"
   ]
  },
  {
   "cell_type": "markdown",
   "metadata": {},
   "source": [
    "### Probability Distribution Function (PDF)"
   ]
  },
  {
   "cell_type": "markdown",
   "metadata": {
    "lang": "en"
   },
   "source": [
    "PDF is the probability density function, the analog of the PMF in discrete ones."
   ]
  },
  {
   "cell_type": "code",
   "execution_count": 148,
   "metadata": {},
   "outputs": [
    {
     "data": {
      "image/png": "[encoded data removed]",
      "text/plain": [
       "<Figure size 1152x648 with 1 Axes>"
      ]
     },
     "metadata": {},
     "output_type": "display_data"
    }
   ],
   "source": [
    "x = np.linspace(0,100,100)\n",
    "y = my_e.pdf(x)\n",
    "plt.plot(x,y);"
   ]
  },
  {
   "cell_type": "markdown",
   "metadata": {
    "lang": "en"
   },
   "source": [
    "The area under the curve is the probability of times in the given interval, so...\n",
    "\n",
    "The high zones are more probable and the low zones less probable, the pdf is not really giving me the probability of each point, what it does is the integral of the function to see how much area there is under the curve.\n",
    "\n",
    "Entire zone is 1 (100%)"
   ]
  },
  {
   "cell_type": "markdown",
   "metadata": {
    "lang": "en"
   },
   "source": [
    "`.cdf` is the cumulative distribution function\n",
    "\n",
    "`.cdf(x)` tells us the probability of $X<x$"
   ]
  },
  {
   "cell_type": "code",
   "execution_count": 103,
   "metadata": {},
   "outputs": [
    {
     "data": {
      "text/plain": [
       "0.28346868942621073"
      ]
     },
     "execution_count": 103,
     "metadata": {},
     "output_type": "execute_result"
    }
   ],
   "source": [
    "my_e.cdf(10)"
   ]
  },
  {
   "cell_type": "code",
   "execution_count": 104,
   "metadata": {},
   "outputs": [
    {
     "data": {
      "text/plain": [
       "0.6321205588285577"
      ]
     },
     "execution_count": 104,
     "metadata": {},
     "output_type": "execute_result"
    }
   ],
   "source": [
    "my_e.cdf(30)"
   ]
  },
  {
   "cell_type": "code",
   "execution_count": 105,
   "metadata": {},
   "outputs": [
    {
     "data": {
      "text/plain": [
       "0.950212931632136"
      ]
     },
     "execution_count": 105,
     "metadata": {},
     "output_type": "execute_result"
    }
   ],
   "source": [
    "my_e.cdf(90)"
   ]
  },
  {
   "cell_type": "markdown",
   "metadata": {
    "lang": "en"
   },
   "source": [
    "The CDF of an exponential distribution:\n",
    "- Start at 0\n",
    "- Ends in 1\n",
    "- It accumulates less and less\n",
    "- It is the integral of the pdf"
   ]
  },
  {
   "cell_type": "code",
   "execution_count": 106,
   "metadata": {},
   "outputs": [
    {
     "data": {
      "image/png": "[encoded data removed]",
      "text/plain": [
       "<Figure size 1152x648 with 1 Axes>"
      ]
     },
     "metadata": {},
     "output_type": "display_data"
    }
   ],
   "source": [
    "x = np.linspace(-5, 100, 100)\n",
    "y = my_e.cdf(x)\n",
    "plt.plot(x,y);"
   ]
  },
  {
   "cell_type": "markdown",
   "metadata": {
    "lang": "en"
   },
   "source": [
    "We recover examples from the beginning:\n",
    "- When will I receive the next call in the call center?\n",
    "\n",
    "I can't know, I know that calls take an average of 11 seconds, and I can more or less calculate the probability that it happens in less or more seconds..."
   ]
  },
  {
   "cell_type": "markdown",
   "metadata": {
    "lang": "en"
   },
   "source": [
    "It is the reciprocal probability to the Poisson... Let's say that if I say that if at the bus stop I have an exponential probability with a mean of 2 minutes, if I fix an hour of time, I could also say that then we have a Poisson with a mean of 30.\n",
    "Poisson measures discrete occurrences, the exponential counts the time until the next occurrence"
   ]
  },
  {
   "cell_type": "markdown",
   "metadata": {
    "lang": "en"
   },
   "source": [
    "## Normal distribution"
   ]
  },
  {
   "cell_type": "markdown",
   "metadata": {},
   "source": [
    "#### Intro"
   ]
  },
  {
   "cell_type": "markdown",
   "metadata": {
    "lang": "en"
   },
   "source": [
    "The normal distribution is the most important probability distribution in statistics, as it fits many natural and social phenomena:\n",
    " * the heights\n",
    " * blood pressure\n",
    " * IQ scores\n",
    "\n",
    "It is also known as the Gaussian distribution or the bell curve."
   ]
  },
  {
   "cell_type": "markdown",
   "metadata": {},
   "source": [
    "#### scipy's `norm`"
   ]
  },
  {
   "cell_type": "code",
   "execution_count": 170,
   "metadata": {},
   "outputs": [],
   "source": [
    "from scipy.stats import norm"
   ]
  },
  {
   "cell_type": "markdown",
   "metadata": {
    "lang": "en"
   },
   "source": [
    "The normal, is a 2-parameter distribution function\n",
    "$X \\sim N(\\mu, \\sigma)$\n",
    "\n",
    "These parameters are:\n",
    " * the mean, called $\\mu$\n",
    " * the standard deviation, $\\sigma$"
   ]
  },
  {
   "cell_type": "markdown",
   "metadata": {},
   "source": [
    "<img src=\"https://upload.wikimedia.org/wikipedia/commons/thumb/7/74/Normal_Distribution_PDF.svg/2560px-Normal_Distribution_PDF.svg.png\" width=700>"
   ]
  },
  {
   "cell_type": "markdown",
   "metadata": {
    "lang": "en"
   },
   "source": [
    "`scipy` calls them `loc` and `scale`"
   ]
  },
  {
   "cell_type": "markdown",
   "metadata": {
    "lang": "en"
   },
   "source": [
    "Let us model a country in which heights have:\n",
    " * an average of 170cm\n",
    " * a deviation of 10cm"
   ]
  },
  {
   "cell_type": "code",
   "execution_count": 171,
   "metadata": {},
   "outputs": [],
   "source": [
    "my_normal = norm(loc=170, scale=10)"
   ]
  },
  {
   "cell_type": "code",
   "execution_count": 172,
   "metadata": {},
   "outputs": [
    {
     "data": {
      "text/plain": [
       "170.0"
      ]
     },
     "execution_count": 172,
     "metadata": {},
     "output_type": "execute_result"
    }
   ],
   "source": [
    "# Theoretical mean\n",
    "my_normal.mean()"
   ]
  },
  {
   "cell_type": "code",
   "execution_count": 173,
   "metadata": {},
   "outputs": [
    {
     "data": {
      "text/plain": [
       "10.0"
      ]
     },
     "execution_count": 173,
     "metadata": {},
     "output_type": "execute_result"
    }
   ],
   "source": [
    "# std\n",
    "my_normal.std()"
   ]
  },
  {
   "cell_type": "markdown",
   "metadata": {
    "lang": "en"
   },
   "source": [
    "#### We sample with normal"
   ]
  },
  {
   "cell_type": "markdown",
   "metadata": {
    "lang": "en"
   },
   "source": [
    "`.rvs` generates a sample drawn from the distribution"
   ]
  },
  {
   "cell_type": "code",
   "execution_count": 194,
   "metadata": {},
   "outputs": [
    {
     "data": {
      "text/plain": [
       "array([170.64383685])"
      ]
     },
     "execution_count": 194,
     "metadata": {},
     "output_type": "execute_result"
    }
   ],
   "source": [
    "my_normal.rvs(size=1)"
   ]
  },
  {
   "cell_type": "code",
   "execution_count": 195,
   "metadata": {},
   "outputs": [
    {
     "data": {
      "text/plain": [
       "array([172.16151486, 160.14049741])"
      ]
     },
     "execution_count": 195,
     "metadata": {},
     "output_type": "execute_result"
    }
   ],
   "source": [
    "my_normal.rvs(size=2)"
   ]
  },
  {
   "cell_type": "code",
   "execution_count": 206,
   "metadata": {},
   "outputs": [],
   "source": [
    "# Let's see some\n",
    "sample = my_normal.rvs(size=100)"
   ]
  },
  {
   "cell_type": "code",
   "execution_count": 207,
   "metadata": {},
   "outputs": [
    {
     "data": {
      "text/plain": [
       "array([158.21219947, 168.31885127, 164.43604089, 164.50759923,\n",
       "       160.54808584, 166.75991025, 170.95764507, 163.58696119,\n",
       "       170.9047106 , 154.48825624, 173.80597447, 170.38802219,\n",
       "       161.89728361, 169.9780775 , 179.15319067, 166.46479248,\n",
       "       184.55383811, 176.87089849, 186.89422163, 172.08898466,\n",
       "       166.31271503, 157.86624678, 162.42071059, 171.55699828,\n",
       "       155.29077069, 171.63989177, 164.80482641, 174.73227284,\n",
       "       149.77508989, 180.16542881, 178.43780572, 181.08358139,\n",
       "       174.23899478, 163.05135654, 183.34948994, 158.72833681,\n",
       "       163.57943509, 166.36744311, 171.99859882, 167.84074603,\n",
       "       149.91882516, 160.09099593, 182.64573342, 152.9561119 ,\n",
       "       151.90064901, 167.73591743, 166.88310974, 163.52860293,\n",
       "       161.03275243, 185.77034159, 170.07861544, 168.78116406,\n",
       "       172.06986736, 153.55465882, 167.64327335, 183.47481819,\n",
       "       161.34810183, 183.85741977, 180.47699152, 166.42688088,\n",
       "       163.85678492, 193.90021218, 189.57320403, 168.48764818,\n",
       "       175.16042791, 165.66682685, 168.69448004, 163.77334592,\n",
       "       184.07138432, 173.4360833 , 174.84989971, 182.43269553,\n",
       "       177.75622062, 152.20004913, 169.20252644, 172.28619074,\n",
       "       166.02608594, 184.01483162, 163.94182979, 156.50276278,\n",
       "       176.04331506, 174.75674304, 170.95970652, 169.37562198,\n",
       "       169.98142404, 179.19835249, 171.51903572, 159.42800591,\n",
       "       161.98178697, 176.5327995 , 185.38946439, 182.89710914,\n",
       "       174.85745843, 143.93351194, 161.96018526, 164.36696833,\n",
       "       170.58745849, 153.42708706, 168.76988018, 150.96572202])"
      ]
     },
     "execution_count": 207,
     "metadata": {},
     "output_type": "execute_result"
    }
   ],
   "source": [
    "sample"
   ]
  },
  {
   "cell_type": "code",
   "execution_count": 208,
   "metadata": {},
   "outputs": [
    {
     "data": {
      "image/png": "[encoded data removed]",
      "text/plain": [
       "<Figure size 1152x648 with 1 Axes>"
      ]
     },
     "metadata": {},
     "output_type": "display_data"
    }
   ],
   "source": [
    "sns.histplot(sample);"
   ]
  },
  {
   "cell_type": "code",
   "execution_count": 209,
   "metadata": {},
   "outputs": [
    {
     "data": {
      "image/png": "[encoded data removed]",
      "text/plain": [
       "<Figure size 1152x648 with 1 Axes>"
      ]
     },
     "metadata": {},
     "output_type": "display_data"
    }
   ],
   "source": [
    "sample = my_normal.rvs(size=10000)\n",
    "sns.histplot(sample);"
   ]
  },
  {
   "cell_type": "markdown",
   "metadata": {
    "lang": "en"
   },
   "source": [
    "#### Probability density function"
   ]
  },
  {
   "cell_type": "markdown",
   "metadata": {
    "lang": "en"
   },
   "source": [
    "`.pdf` Probability density function.\n",
    "[Wikipedia](https://es.wikipedia.org/wiki/Funci%C3%B3n_de_densidad_de_probability) says that:\n",
    "In probability theory, the probability density function, density function, or simply density of a continuous random variable describes the relative probability according to which said random variable will take a certain value.\n",
    "The probability that the random variable falls in a specific region of the possibility space will be given by the integral of the density of this variable between one and another limit of said region.\n",
    "The probability density function (PDF or PDF in English) is positive throughout its domain and its integral over the entire space is of unit value."
   ]
  },
  {
   "cell_type": "code",
   "execution_count": 210,
   "metadata": {},
   "outputs": [],
   "source": [
    "my_normal_2 = norm(170, 15)"
   ]
  },
  {
   "cell_type": "code",
   "execution_count": 211,
   "metadata": {
    "scrolled": false
   },
   "outputs": [
    {
     "data": {
      "image/png": "[encoded data removed]",
      "text/plain": [
       "<Figure size 1152x648 with 1 Axes>"
      ]
     },
     "metadata": {},
     "output_type": "display_data"
    }
   ],
   "source": [
    "x = np.linspace(120, 220, 100)\n",
    "y = my_normal.pdf(x)\n",
    "y2 = my_normal_2.pdf(x)\n",
    "plt.plot(x, y)\n",
    "plt.plot(x, y2);"
   ]
  },
  {
   "cell_type": "markdown",
   "metadata": {
    "lang": "en"
   },
   "source": [
    "The PDF in a value of a continuous does not give me much information, it is not the probability that someone measures exactly 160 because we have already said that the probability of that particular value tends to 0. If I tell you what is the probability that someone measures between 160 and 180 you will have to draw two verticals and paint the area under the curve, yes, the information it gives us is that there is more probability of measuring 165 than 160 or in my distribution there are more people who measure 165 than 160"
   ]
  },
  {
   "cell_type": "code",
   "execution_count": 212,
   "metadata": {},
   "outputs": [
    {
     "data": {
      "text/plain": [
       "0.024197072451914336"
      ]
     },
     "execution_count": 212,
     "metadata": {},
     "output_type": "execute_result"
    }
   ],
   "source": [
    "my_normal.pdf(160)"
   ]
  },
  {
   "cell_type": "code",
   "execution_count": 215,
   "metadata": {},
   "outputs": [
    {
     "data": {
      "text/plain": [
       "0.03711538793594659"
      ]
     },
     "execution_count": 215,
     "metadata": {},
     "output_type": "execute_result"
    }
   ],
   "source": [
    "my_normal.pdf(166.2)"
   ]
  },
  {
   "cell_type": "markdown",
   "metadata": {
    "lang": "en"
   },
   "source": [
    "The total area under the curve is 1"
   ]
  },
  {
   "cell_type": "markdown",
   "metadata": {
    "lang": "en"
   },
   "source": [
    "As this distribution is **continuous**, we cannot ADD several .pdf values, but we have to INTEGRATE (area under the curve) up to 170"
   ]
  },
  {
   "cell_type": "markdown",
   "metadata": {},
   "source": [
    "$P(X < 170)$"
   ]
  },
  {
   "cell_type": "code",
   "execution_count": 216,
   "metadata": {},
   "outputs": [
    {
     "data": {
      "text/plain": [
       "0.5"
      ]
     },
     "execution_count": 216,
     "metadata": {},
     "output_type": "execute_result"
    }
   ],
   "source": [
    "my_normal.cdf(170)"
   ]
  },
  {
   "cell_type": "code",
   "execution_count": 217,
   "metadata": {},
   "outputs": [
    {
     "data": {
      "text/plain": [
       "0.0013498980316300933"
      ]
     },
     "execution_count": 217,
     "metadata": {},
     "output_type": "execute_result"
    }
   ],
   "source": [
    "my_normal.cdf(140)"
   ]
  },
  {
   "cell_type": "code",
   "execution_count": 124,
   "metadata": {},
   "outputs": [
    {
     "data": {
      "text/plain": [
       "0.15865525393145707"
      ]
     },
     "execution_count": 124,
     "metadata": {},
     "output_type": "execute_result"
    }
   ],
   "source": [
    "my_normal.cdf(160)"
   ]
  },
  {
   "cell_type": "code",
   "execution_count": 218,
   "metadata": {},
   "outputs": [
    {
     "data": {
      "image/png": "[encoded data removed]",
      "text/plain": [
       "<Figure size 1152x648 with 1 Axes>"
      ]
     },
     "metadata": {},
     "output_type": "display_data"
    }
   ],
   "source": [
    "x = np.linspace(120, 220, 100)\n",
    "y = my_normal.pdf(x)\n",
    "fill_x = np.linspace(140, 160, 100)\n",
    "plt.fill_between(fill_x, my_normal.pdf(fill_x),color='r')\n",
    "plt.text(153, 0.003, \"0.158\", size=15)\n",
    "plt.plot(x,y);"
   ]
  },
  {
   "cell_type": "code",
   "execution_count": 219,
   "metadata": {},
   "outputs": [
    {
     "data": {
      "text/plain": [
       "0.15865525393145707"
      ]
     },
     "execution_count": 219,
     "metadata": {},
     "output_type": "execute_result"
    }
   ],
   "source": [
    "my_normal.cdf(160)"
   ]
  },
  {
   "cell_type": "code",
   "execution_count": null,
   "metadata": {},
   "outputs": [],
   "source": [
    "# Q (Juliana): \n",
    "# If either Spearman or Pearson is better given normality / non-normality of the data\n",
    "# Pear -> nor"
   ]
  },
  {
   "cell_type": "markdown",
   "metadata": {
    "lang": "en"
   },
   "source": [
    "What is the proportion of people in the interval ($\\mu - \\sigma, \\mu + \\sigma)$?\n",
    "\n",
    "$P(160 < X < 180)$"
   ]
  },
  {
   "cell_type": "code",
   "execution_count": 220,
   "metadata": {},
   "outputs": [
    {
     "data": {
      "text/plain": [
       "0.6826894921370859"
      ]
     },
     "execution_count": 220,
     "metadata": {},
     "output_type": "execute_result"
    }
   ],
   "source": [
    "my_normal.cdf(180) - my_normal.cdf(160)"
   ]
  },
  {
   "cell_type": "code",
   "execution_count": 128,
   "metadata": {
    "lang": "en"
   },
   "outputs": [],
   "source": [
    "# LET'S PAINT THIS RANGE"
   ]
  },
  {
   "cell_type": "code",
   "execution_count": 221,
   "metadata": {},
   "outputs": [
    {
     "data": {
      "text/plain": [
       "[<matplotlib.lines.Line2D at 0x7f9bf7c22c40>]"
      ]
     },
     "execution_count": 221,
     "metadata": {},
     "output_type": "execute_result"
    },
    {
     "data": {
      "image/png": "[encoded data removed]",
      "text/plain": [
       "<Figure size 1152x648 with 1 Axes>"
      ]
     },
     "metadata": {},
     "output_type": "display_data"
    }
   ],
   "source": [
    "x = np.linspace(140, 200, 100)\n",
    "y = my_normal.pdf(x)\n",
    "fill_x = np.linspace(160, 180, 100)\n",
    "plt.fill_between(fill_x, my_normal.pdf(fill_x),color='r')\n",
    "plt.text(165, 0.02, \"0.682\", size=15)\n",
    "plt.plot(x,y)"
   ]
  },
  {
   "cell_type": "code",
   "execution_count": 224,
   "metadata": {},
   "outputs": [
    {
     "data": {
      "text/plain": [
       "[<matplotlib.lines.Line2D at 0x7f9bf9a4ebe0>]"
      ]
     },
     "execution_count": 224,
     "metadata": {},
     "output_type": "execute_result"
    },
    {
     "data": {
      "image/png": "[encoded data removed]",
      "text/plain": [
       "<Figure size 1152x648 with 1 Axes>"
      ]
     },
     "metadata": {},
     "output_type": "display_data"
    }
   ],
   "source": [
    "# Tried to fill three areas at once: https://matplotlib.org/stable/api/_as_gen/matplotlib.pyplot.fill_between.html\n",
    "x = np.linspace(140, 200, 100)\n",
    "y = my_normal.pdf(x)\n",
    "\n",
    "fill_x = np.linspace(160, 180, 100)\n",
    "fill_x_2 = np.linspace(140, 160, 100)\n",
    "fill_x_3 = np.linspace(180, 200, 100)\n",
    "\n",
    "plt.fill_between(fill_x, my_normal.pdf(fill_x),color='r')\n",
    "# plt.fill_between(fill_x, my_normal.pdf(fill_x),color='g')\n",
    "# plt.fill_between(fill_x_2, my_normal.pdf(fill_x),color='g')\n",
    "# plt.fill_between(fill_x_3, my_normal.pdf(fill_x),color='b')\n",
    "\n",
    "\n",
    "plt.text(165, 0.02, \"0.682\", size=15)\n",
    "plt.plot(x,y)"
   ]
  },
  {
   "cell_type": "markdown",
   "metadata": {
    "lang": "en"
   },
   "source": [
    "What is the proportion of people in the interval ($\\mu - 3\\sigma, \\mu + 3\\sigma)$?"
   ]
  },
  {
   "cell_type": "code",
   "execution_count": 130,
   "metadata": {},
   "outputs": [
    {
     "data": {
      "text/plain": [
       "170.0"
      ]
     },
     "execution_count": 130,
     "metadata": {},
     "output_type": "execute_result"
    }
   ],
   "source": [
    "my_normal.mean()"
   ]
  },
  {
   "cell_type": "code",
   "execution_count": 131,
   "metadata": {},
   "outputs": [
    {
     "data": {
      "text/plain": [
       "10.0"
      ]
     },
     "execution_count": 131,
     "metadata": {},
     "output_type": "execute_result"
    }
   ],
   "source": [
    "my_normal.std()"
   ]
  },
  {
   "cell_type": "markdown",
   "metadata": {
    "lang": "en"
   },
   "source": [
    "In a normal distribution, this is ALWAYS true."
   ]
  },
  {
   "cell_type": "markdown",
   "metadata": {},
   "source": [
    "<img src=\"https://miro.medium.com/max/700/1*IZ2II2HYKeoMrdLU5jW6Dw.png\" width=800>"
   ]
  },
  {
   "cell_type": "markdown",
   "metadata": {
    "lang": "en"
   },
   "source": [
    "How do you interpret this... we repeat ourselves a bit:\n",
    "\n",
    "Australian lizards measure:\n",
    "- Average 6.2\n",
    "- Standard deviation 1\n",
    "\n",
    "**Means:**\n",
    "- Between 5.2 and 7.2 are 68% of the lizards\n",
    "- Between 4.2 and 8.2 are 95.45% of the lizards\n",
    "- Between 3.2 and 9.2 are 99.73% of the lizards"
   ]
  },
  {
   "cell_type": "markdown",
   "metadata": {
    "lang": "en"
   },
   "source": [
    "#### Percent point function (PPF)\n",
    "Do we remember how this is interpreted?"
   ]
  },
  {
   "cell_type": "code",
   "execution_count": 229,
   "metadata": {},
   "outputs": [
    {
     "data": {
      "text/plain": [
       "178.41621233572914"
      ]
     },
     "execution_count": 229,
     "metadata": {},
     "output_type": "execute_result"
    }
   ],
   "source": [
    "my_normal.ppf(0.8)"
   ]
  },
  {
   "cell_type": "code",
   "execution_count": 230,
   "metadata": {},
   "outputs": [
    {
     "data": {
      "text/plain": [
       "0.8"
      ]
     },
     "execution_count": 230,
     "metadata": {},
     "output_type": "execute_result"
    }
   ],
   "source": [
    "my_normal.cdf(178.41621233572914)"
   ]
  },
  {
   "cell_type": "code",
   "execution_count": 134,
   "metadata": {},
   "outputs": [
    {
     "data": {
      "text/plain": [
       "170.0"
      ]
     },
     "execution_count": 134,
     "metadata": {},
     "output_type": "execute_result"
    }
   ],
   "source": [
    "my_normal.ppf(0.5)"
   ]
  },
  {
   "cell_type": "markdown",
   "metadata": {
    "lang": "en"
   },
   "source": [
    "Basically it is the [Quantile Function](https://es.wikipedia.org/wiki/Funci%C3%B3n_cuantil), it gives us the inverse and tells us the percentile."
   ]
  },
  {
   "cell_type": "markdown",
   "metadata": {
    "lang": "en"
   },
   "source": [
    "* *CDF(height) = gives us the probability of measuring less than that height\n",
    "* *PPF(probability) = gives us the heightº"
   ]
  },
  {
   "cell_type": "markdown",
   "metadata": {
    "lang": "en"
   },
   "source": [
    "What height is such that 80% of the people are shorter than someone?"
   ]
  },
  {
   "cell_type": "code",
   "execution_count": 135,
   "metadata": {},
   "outputs": [
    {
     "data": {
      "text/plain": [
       "178.41621233572914"
      ]
     },
     "execution_count": 135,
     "metadata": {},
     "output_type": "execute_result"
    }
   ],
   "source": [
    "my_normal.ppf(0.8)"
   ]
  },
  {
   "cell_type": "markdown",
   "metadata": {
    "lang": "en"
   },
   "source": [
    "### Other continuous probability distributions"
   ]
  },
  {
   "cell_type": "markdown",
   "metadata": {
    "lang": "en"
   },
   "source": [
    "* Student's $t$ distribution\n",
    "* Snedecor's $F$ distribution\n",
    "* Chi square distribution"
   ]
  },
  {
   "cell_type": "markdown",
   "metadata": {
    "lang": "en"
   },
   "source": [
    "## Summary\n"
   ]
  },
  {
   "cell_type": "markdown",
   "metadata": {
    "lang": "en"
   },
   "source": [
    "* Random variables model random experiments\n",
    "* We only need a sample space and probabilities to define a random experiment\n",
    "* `.rvs` returns a sample\n",
    "* `.pmf` returns the probability mass function (discrete distributions)\n",
    "* `.pdf` returns the probability density function (continuous distributions)\n",
    "* `.cdf` returns the mass/cumulative distribution function (discrete/continuous)\n",
    "* `.ppf` returns the inverse cumulative distribution function (discrete/continuous). Also known as quantile function function"
   ]
  },
  {
   "cell_type": "markdown",
   "metadata": {},
   "source": [
    "- Discrete & Continuous PROBABILITY distributions\n",
    "- Frequency vs. probability\n",
    "- We can create the theorical metrics for a given distribution\n",
    "- We can create a sample of that theoretical one\n",
    "- We can have functions that will summarize the info of the distributions: pmf (discrete), pdf (continous), cdf (for both), ppf \n",
    "- Different types: Uniform, exponential, Normal (there's more)\n",
    "- We will most likely be using the cdf (cumulative) of the pdf for hypothesis testing in the future\n",
    "- The area below the curve will be 1\n",
    "- Exponential (continuous) vs Poisson (discrete)\n",
    "- Plotting: distribution of values & distribution of probabilities\n",
    "- Law of big numbers: different sizes\n",
    "- More observations bring the sample closer to the theoretical distribution"
   ]
  }
 ],
 "metadata": {
  "colab": {
   "collapsed_sections": [],
   "name": "ProbabilityDistribution (1).ipynb",
   "provenance": []
  },
  "kernelspec": {
   "display_name": "ironhack",
   "language": "python",
   "name": "ironhack"
  },
  "language_info": {
   "codemirror_mode": {
    "name": "ipython",
    "version": 3
   },
   "file_extension": ".py",
   "mimetype": "text/x-python",
   "name": "python",
   "nbconvert_exporter": "python",
   "pygments_lexer": "ipython3",
   "version": "3.8.13"
  },
  "nbTranslate": {
   "displayLangs": [
    "en",
    "es"
   ],
   "hotkey": "alt-a",
   "langInMainMenu": true,
   "sourceLang": "es",
   "targetLang": "en",
   "useGoogleTranslate": true
  },
  "toc": {
   "base_numbering": 1,
   "nav_menu": {},
   "number_sections": true,
   "sideBar": true,
   "skip_h1_title": true,
   "title_cell": "Table of Contents",
   "title_sidebar": "Contents",
   "toc_cell": true,
   "toc_position": {
    "height": "calc(100% - 180px)",
    "left": "10px",
    "top": "150px",
    "width": "258.835px"
   },
   "toc_section_display": true,
   "toc_window_display": true
  },
  "varInspector": {
   "cols": {
    "lenName": 16,
    "lenType": 16,
    "lenVar": 40
   },
   "kernels_config": {
    "python": {
     "delete_cmd_postfix": "",
     "delete_cmd_prefix": "del ",
     "library": "var_list.py",
     "varRefreshCmd": "print(var_dic_list())"
    },
    "r": {
     "delete_cmd_postfix": ") ",
     "delete_cmd_prefix": "rm(",
     "library": "var_list.r",
     "varRefreshCmd": "cat(var_dic_list()) "
    }
   },
   "types_to_exclude": [
    "module",
    "function",
    "builtin_function_or_method",
    "instance",
    "_Feature"
   ],
   "window_display": false
  }
 },
 "nbformat": 4,
 "nbformat_minor": 1
}
