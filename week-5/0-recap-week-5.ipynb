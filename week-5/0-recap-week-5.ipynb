{
 "cells": [
  {
   "cell_type": "markdown",
   "id": "fb4e1309",
   "metadata": {},
   "source": [
    "# ETL & EDA: Extraction-Transformation-Loading &  Exploratory data analysis\n",
    "\n",
    "- **Bash**: managing OS\n",
    "- **Python**: managing _anything_ \n",
    "    - Functional & OOP\n",
    "    - Data wrangling/cleaning: **pandas**\n",
    "    - Error handling: defensive programming\n",
    "   \n",
    "- **Git & github**: version management (of anything too)\n",
    "\n",
    "\n",
    "- **Databases**: relational and not relational DBs: SQL & MongoDB\n",
    "    - Creating, Reading, Updating, Deleting\n",
    "    \n",
    "- **Extraction**: \n",
    "    - Web scraping (and little bit of HTML)\n",
    "    - API calls\n",
    "    - MongoDB\n",
    "    - SQL\n",
    "    \n",
    "- **Visualization**: \n",
    "    - Matplotlib\n",
    "    - Seaborn\n",
    "    - Plotly\n",
    "    - Folium\n",
    "    - Carto\n",
    "    - Tableau*"
   ]
  },
  {
   "cell_type": "markdown",
   "id": "54fd7351",
   "metadata": {},
   "source": [
    "# Other related skills\n",
    "\n",
    "**Authentication**\n",
    "- Using `.env` for environmental variables\n",
    "- Using tokens for Auth\n",
    "\n",
    "**Projects & quality of code**\n",
    "- Project organization: `src`, jupyter notebooks, `.gitignore`, input, output, etc\n",
    "- Code encapsulation: general but specific functions\n",
    "- Modules (importing your own functions)\n",
    "\n",
    "**Reporting**\n",
    "- Documentation: comments & docstrings\n",
    "- `README.md` details"
   ]
  },
  {
   "cell_type": "code",
   "execution_count": 240,
   "id": "d9f7ef31",
   "metadata": {},
   "outputs": [],
   "source": [
    "# Data scientists / analysts"
   ]
  },
  {
   "cell_type": "markdown",
   "id": "4a09d29f",
   "metadata": {},
   "source": [
    "![](https://imageio.forbes.com/blogs-images/gilpress/files/2016/03/Time-1200x511.jpg?format=jpg&width=960)"
   ]
  }
 ],
 "metadata": {
  "kernelspec": {
   "display_name": "ironhack",
   "language": "python",
   "name": "ironhack"
  },
  "language_info": {
   "codemirror_mode": {
    "name": "ipython",
    "version": 3
   },
   "file_extension": ".py",
   "mimetype": "text/x-python",
   "name": "python",
   "nbconvert_exporter": "python",
   "pygments_lexer": "ipython3",
   "version": "3.8.13"
  },
  "nbTranslate": {
   "displayLangs": [
    "en",
    "es"
   ],
   "hotkey": "alt-a",
   "langInMainMenu": true,
   "sourceLang": "es",
   "targetLang": "en",
   "useGoogleTranslate": true
  },
  "toc": {
   "base_numbering": 1,
   "nav_menu": {},
   "number_sections": true,
   "sideBar": true,
   "skip_h1_title": false,
   "title_cell": "Table of Contents",
   "title_sidebar": "Contents",
   "toc_cell": false,
   "toc_position": {},
   "toc_section_display": true,
   "toc_window_display": false
  }
 },
 "nbformat": 4,
 "nbformat_minor": 5
}
